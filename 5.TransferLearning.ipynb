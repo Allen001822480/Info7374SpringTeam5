{
  "nbformat": 4,
  "nbformat_minor": 0,
  "metadata": {
    "colab": {
      "name": "TransferLearning.ipynb",
      "version": "0.3.2",
      "provenance": [],
      "include_colab_link": true
    },
    "kernelspec": {
      "name": "python3",
      "display_name": "Python 3"
    },
    "accelerator": "GPU"
  },
  "cells": [
    {
      "cell_type": "markdown",
      "metadata": {
        "id": "view-in-github",
        "colab_type": "text"
      },
      "source": [
        "<a href=\"https://colab.research.google.com/github/Allen001822480/Info7374SpringTeam5/blob/Assignment2/5.TransferLearning.ipynb\" target=\"_parent\"><img src=\"https://colab.research.google.com/assets/colab-badge.svg\" alt=\"Open In Colab\"/></a>"
      ]
    },
    {
      "metadata": {
        "id": "NTqYmCb0Hj3e",
        "colab_type": "code",
        "outputId": "ef2d70b7-438e-4ff8-e97a-fa71206c90d2",
        "colab": {
          "base_uri": "https://localhost:8080/",
          "height": 541
        }
      },
      "cell_type": "code",
      "source": [
        "!pip install keras\n",
        "!pip install tensorflow"
      ],
      "execution_count": 0,
      "outputs": [
        {
          "output_type": "stream",
          "text": [
            "Requirement already satisfied: keras in /usr/local/lib/python3.6/dist-packages (2.2.4)\n",
            "Requirement already satisfied: scipy>=0.14 in /usr/local/lib/python3.6/dist-packages (from keras) (1.1.0)\n",
            "Requirement already satisfied: h5py in /usr/local/lib/python3.6/dist-packages (from keras) (2.8.0)\n",
            "Requirement already satisfied: keras-applications>=1.0.6 in /usr/local/lib/python3.6/dist-packages (from keras) (1.0.7)\n",
            "Requirement already satisfied: six>=1.9.0 in /usr/local/lib/python3.6/dist-packages (from keras) (1.11.0)\n",
            "Requirement already satisfied: keras-preprocessing>=1.0.5 in /usr/local/lib/python3.6/dist-packages (from keras) (1.0.9)\n",
            "Requirement already satisfied: numpy>=1.9.1 in /usr/local/lib/python3.6/dist-packages (from keras) (1.14.6)\n",
            "Requirement already satisfied: pyyaml in /usr/local/lib/python3.6/dist-packages (from keras) (3.13)\n",
            "Requirement already satisfied: tensorflow in /usr/local/lib/python3.6/dist-packages (1.13.0rc1)\n",
            "Requirement already satisfied: astor>=0.6.0 in /usr/local/lib/python3.6/dist-packages (from tensorflow) (0.7.1)\n",
            "Requirement already satisfied: six>=1.10.0 in /usr/local/lib/python3.6/dist-packages (from tensorflow) (1.11.0)\n",
            "Requirement already satisfied: keras-preprocessing>=1.0.5 in /usr/local/lib/python3.6/dist-packages (from tensorflow) (1.0.9)\n",
            "Requirement already satisfied: numpy>=1.13.3 in /usr/local/lib/python3.6/dist-packages (from tensorflow) (1.14.6)\n",
            "Requirement already satisfied: grpcio>=1.8.6 in /usr/local/lib/python3.6/dist-packages (from tensorflow) (1.15.0)\n",
            "Requirement already satisfied: termcolor>=1.1.0 in /usr/local/lib/python3.6/dist-packages (from tensorflow) (1.1.0)\n",
            "Requirement already satisfied: absl-py>=0.1.6 in /usr/local/lib/python3.6/dist-packages (from tensorflow) (0.7.0)\n",
            "Requirement already satisfied: tensorboard<1.13.0,>=1.12.0 in /usr/local/lib/python3.6/dist-packages (from tensorflow) (1.12.2)\n",
            "Requirement already satisfied: gast>=0.2.0 in /usr/local/lib/python3.6/dist-packages (from tensorflow) (0.2.2)\n",
            "Requirement already satisfied: wheel>=0.26 in /usr/local/lib/python3.6/dist-packages (from tensorflow) (0.33.0)\n",
            "Requirement already satisfied: protobuf>=3.6.1 in /usr/local/lib/python3.6/dist-packages (from tensorflow) (3.6.1)\n",
            "Requirement already satisfied: tensorflow-estimator<1.14.0rc0,>=1.13.0rc0 in /usr/local/lib/python3.6/dist-packages (from tensorflow) (1.13.0rc0)\n",
            "Requirement already satisfied: keras-applications>=1.0.6 in /usr/local/lib/python3.6/dist-packages (from tensorflow) (1.0.7)\n",
            "Requirement already satisfied: werkzeug>=0.11.10 in /usr/local/lib/python3.6/dist-packages (from tensorboard<1.13.0,>=1.12.0->tensorflow) (0.14.1)\n",
            "Requirement already satisfied: markdown>=2.6.8 in /usr/local/lib/python3.6/dist-packages (from tensorboard<1.13.0,>=1.12.0->tensorflow) (3.0.1)\n",
            "Requirement already satisfied: setuptools in /usr/local/lib/python3.6/dist-packages (from protobuf>=3.6.1->tensorflow) (40.8.0)\n",
            "Requirement already satisfied: mock>=2.0.0 in /usr/local/lib/python3.6/dist-packages (from tensorflow-estimator<1.14.0rc0,>=1.13.0rc0->tensorflow) (2.0.0)\n",
            "Requirement already satisfied: h5py in /usr/local/lib/python3.6/dist-packages (from keras-applications>=1.0.6->tensorflow) (2.8.0)\n",
            "Requirement already satisfied: pbr>=0.11 in /usr/local/lib/python3.6/dist-packages (from mock>=2.0.0->tensorflow-estimator<1.14.0rc0,>=1.13.0rc0->tensorflow) (5.1.2)\n"
          ],
          "name": "stdout"
        }
      ]
    },
    {
      "metadata": {
        "id": "4sJIONlvHj3i",
        "colab_type": "code",
        "outputId": "c71cf700-8ac9-4cef-ceb5-f68e71d7c123",
        "colab": {
          "base_uri": "https://localhost:8080/",
          "height": 109
        }
      },
      "cell_type": "code",
      "source": [
        "from keras.models import model_from_json\n",
        "# load json and create model\n",
        "json_file = open('model.json', 'r')\n",
        "loaded_model_json = json_file.read()\n",
        "json_file.close()\n",
        "loaded_model = model_from_json(loaded_model_json)\n",
        "# load weights into new model\n",
        "loaded_model.load_weights(\"model.h5\")\n",
        "print(\"Loaded model from disk\")"
      ],
      "execution_count": 12,
      "outputs": [
        {
          "output_type": "stream",
          "text": [
            "WARNING:tensorflow:From /usr/local/lib/python3.6/dist-packages/keras/backend/tensorflow_backend.py:3445: calling dropout (from tensorflow.python.ops.nn_ops) with keep_prob is deprecated and will be removed in a future version.\n",
            "Instructions for updating:\n",
            "Please use `rate` instead of `keep_prob`. Rate should be set to `rate = 1 - keep_prob`.\n",
            "Loaded model from disk\n"
          ],
          "name": "stdout"
        }
      ]
    },
    {
      "metadata": {
        "id": "EwwY9nijHj3l",
        "colab_type": "code",
        "outputId": "ad3a2991-ac01-4ef5-f9fc-7d1a196bf2db",
        "colab": {
          "base_uri": "https://localhost:8080/",
          "height": 1007
        }
      },
      "cell_type": "code",
      "source": [
        "for i in range(6):\n",
        "    loaded_model.pop()\n",
        "loaded_model.summary()"
      ],
      "execution_count": 13,
      "outputs": [
        {
          "output_type": "stream",
          "text": [
            "_________________________________________________________________\n",
            "Layer (type)                 Output Shape              Param #   \n",
            "=================================================================\n",
            "conv2d_1 (Conv2D)            (None, 32, 32, 32)        896       \n",
            "_________________________________________________________________\n",
            "activation_1 (Activation)    (None, 32, 32, 32)        0         \n",
            "_________________________________________________________________\n",
            "batch_normalization_1 (Batch (None, 32, 32, 32)        128       \n",
            "_________________________________________________________________\n",
            "conv2d_2 (Conv2D)            (None, 30, 30, 32)        9248      \n",
            "_________________________________________________________________\n",
            "activation_2 (Activation)    (None, 30, 30, 32)        0         \n",
            "_________________________________________________________________\n",
            "batch_normalization_2 (Batch (None, 30, 30, 32)        128       \n",
            "_________________________________________________________________\n",
            "max_pooling2d_1 (MaxPooling2 (None, 15, 15, 32)        0         \n",
            "_________________________________________________________________\n",
            "spatial_dropout2d_1 (Spatial (None, 15, 15, 32)        0         \n",
            "_________________________________________________________________\n",
            "conv2d_3 (Conv2D)            (None, 15, 15, 64)        18496     \n",
            "_________________________________________________________________\n",
            "activation_3 (Activation)    (None, 15, 15, 64)        0         \n",
            "_________________________________________________________________\n",
            "batch_normalization_3 (Batch (None, 15, 15, 64)        256       \n",
            "_________________________________________________________________\n",
            "conv2d_4 (Conv2D)            (None, 13, 13, 64)        36928     \n",
            "_________________________________________________________________\n",
            "activation_4 (Activation)    (None, 13, 13, 64)        0         \n",
            "_________________________________________________________________\n",
            "batch_normalization_4 (Batch (None, 13, 13, 64)        256       \n",
            "_________________________________________________________________\n",
            "max_pooling2d_2 (MaxPooling2 (None, 6, 6, 64)          0         \n",
            "_________________________________________________________________\n",
            "spatial_dropout2d_2 (Spatial (None, 6, 6, 64)          0         \n",
            "_________________________________________________________________\n",
            "conv2d_5 (Conv2D)            (None, 6, 6, 128)         73856     \n",
            "_________________________________________________________________\n",
            "activation_5 (Activation)    (None, 6, 6, 128)         0         \n",
            "_________________________________________________________________\n",
            "batch_normalization_5 (Batch (None, 6, 6, 128)         512       \n",
            "_________________________________________________________________\n",
            "conv2d_6 (Conv2D)            (None, 4, 4, 128)         147584    \n",
            "_________________________________________________________________\n",
            "activation_6 (Activation)    (None, 4, 4, 128)         0         \n",
            "_________________________________________________________________\n",
            "batch_normalization_6 (Batch (None, 4, 4, 128)         512       \n",
            "_________________________________________________________________\n",
            "max_pooling2d_3 (MaxPooling2 (None, 2, 2, 128)         0         \n",
            "_________________________________________________________________\n",
            "dropout_1 (Dropout)          (None, 2, 2, 128)         0         \n",
            "=================================================================\n",
            "Total params: 288,800\n",
            "Trainable params: 287,904\n",
            "Non-trainable params: 896\n",
            "_________________________________________________________________\n"
          ],
          "name": "stdout"
        }
      ]
    },
    {
      "metadata": {
        "id": "vk3FF8kjHj3o",
        "colab_type": "code",
        "outputId": "d88ada65-1a04-464e-a6cb-63836ac34cf9",
        "colab": {
          "base_uri": "https://localhost:8080/",
          "height": 35
        }
      },
      "cell_type": "code",
      "source": [
        "from PIL import Image\n",
        "from sklearn.model_selection import train_test_split\n",
        "import numpy as np\n",
        "import os\n",
        "import keras\n",
        "import pandas as pd\n",
        "\n",
        "seed = 10\n",
        "\n",
        "def read_img(img_name):\n",
        "    img64 = Image.open(img_name).convert('RGB')\n",
        "    img32 = img64.resize((32, 32),Image.ANTIALIAS)\n",
        "    data = np.array(img32)\n",
        "    return data\n",
        "\n",
        "images = []\n",
        "labels = []\n",
        "dir = 'tiny-imagenet-200/train/'\n",
        "i = 0\n",
        "for folder in os.listdir(dir):\n",
        "    folderpath = dir + folder +'/images/'\n",
        "    for file in os.listdir(folderpath):\n",
        "        if file.endswith('.JPEG'):\n",
        "            filedir = folderpath + file\n",
        "            images.append(read_img(filedir))\n",
        "            labels.append(i)\n",
        "    i = i+1\n",
        "\n",
        "np.random.seed(seed)\n",
        "num_classes = 200\n",
        "x = np.array(images)\n",
        "y = np.array(labels)\n",
        "y = keras.utils.to_categorical(y, num_classes)\n",
        "x_train, x_test, y_train, y_test = train_test_split(x, y, test_size=0.3, random_state=seed)"
      ],
      "execution_count": 0,
      "outputs": [
        {
          "output_type": "stream",
          "text": [
            "Using TensorFlow backend.\n"
          ],
          "name": "stderr"
        }
      ]
    },
    {
      "metadata": {
        "id": "rROqqWU4Hj3s",
        "colab_type": "code",
        "outputId": "c77959ae-8519-4aac-ab12-004f79dfb3c4",
        "colab": {
          "base_uri": "https://localhost:8080/",
          "height": 35
        }
      },
      "cell_type": "code",
      "source": [
        "extracted_features = loaded_model.predict(x_train)\n",
        "print(extracted_features.shape)"
      ],
      "execution_count": 0,
      "outputs": [
        {
          "output_type": "stream",
          "text": [
            "(70000, 2, 2, 128)\n"
          ],
          "name": "stdout"
        }
      ]
    },
    {
      "metadata": {
        "id": "HS3gdMuEsS51",
        "colab_type": "code",
        "outputId": "a64ca29f-981f-4d3d-ab8c-65e33d439ead",
        "colab": {
          "base_uri": "https://localhost:8080/",
          "height": 35
        }
      },
      "cell_type": "code",
      "source": [
        "validation_features = loaded_model.predict(x_test)\n",
        "print(validation_features.shape)"
      ],
      "execution_count": 0,
      "outputs": [
        {
          "output_type": "stream",
          "text": [
            "(30000, 2, 2, 128)\n"
          ],
          "name": "stdout"
        }
      ]
    },
    {
      "metadata": {
        "id": "51nZ2lMRYxDq",
        "colab_type": "code",
        "outputId": "efc212ea-ae56-489b-b668-e9fda797038d",
        "colab": {
          "base_uri": "https://localhost:8080/",
          "height": 35
        }
      },
      "cell_type": "code",
      "source": [
        "print(y_test.shape)"
      ],
      "execution_count": 0,
      "outputs": [
        {
          "output_type": "stream",
          "text": [
            "(30000, 200)\n"
          ],
          "name": "stdout"
        }
      ]
    },
    {
      "metadata": {
        "id": "G3tasBelHj3y",
        "colab_type": "code",
        "colab": {}
      },
      "cell_type": "code",
      "source": [
        "from keras import models\n",
        "from keras import optimizers\n",
        "from keras.layers import Dense, Dropout,Conv2D, Activation, Flatten, BatchNormalization, MaxPooling2D\n",
        "\n",
        "model = models.Sequential()\n",
        "model.add(Flatten())\n",
        "model.add(Dense(512))\n",
        "model.add(Activation('relu'))\n",
        "model.add(Dropout(0.5))\n",
        "model.add(Dense(num_classes))\n",
        "model.add(Activation('softmax'))"
      ],
      "execution_count": 0,
      "outputs": []
    },
    {
      "metadata": {
        "id": "FNG8ML-ZHj31",
        "colab_type": "code",
        "outputId": "5310d419-7a7b-408e-f4b9-8a1b704b5900",
        "colab": {
          "base_uri": "https://localhost:8080/",
          "height": 3709
        }
      },
      "cell_type": "code",
      "source": [
        "model.compile(optimizer=optimizers.RMSprop(lr=2e-4),\n",
        "              loss='categorical_crossentropy',\n",
        "              metrics=['acc'])\n",
        "\n",
        "history = model.fit(extracted_features,\n",
        "                    y_train,\n",
        "                    epochs=100,\n",
        "                    batch_size=32,\n",
        "                    validation_data=(validation_features,y_test))"
      ],
      "execution_count": 0,
      "outputs": [
        {
          "output_type": "stream",
          "text": [
            "WARNING:tensorflow:From /usr/local/lib/python3.6/dist-packages/tensorflow/python/ops/math_ops.py:3066: to_int32 (from tensorflow.python.ops.math_ops) is deprecated and will be removed in a future version.\n",
            "Instructions for updating:\n",
            "Use tf.cast instead.\n",
            "Train on 70000 samples, validate on 30000 samples\n",
            "Epoch 1/100\n",
            "70000/70000 [==============================] - 12s 169us/step - loss: 5.1125 - acc: 0.0322 - val_loss: 4.8137 - val_acc: 0.0561\n",
            "Epoch 2/100\n",
            "70000/70000 [==============================] - 11s 156us/step - loss: 4.6197 - acc: 0.0656 - val_loss: 4.4755 - val_acc: 0.0790\n",
            "Epoch 3/100\n",
            "70000/70000 [==============================] - 11s 156us/step - loss: 4.4128 - acc: 0.0809 - val_loss: 4.3446 - val_acc: 0.0911\n",
            "Epoch 4/100\n",
            "70000/70000 [==============================] - 11s 156us/step - loss: 4.3172 - acc: 0.0944 - val_loss: 4.2636 - val_acc: 0.1017\n",
            "Epoch 5/100\n",
            "70000/70000 [==============================] - 11s 157us/step - loss: 4.2387 - acc: 0.1054 - val_loss: 4.1993 - val_acc: 0.1108\n",
            "Epoch 6/100\n",
            "70000/70000 [==============================] - 11s 157us/step - loss: 4.1791 - acc: 0.1141 - val_loss: 4.1440 - val_acc: 0.1214\n",
            "Epoch 7/100\n",
            "70000/70000 [==============================] - 11s 156us/step - loss: 4.1280 - acc: 0.1219 - val_loss: 4.0994 - val_acc: 0.1281\n",
            "Epoch 8/100\n",
            "70000/70000 [==============================] - 11s 158us/step - loss: 4.0875 - acc: 0.1277 - val_loss: 4.0648 - val_acc: 0.1330\n",
            "Epoch 9/100\n",
            "70000/70000 [==============================] - 11s 162us/step - loss: 4.0510 - acc: 0.1335 - val_loss: 4.0334 - val_acc: 0.1395\n",
            "Epoch 10/100\n",
            "70000/70000 [==============================] - 11s 159us/step - loss: 4.0231 - acc: 0.1388 - val_loss: 4.0120 - val_acc: 0.1417\n",
            "Epoch 11/100\n",
            "70000/70000 [==============================] - 11s 158us/step - loss: 3.9971 - acc: 0.1421 - val_loss: 3.9901 - val_acc: 0.1453\n",
            "Epoch 12/100\n",
            "70000/70000 [==============================] - 11s 159us/step - loss: 3.9746 - acc: 0.1458 - val_loss: 3.9726 - val_acc: 0.1471\n",
            "Epoch 13/100\n",
            "70000/70000 [==============================] - 11s 159us/step - loss: 3.9538 - acc: 0.1517 - val_loss: 3.9559 - val_acc: 0.1509\n",
            "Epoch 14/100\n",
            "70000/70000 [==============================] - 11s 156us/step - loss: 3.9338 - acc: 0.1528 - val_loss: 3.9412 - val_acc: 0.1534\n",
            "Epoch 15/100\n",
            "70000/70000 [==============================] - 11s 157us/step - loss: 3.9148 - acc: 0.1579 - val_loss: 3.9300 - val_acc: 0.1554\n",
            "Epoch 16/100\n",
            "70000/70000 [==============================] - 11s 158us/step - loss: 3.8991 - acc: 0.1593 - val_loss: 3.9172 - val_acc: 0.1575\n",
            "Epoch 17/100\n",
            "70000/70000 [==============================] - 11s 156us/step - loss: 3.8830 - acc: 0.1625 - val_loss: 3.9067 - val_acc: 0.1594\n",
            "Epoch 18/100\n",
            "70000/70000 [==============================] - 11s 157us/step - loss: 3.8627 - acc: 0.1656 - val_loss: 3.8992 - val_acc: 0.1599\n",
            "Epoch 19/100\n",
            "70000/70000 [==============================] - 11s 157us/step - loss: 3.8535 - acc: 0.1670 - val_loss: 3.8885 - val_acc: 0.1629\n",
            "Epoch 20/100\n",
            "70000/70000 [==============================] - 11s 159us/step - loss: 3.8413 - acc: 0.1683 - val_loss: 3.8808 - val_acc: 0.1653\n",
            "Epoch 21/100\n",
            "70000/70000 [==============================] - 11s 159us/step - loss: 3.8276 - acc: 0.1717 - val_loss: 3.8723 - val_acc: 0.1673\n",
            "Epoch 22/100\n",
            "70000/70000 [==============================] - 11s 161us/step - loss: 3.8125 - acc: 0.1750 - val_loss: 3.8686 - val_acc: 0.1670\n",
            "Epoch 23/100\n",
            "70000/70000 [==============================] - 11s 160us/step - loss: 3.8016 - acc: 0.1762 - val_loss: 3.8621 - val_acc: 0.1685\n",
            "Epoch 24/100\n",
            "70000/70000 [==============================] - 11s 159us/step - loss: 3.7901 - acc: 0.1784 - val_loss: 3.8564 - val_acc: 0.1711\n",
            "Epoch 25/100\n",
            "70000/70000 [==============================] - 11s 159us/step - loss: 3.7761 - acc: 0.1802 - val_loss: 3.8522 - val_acc: 0.1714\n",
            "Epoch 26/100\n",
            "70000/70000 [==============================] - 11s 162us/step - loss: 3.7710 - acc: 0.1798 - val_loss: 3.8473 - val_acc: 0.1721\n",
            "Epoch 27/100\n",
            "70000/70000 [==============================] - 11s 159us/step - loss: 3.7591 - acc: 0.1826 - val_loss: 3.8427 - val_acc: 0.1738\n",
            "Epoch 28/100\n",
            "70000/70000 [==============================] - 11s 159us/step - loss: 3.7491 - acc: 0.1857 - val_loss: 3.8390 - val_acc: 0.1749\n",
            "Epoch 29/100\n",
            "70000/70000 [==============================] - 11s 159us/step - loss: 3.7407 - acc: 0.1863 - val_loss: 3.8347 - val_acc: 0.1751\n",
            "Epoch 30/100\n",
            "70000/70000 [==============================] - 11s 159us/step - loss: 3.7325 - acc: 0.1884 - val_loss: 3.8303 - val_acc: 0.1753\n",
            "Epoch 31/100\n",
            "70000/70000 [==============================] - 11s 158us/step - loss: 3.7248 - acc: 0.1887 - val_loss: 3.8309 - val_acc: 0.1762\n",
            "Epoch 32/100\n",
            "70000/70000 [==============================] - 11s 157us/step - loss: 3.7139 - acc: 0.1898 - val_loss: 3.8269 - val_acc: 0.1776\n",
            "Epoch 33/100\n",
            "70000/70000 [==============================] - 11s 157us/step - loss: 3.7073 - acc: 0.1933 - val_loss: 3.8249 - val_acc: 0.1773\n",
            "Epoch 34/100\n",
            "70000/70000 [==============================] - 11s 157us/step - loss: 3.6982 - acc: 0.1936 - val_loss: 3.8219 - val_acc: 0.1782\n",
            "Epoch 35/100\n",
            "70000/70000 [==============================] - 11s 158us/step - loss: 3.6907 - acc: 0.1945 - val_loss: 3.8196 - val_acc: 0.1773\n",
            "Epoch 36/100\n",
            "70000/70000 [==============================] - 11s 159us/step - loss: 3.6828 - acc: 0.1948 - val_loss: 3.8186 - val_acc: 0.1783\n",
            "Epoch 37/100\n",
            "70000/70000 [==============================] - 11s 161us/step - loss: 3.6715 - acc: 0.1967 - val_loss: 3.8178 - val_acc: 0.1796\n",
            "Epoch 38/100\n",
            "70000/70000 [==============================] - 11s 158us/step - loss: 3.6612 - acc: 0.1997 - val_loss: 3.8155 - val_acc: 0.1799\n",
            "Epoch 39/100\n",
            "70000/70000 [==============================] - 11s 157us/step - loss: 3.6589 - acc: 0.1990 - val_loss: 3.8151 - val_acc: 0.1802\n",
            "Epoch 40/100\n",
            "70000/70000 [==============================] - 11s 157us/step - loss: 3.6514 - acc: 0.2020 - val_loss: 3.8142 - val_acc: 0.1803\n",
            "Epoch 41/100\n",
            "70000/70000 [==============================] - 11s 156us/step - loss: 3.6419 - acc: 0.2025 - val_loss: 3.8138 - val_acc: 0.1806\n",
            "Epoch 42/100\n",
            "70000/70000 [==============================] - 11s 157us/step - loss: 3.6330 - acc: 0.2038 - val_loss: 3.8110 - val_acc: 0.1809\n",
            "Epoch 43/100\n",
            "70000/70000 [==============================] - 11s 158us/step - loss: 3.6242 - acc: 0.2047 - val_loss: 3.8149 - val_acc: 0.1805\n",
            "Epoch 44/100\n",
            "70000/70000 [==============================] - 11s 158us/step - loss: 3.6182 - acc: 0.2057 - val_loss: 3.8118 - val_acc: 0.1823\n",
            "Epoch 45/100\n",
            "70000/70000 [==============================] - 11s 158us/step - loss: 3.6159 - acc: 0.2057 - val_loss: 3.8110 - val_acc: 0.1815\n",
            "Epoch 46/100\n",
            "70000/70000 [==============================] - 11s 158us/step - loss: 3.6070 - acc: 0.2084 - val_loss: 3.8122 - val_acc: 0.1808\n",
            "Epoch 47/100\n",
            "70000/70000 [==============================] - 11s 158us/step - loss: 3.5966 - acc: 0.2091 - val_loss: 3.8127 - val_acc: 0.1817\n",
            "Epoch 48/100\n",
            "70000/70000 [==============================] - 11s 160us/step - loss: 3.5870 - acc: 0.2110 - val_loss: 3.8126 - val_acc: 0.1816\n",
            "Epoch 49/100\n",
            "70000/70000 [==============================] - 11s 159us/step - loss: 3.5864 - acc: 0.2123 - val_loss: 3.8132 - val_acc: 0.1817\n",
            "Epoch 50/100\n",
            "70000/70000 [==============================] - 11s 158us/step - loss: 3.5775 - acc: 0.2126 - val_loss: 3.8118 - val_acc: 0.1827\n",
            "Epoch 51/100\n",
            "70000/70000 [==============================] - 11s 157us/step - loss: 3.5700 - acc: 0.2143 - val_loss: 3.8157 - val_acc: 0.1829\n",
            "Epoch 52/100\n",
            "70000/70000 [==============================] - 11s 159us/step - loss: 3.5635 - acc: 0.2153 - val_loss: 3.8148 - val_acc: 0.1832\n",
            "Epoch 53/100\n",
            "70000/70000 [==============================] - 11s 160us/step - loss: 3.5561 - acc: 0.2185 - val_loss: 3.8141 - val_acc: 0.1834\n",
            "Epoch 54/100\n",
            "70000/70000 [==============================] - 11s 162us/step - loss: 3.5509 - acc: 0.2158 - val_loss: 3.8145 - val_acc: 0.1831\n",
            "Epoch 55/100\n",
            "70000/70000 [==============================] - 11s 159us/step - loss: 3.5474 - acc: 0.2182 - val_loss: 3.8166 - val_acc: 0.1835\n",
            "Epoch 56/100\n",
            "70000/70000 [==============================] - 11s 158us/step - loss: 3.5383 - acc: 0.2192 - val_loss: 3.8156 - val_acc: 0.1836\n",
            "Epoch 57/100\n",
            "70000/70000 [==============================] - 12s 167us/step - loss: 3.5340 - acc: 0.2198 - val_loss: 3.8221 - val_acc: 0.1833\n",
            "Epoch 58/100\n",
            "70000/70000 [==============================] - 12s 170us/step - loss: 3.5281 - acc: 0.2194 - val_loss: 3.8179 - val_acc: 0.1830\n",
            "Epoch 59/100\n",
            "70000/70000 [==============================] - 11s 159us/step - loss: 3.5189 - acc: 0.2219 - val_loss: 3.8199 - val_acc: 0.1830\n",
            "Epoch 60/100\n",
            "70000/70000 [==============================] - 11s 160us/step - loss: 3.5144 - acc: 0.2224 - val_loss: 3.8213 - val_acc: 0.1829\n",
            "Epoch 61/100\n",
            "70000/70000 [==============================] - 11s 161us/step - loss: 3.5142 - acc: 0.2220 - val_loss: 3.8187 - val_acc: 0.1839\n",
            "Epoch 62/100\n",
            "70000/70000 [==============================] - 11s 160us/step - loss: 3.5024 - acc: 0.2254 - val_loss: 3.8275 - val_acc: 0.1837\n",
            "Epoch 63/100\n",
            "70000/70000 [==============================] - 11s 159us/step - loss: 3.4973 - acc: 0.2235 - val_loss: 3.8247 - val_acc: 0.1842\n",
            "Epoch 64/100\n",
            "70000/70000 [==============================] - 11s 160us/step - loss: 3.4887 - acc: 0.2279 - val_loss: 3.8280 - val_acc: 0.1836\n",
            "Epoch 65/100\n",
            "70000/70000 [==============================] - 11s 162us/step - loss: 3.4846 - acc: 0.2267 - val_loss: 3.8247 - val_acc: 0.1831\n",
            "Epoch 66/100\n",
            "70000/70000 [==============================] - 11s 158us/step - loss: 3.4781 - acc: 0.2274 - val_loss: 3.8316 - val_acc: 0.1842\n",
            "Epoch 67/100\n",
            "70000/70000 [==============================] - 11s 159us/step - loss: 3.4735 - acc: 0.2287 - val_loss: 3.8303 - val_acc: 0.1841\n",
            "Epoch 68/100\n",
            "70000/70000 [==============================] - 11s 158us/step - loss: 3.4694 - acc: 0.2305 - val_loss: 3.8301 - val_acc: 0.1829\n",
            "Epoch 69/100\n",
            "70000/70000 [==============================] - 11s 158us/step - loss: 3.4527 - acc: 0.2314 - val_loss: 3.8387 - val_acc: 0.1836\n",
            "Epoch 70/100\n",
            "70000/70000 [==============================] - 11s 159us/step - loss: 3.4587 - acc: 0.2327 - val_loss: 3.8352 - val_acc: 0.1831\n",
            "Epoch 71/100\n",
            "70000/70000 [==============================] - 11s 158us/step - loss: 3.4506 - acc: 0.2330 - val_loss: 3.8399 - val_acc: 0.1831\n",
            "Epoch 72/100\n",
            "70000/70000 [==============================] - 11s 158us/step - loss: 3.4400 - acc: 0.2349 - val_loss: 3.8366 - val_acc: 0.1828\n",
            "Epoch 73/100\n",
            "70000/70000 [==============================] - 11s 158us/step - loss: 3.4388 - acc: 0.2355 - val_loss: 3.8401 - val_acc: 0.1838\n",
            "Epoch 74/100\n",
            "70000/70000 [==============================] - 11s 159us/step - loss: 3.4309 - acc: 0.2342 - val_loss: 3.8426 - val_acc: 0.1833\n",
            "Epoch 75/100\n",
            "70000/70000 [==============================] - 11s 158us/step - loss: 3.4324 - acc: 0.2360 - val_loss: 3.8446 - val_acc: 0.1825\n",
            "Epoch 76/100\n",
            "70000/70000 [==============================] - 11s 159us/step - loss: 3.4169 - acc: 0.2364 - val_loss: 3.8427 - val_acc: 0.1813\n",
            "Epoch 77/100\n",
            "70000/70000 [==============================] - 11s 158us/step - loss: 3.4149 - acc: 0.2361 - val_loss: 3.8459 - val_acc: 0.1828\n",
            "Epoch 78/100\n",
            "70000/70000 [==============================] - 11s 158us/step - loss: 3.4123 - acc: 0.2369 - val_loss: 3.8539 - val_acc: 0.1824\n",
            "Epoch 79/100\n",
            "70000/70000 [==============================] - 11s 158us/step - loss: 3.4077 - acc: 0.2398 - val_loss: 3.8526 - val_acc: 0.1819\n",
            "Epoch 80/100\n",
            "70000/70000 [==============================] - 11s 157us/step - loss: 3.3960 - acc: 0.2421 - val_loss: 3.8526 - val_acc: 0.1821\n",
            "Epoch 81/100\n",
            "70000/70000 [==============================] - 11s 162us/step - loss: 3.3959 - acc: 0.2404 - val_loss: 3.8561 - val_acc: 0.1825\n",
            "Epoch 82/100\n",
            "70000/70000 [==============================] - 11s 157us/step - loss: 3.3838 - acc: 0.2426 - val_loss: 3.8613 - val_acc: 0.1833\n",
            "Epoch 83/100\n",
            "70000/70000 [==============================] - 11s 157us/step - loss: 3.3807 - acc: 0.2423 - val_loss: 3.8598 - val_acc: 0.1820\n",
            "Epoch 84/100\n",
            "70000/70000 [==============================] - 11s 157us/step - loss: 3.3782 - acc: 0.2425 - val_loss: 3.8600 - val_acc: 0.1828\n",
            "Epoch 85/100\n",
            "70000/70000 [==============================] - 11s 157us/step - loss: 3.3703 - acc: 0.2465 - val_loss: 3.8675 - val_acc: 0.1815\n",
            "Epoch 86/100\n",
            "70000/70000 [==============================] - 11s 157us/step - loss: 3.3709 - acc: 0.2442 - val_loss: 3.8671 - val_acc: 0.1828\n",
            "Epoch 87/100\n",
            "70000/70000 [==============================] - 11s 157us/step - loss: 3.3618 - acc: 0.2451 - val_loss: 3.8654 - val_acc: 0.1824\n",
            "Epoch 88/100\n",
            "70000/70000 [==============================] - 11s 157us/step - loss: 3.3581 - acc: 0.2471 - val_loss: 3.8686 - val_acc: 0.1816\n",
            "Epoch 89/100\n",
            "70000/70000 [==============================] - 11s 158us/step - loss: 3.3499 - acc: 0.2490 - val_loss: 3.8727 - val_acc: 0.1830\n",
            "Epoch 90/100\n",
            "70000/70000 [==============================] - 11s 157us/step - loss: 3.3507 - acc: 0.2472 - val_loss: 3.8738 - val_acc: 0.1825\n",
            "Epoch 91/100\n",
            "70000/70000 [==============================] - 11s 157us/step - loss: 3.3444 - acc: 0.2511 - val_loss: 3.8774 - val_acc: 0.1827\n",
            "Epoch 92/100\n",
            "70000/70000 [==============================] - 11s 160us/step - loss: 3.3361 - acc: 0.2497 - val_loss: 3.8800 - val_acc: 0.1819\n",
            "Epoch 93/100\n",
            "70000/70000 [==============================] - 11s 160us/step - loss: 3.3327 - acc: 0.2516 - val_loss: 3.8818 - val_acc: 0.1812\n",
            "Epoch 94/100\n",
            "70000/70000 [==============================] - 11s 156us/step - loss: 3.3279 - acc: 0.2512 - val_loss: 3.8821 - val_acc: 0.1811\n",
            "Epoch 95/100\n",
            "70000/70000 [==============================] - 11s 158us/step - loss: 3.3277 - acc: 0.2526 - val_loss: 3.8834 - val_acc: 0.1797\n",
            "Epoch 96/100\n",
            "70000/70000 [==============================] - 11s 157us/step - loss: 3.3207 - acc: 0.2519 - val_loss: 3.8883 - val_acc: 0.1799\n",
            "Epoch 97/100\n",
            "70000/70000 [==============================] - 11s 158us/step - loss: 3.3143 - acc: 0.2542 - val_loss: 3.8990 - val_acc: 0.1805\n",
            "Epoch 98/100\n",
            "70000/70000 [==============================] - 11s 157us/step - loss: 3.3128 - acc: 0.2535 - val_loss: 3.8932 - val_acc: 0.1803\n",
            "Epoch 99/100\n",
            "70000/70000 [==============================] - 11s 155us/step - loss: 3.3018 - acc: 0.2570 - val_loss: 3.8979 - val_acc: 0.1800\n",
            "Epoch 100/100\n",
            "70000/70000 [==============================] - 11s 155us/step - loss: 3.2950 - acc: 0.2576 - val_loss: 3.9016 - val_acc: 0.1806\n"
          ],
          "name": "stdout"
        }
      ]
    },
    {
      "metadata": {
        "id": "_kfqgQX7tzxa",
        "colab_type": "code",
        "colab": {}
      },
      "cell_type": "code",
      "source": [
        "import matplotlib.pyplot as plt\n",
        "\n",
        "def plothistory(history):\n",
        "    plt.plot(history.history['acc'])\n",
        "    plt.plot(history.history['val_acc'])\n",
        "    plt.title('model accuracy')\n",
        "    plt.ylabel('accuracy')\n",
        "    plt.xlabel('epoch')\n",
        "    plt.legend(['train', 'test'], loc='upper left')\n",
        "    plt.show()\n",
        "    \n",
        "    plt.plot(history.history['loss'])\n",
        "    plt.plot(history.history['val_loss'])\n",
        "    plt.title('model loss')\n",
        "    plt.ylabel('loss')\n",
        "    plt.xlabel('epoch')\n",
        "    plt.legend(['train', 'test'], loc='upper left')\n",
        "    plt.show()"
      ],
      "execution_count": 0,
      "outputs": []
    },
    {
      "metadata": {
        "id": "8q7L4Du9u0vQ",
        "colab_type": "code",
        "outputId": "2b4cd2f9-3999-4303-b56f-b55a04a804cd",
        "colab": {
          "base_uri": "https://localhost:8080/",
          "height": 736
        }
      },
      "cell_type": "code",
      "source": [
        "plothistory(history)"
      ],
      "execution_count": 0,
      "outputs": [
        {
          "output_type": "display_data",
          "data": {
            "image/png": "[encoded data removed]",
            "text/plain": [
              "<Figure size 576x396 with 1 Axes>"
            ]
          },
          "metadata": {
            "tags": []
          }
        },
        {
          "output_type": "display_data",
          "data": {
            "image/png": "[encoded data removed]",
            "text/plain": [
              "<Figure size 576x396 with 1 Axes>"
            ]
          },
          "metadata": {
            "tags": []
          }
        }
      ]
    },
    {
      "metadata": {
        "id": "M1oj1lsOvTG0",
        "colab_type": "code",
        "colab": {}
      },
      "cell_type": "code",
      "source": [
        "from keras.applications import VGG16\n",
        " \n",
        "vgg_conv = VGG16(weights='imagenet',\n",
        "                  include_top=False,\n",
        "                  input_shape=(32, 32, 3))"
      ],
      "execution_count": 0,
      "outputs": []
    },
    {
      "metadata": {
        "id": "oShZa32Rkotg",
        "colab_type": "code",
        "outputId": "79a0f57d-b857-45a2-f2e9-7a37174fc7f2",
        "colab": {
          "base_uri": "https://localhost:8080/",
          "height": 827
        }
      },
      "cell_type": "code",
      "source": [
        "vgg_conv.summary()"
      ],
      "execution_count": 0,
      "outputs": [
        {
          "output_type": "stream",
          "text": [
            "_________________________________________________________________\n",
            "Layer (type)                 Output Shape              Param #   \n",
            "=================================================================\n",
            "input_2 (InputLayer)         (None, 32, 32, 3)         0         \n",
            "_________________________________________________________________\n",
            "block1_conv1 (Conv2D)        (None, 32, 32, 64)        1792      \n",
            "_________________________________________________________________\n",
            "block1_conv2 (Conv2D)        (None, 32, 32, 64)        36928     \n",
            "_________________________________________________________________\n",
            "block1_pool (MaxPooling2D)   (None, 16, 16, 64)        0         \n",
            "_________________________________________________________________\n",
            "block2_conv1 (Conv2D)        (None, 16, 16, 128)       73856     \n",
            "_________________________________________________________________\n",
            "block2_conv2 (Conv2D)        (None, 16, 16, 128)       147584    \n",
            "_________________________________________________________________\n",
            "block2_pool (MaxPooling2D)   (None, 8, 8, 128)         0         \n",
            "_________________________________________________________________\n",
            "block3_conv1 (Conv2D)        (None, 8, 8, 256)         295168    \n",
            "_________________________________________________________________\n",
            "block3_conv2 (Conv2D)        (None, 8, 8, 256)         590080    \n",
            "_________________________________________________________________\n",
            "block3_conv3 (Conv2D)        (None, 8, 8, 256)         590080    \n",
            "_________________________________________________________________\n",
            "block3_pool (MaxPooling2D)   (None, 4, 4, 256)         0         \n",
            "_________________________________________________________________\n",
            "block4_conv1 (Conv2D)        (None, 4, 4, 512)         1180160   \n",
            "_________________________________________________________________\n",
            "block4_conv2 (Conv2D)        (None, 4, 4, 512)         2359808   \n",
            "_________________________________________________________________\n",
            "block4_conv3 (Conv2D)        (None, 4, 4, 512)         2359808   \n",
            "_________________________________________________________________\n",
            "block4_pool (MaxPooling2D)   (None, 2, 2, 512)         0         \n",
            "_________________________________________________________________\n",
            "block5_conv1 (Conv2D)        (None, 2, 2, 512)         2359808   \n",
            "_________________________________________________________________\n",
            "block5_conv2 (Conv2D)        (None, 2, 2, 512)         2359808   \n",
            "_________________________________________________________________\n",
            "block5_conv3 (Conv2D)        (None, 2, 2, 512)         2359808   \n",
            "_________________________________________________________________\n",
            "block5_pool (MaxPooling2D)   (None, 1, 1, 512)         0         \n",
            "=================================================================\n",
            "Total params: 14,714,688\n",
            "Trainable params: 14,714,688\n",
            "Non-trainable params: 0\n",
            "_________________________________________________________________\n"
          ],
          "name": "stdout"
        }
      ]
    },
    {
      "metadata": {
        "id": "Laxel8k0vcIQ",
        "colab_type": "code",
        "outputId": "ba00f146-9ea9-4dc9-854c-b533d03d0373",
        "colab": {
          "base_uri": "https://localhost:8080/",
          "height": 35
        }
      },
      "cell_type": "code",
      "source": [
        "extracted_features2 = vgg_conv.predict(x_train)\n",
        "print(extracted_features2.shape)"
      ],
      "execution_count": 0,
      "outputs": [
        {
          "output_type": "stream",
          "text": [
            "(70000, 1, 1, 512)\n"
          ],
          "name": "stdout"
        }
      ]
    },
    {
      "metadata": {
        "id": "6c86A0D-DBqV",
        "colab_type": "code",
        "outputId": "87390454-bf91-4d1b-b6c6-571d0b3f0f56",
        "colab": {
          "base_uri": "https://localhost:8080/",
          "height": 35
        }
      },
      "cell_type": "code",
      "source": [
        "validation_features2 = vgg_conv.predict(x_test)\n",
        "print(validation_features2.shape)"
      ],
      "execution_count": 0,
      "outputs": [
        {
          "output_type": "stream",
          "text": [
            "(30000, 1, 1, 512)\n"
          ],
          "name": "stdout"
        }
      ]
    },
    {
      "metadata": {
        "id": "88xRPSGvvvDm",
        "colab_type": "code",
        "colab": {}
      },
      "cell_type": "code",
      "source": [
        "model = models.Sequential()\n",
        "\n",
        "model.add(Flatten())\n",
        "model.add(Dense(512))\n",
        "model.add(Activation('relu'))\n",
        "model.add(Dropout(0.5))\n",
        "model.add(Dense(num_classes))\n",
        "model.add(Activation('softmax'))"
      ],
      "execution_count": 0,
      "outputs": []
    },
    {
      "metadata": {
        "id": "EYlLSwP_0pvg",
        "colab_type": "code",
        "outputId": "a464953e-c62c-4b0e-c572-db0b0fe2d177",
        "colab": {
          "base_uri": "https://localhost:8080/",
          "height": 3635
        }
      },
      "cell_type": "code",
      "source": [
        "model.compile(optimizer=optimizers.RMSprop(lr=2e-4),\n",
        "              loss='categorical_crossentropy',\n",
        "              metrics=['acc'])\n",
        "\n",
        "history2 = model.fit(extracted_features2,\n",
        "                    y_train,\n",
        "                    epochs=100,\n",
        "                    batch_size=256,\n",
        "                    validation_data=(validation_features2,y_test))"
      ],
      "execution_count": 0,
      "outputs": [
        {
          "output_type": "stream",
          "text": [
            "Train on 70000 samples, validate on 30000 samples\n",
            "Epoch 1/100\n",
            "70000/70000 [==============================] - 2s 34us/step - loss: 15.5575 - acc: 0.0117 - val_loss: 14.6460 - val_acc: 0.0370\n",
            "Epoch 2/100\n",
            "70000/70000 [==============================] - 2s 24us/step - loss: 14.7580 - acc: 0.0313 - val_loss: 12.9237 - val_acc: 0.0612\n",
            "Epoch 3/100\n",
            "70000/70000 [==============================] - 2s 24us/step - loss: 10.2545 - acc: 0.0370 - val_loss: 5.6347 - val_acc: 0.0428\n",
            "Epoch 4/100\n",
            "70000/70000 [==============================] - 2s 24us/step - loss: 5.5379 - acc: 0.0329 - val_loss: 5.1092 - val_acc: 0.0510\n",
            "Epoch 5/100\n",
            "70000/70000 [==============================] - 2s 24us/step - loss: 5.1564 - acc: 0.0492 - val_loss: 4.9263 - val_acc: 0.0711\n",
            "Epoch 6/100\n",
            "70000/70000 [==============================] - 2s 24us/step - loss: 4.9776 - acc: 0.0648 - val_loss: 4.7910 - val_acc: 0.0861\n",
            "Epoch 7/100\n",
            "70000/70000 [==============================] - 2s 25us/step - loss: 4.8369 - acc: 0.0768 - val_loss: 4.6868 - val_acc: 0.0967\n",
            "Epoch 8/100\n",
            "70000/70000 [==============================] - 2s 24us/step - loss: 4.7084 - acc: 0.0877 - val_loss: 4.6162 - val_acc: 0.1033\n",
            "Epoch 9/100\n",
            "70000/70000 [==============================] - 2s 25us/step - loss: 4.6286 - acc: 0.0959 - val_loss: 4.5723 - val_acc: 0.1093\n",
            "Epoch 10/100\n",
            "70000/70000 [==============================] - 2s 24us/step - loss: 4.5378 - acc: 0.1038 - val_loss: 4.5397 - val_acc: 0.1136\n",
            "Epoch 11/100\n",
            "70000/70000 [==============================] - 2s 24us/step - loss: 4.4691 - acc: 0.1110 - val_loss: 4.5189 - val_acc: 0.1138\n",
            "Epoch 12/100\n",
            "70000/70000 [==============================] - 2s 24us/step - loss: 4.4142 - acc: 0.1157 - val_loss: 4.5067 - val_acc: 0.1192\n",
            "Epoch 13/100\n",
            "70000/70000 [==============================] - 2s 25us/step - loss: 4.3623 - acc: 0.1222 - val_loss: 4.4958 - val_acc: 0.1189\n",
            "Epoch 14/100\n",
            "70000/70000 [==============================] - 2s 25us/step - loss: 4.3275 - acc: 0.1256 - val_loss: 4.4968 - val_acc: 0.1234\n",
            "Epoch 15/100\n",
            "70000/70000 [==============================] - 2s 25us/step - loss: 4.2773 - acc: 0.1297 - val_loss: 4.4840 - val_acc: 0.1237\n",
            "Epoch 16/100\n",
            "70000/70000 [==============================] - 2s 25us/step - loss: 4.2444 - acc: 0.1334 - val_loss: 4.4898 - val_acc: 0.1264\n",
            "Epoch 17/100\n",
            "70000/70000 [==============================] - 2s 25us/step - loss: 4.2128 - acc: 0.1382 - val_loss: 4.5083 - val_acc: 0.1268\n",
            "Epoch 18/100\n",
            "70000/70000 [==============================] - 2s 25us/step - loss: 4.1791 - acc: 0.1405 - val_loss: 4.5012 - val_acc: 0.1254\n",
            "Epoch 19/100\n",
            "70000/70000 [==============================] - 2s 24us/step - loss: 4.1574 - acc: 0.1441 - val_loss: 4.5146 - val_acc: 0.1277\n",
            "Epoch 20/100\n",
            "70000/70000 [==============================] - 2s 24us/step - loss: 4.1345 - acc: 0.1477 - val_loss: 4.5190 - val_acc: 0.1286\n",
            "Epoch 21/100\n",
            "70000/70000 [==============================] - 2s 24us/step - loss: 4.1056 - acc: 0.1508 - val_loss: 4.5351 - val_acc: 0.1291\n",
            "Epoch 22/100\n",
            "70000/70000 [==============================] - 2s 24us/step - loss: 4.0740 - acc: 0.1532 - val_loss: 4.5414 - val_acc: 0.1290\n",
            "Epoch 23/100\n",
            "70000/70000 [==============================] - 2s 24us/step - loss: 4.0616 - acc: 0.1562 - val_loss: 4.5592 - val_acc: 0.1300\n",
            "Epoch 24/100\n",
            "70000/70000 [==============================] - 2s 24us/step - loss: 4.0369 - acc: 0.1579 - val_loss: 4.5719 - val_acc: 0.1302\n",
            "Epoch 25/100\n",
            "70000/70000 [==============================] - 2s 24us/step - loss: 4.0162 - acc: 0.1618 - val_loss: 4.5859 - val_acc: 0.1315\n",
            "Epoch 26/100\n",
            "70000/70000 [==============================] - 2s 24us/step - loss: 3.9978 - acc: 0.1624 - val_loss: 4.5917 - val_acc: 0.1324\n",
            "Epoch 27/100\n",
            "70000/70000 [==============================] - 2s 24us/step - loss: 3.9745 - acc: 0.1674 - val_loss: 4.6147 - val_acc: 0.1317\n",
            "Epoch 28/100\n",
            "70000/70000 [==============================] - 2s 24us/step - loss: 3.9539 - acc: 0.1689 - val_loss: 4.6177 - val_acc: 0.1322\n",
            "Epoch 29/100\n",
            "70000/70000 [==============================] - 2s 25us/step - loss: 3.9455 - acc: 0.1710 - val_loss: 4.6258 - val_acc: 0.1328\n",
            "Epoch 30/100\n",
            "70000/70000 [==============================] - 2s 24us/step - loss: 3.9294 - acc: 0.1720 - val_loss: 4.6563 - val_acc: 0.1327\n",
            "Epoch 31/100\n",
            "70000/70000 [==============================] - 2s 24us/step - loss: 3.9091 - acc: 0.1734 - val_loss: 4.6760 - val_acc: 0.1327\n",
            "Epoch 32/100\n",
            "70000/70000 [==============================] - 2s 25us/step - loss: 3.8889 - acc: 0.1759 - val_loss: 4.6810 - val_acc: 0.1329\n",
            "Epoch 33/100\n",
            "70000/70000 [==============================] - 2s 24us/step - loss: 3.8831 - acc: 0.1774 - val_loss: 4.7065 - val_acc: 0.1324\n",
            "Epoch 34/100\n",
            "70000/70000 [==============================] - 2s 24us/step - loss: 3.8770 - acc: 0.1789 - val_loss: 4.7218 - val_acc: 0.1318\n",
            "Epoch 35/100\n",
            "70000/70000 [==============================] - 2s 24us/step - loss: 3.8580 - acc: 0.1819 - val_loss: 4.7340 - val_acc: 0.1313\n",
            "Epoch 36/100\n",
            "70000/70000 [==============================] - 2s 24us/step - loss: 3.8449 - acc: 0.1820 - val_loss: 4.7479 - val_acc: 0.1305\n",
            "Epoch 37/100\n",
            "70000/70000 [==============================] - 2s 25us/step - loss: 3.8338 - acc: 0.1841 - val_loss: 4.7640 - val_acc: 0.1310\n",
            "Epoch 38/100\n",
            "70000/70000 [==============================] - 2s 25us/step - loss: 3.8215 - acc: 0.1853 - val_loss: 4.7835 - val_acc: 0.1317\n",
            "Epoch 39/100\n",
            "70000/70000 [==============================] - 2s 25us/step - loss: 3.8088 - acc: 0.1873 - val_loss: 4.7897 - val_acc: 0.1316\n",
            "Epoch 40/100\n",
            "70000/70000 [==============================] - 2s 25us/step - loss: 3.8028 - acc: 0.1896 - val_loss: 4.8124 - val_acc: 0.1321\n",
            "Epoch 41/100\n",
            "70000/70000 [==============================] - 2s 25us/step - loss: 3.7867 - acc: 0.1878 - val_loss: 4.8286 - val_acc: 0.1305\n",
            "Epoch 42/100\n",
            "70000/70000 [==============================] - 2s 25us/step - loss: 3.7760 - acc: 0.1919 - val_loss: 4.8373 - val_acc: 0.1318\n",
            "Epoch 43/100\n",
            "70000/70000 [==============================] - 2s 25us/step - loss: 3.7716 - acc: 0.1933 - val_loss: 4.8677 - val_acc: 0.1322\n",
            "Epoch 44/100\n",
            "70000/70000 [==============================] - 2s 25us/step - loss: 3.7649 - acc: 0.1944 - val_loss: 4.8720 - val_acc: 0.1320\n",
            "Epoch 45/100\n",
            "70000/70000 [==============================] - 2s 24us/step - loss: 3.7567 - acc: 0.1944 - val_loss: 4.8933 - val_acc: 0.1315\n",
            "Epoch 46/100\n",
            "70000/70000 [==============================] - 2s 24us/step - loss: 3.7403 - acc: 0.1970 - val_loss: 4.9242 - val_acc: 0.1318\n",
            "Epoch 47/100\n",
            "70000/70000 [==============================] - 2s 24us/step - loss: 3.7393 - acc: 0.1979 - val_loss: 4.9249 - val_acc: 0.1320\n",
            "Epoch 48/100\n",
            "70000/70000 [==============================] - 2s 24us/step - loss: 3.7317 - acc: 0.2007 - val_loss: 4.9382 - val_acc: 0.1306\n",
            "Epoch 49/100\n",
            "70000/70000 [==============================] - 2s 24us/step - loss: 3.7283 - acc: 0.2000 - val_loss: 4.9703 - val_acc: 0.1306\n",
            "Epoch 50/100\n",
            "70000/70000 [==============================] - 2s 24us/step - loss: 3.7158 - acc: 0.2020 - val_loss: 4.9763 - val_acc: 0.1305\n",
            "Epoch 51/100\n",
            "70000/70000 [==============================] - 2s 24us/step - loss: 3.7118 - acc: 0.2028 - val_loss: 4.9805 - val_acc: 0.1303\n",
            "Epoch 52/100\n",
            "70000/70000 [==============================] - 2s 24us/step - loss: 3.7047 - acc: 0.2010 - val_loss: 4.9957 - val_acc: 0.1297\n",
            "Epoch 53/100\n",
            "70000/70000 [==============================] - 2s 24us/step - loss: 3.6897 - acc: 0.2045 - val_loss: 5.0164 - val_acc: 0.1315\n",
            "Epoch 54/100\n",
            "70000/70000 [==============================] - 2s 24us/step - loss: 3.6892 - acc: 0.2072 - val_loss: 5.0192 - val_acc: 0.1300\n",
            "Epoch 55/100\n",
            "70000/70000 [==============================] - 2s 24us/step - loss: 3.6850 - acc: 0.2066 - val_loss: 5.0505 - val_acc: 0.1302\n",
            "Epoch 56/100\n",
            "70000/70000 [==============================] - 2s 24us/step - loss: 3.6732 - acc: 0.2088 - val_loss: 5.0668 - val_acc: 0.1290\n",
            "Epoch 57/100\n",
            "70000/70000 [==============================] - 2s 24us/step - loss: 3.6730 - acc: 0.2086 - val_loss: 5.0657 - val_acc: 0.1279\n",
            "Epoch 58/100\n",
            "70000/70000 [==============================] - 2s 24us/step - loss: 3.6772 - acc: 0.2087 - val_loss: 5.0877 - val_acc: 0.1288\n",
            "Epoch 59/100\n",
            "70000/70000 [==============================] - 2s 24us/step - loss: 3.6618 - acc: 0.2111 - val_loss: 5.0992 - val_acc: 0.1290\n",
            "Epoch 60/100\n",
            "70000/70000 [==============================] - 2s 24us/step - loss: 3.6577 - acc: 0.2103 - val_loss: 5.1111 - val_acc: 0.1303\n",
            "Epoch 61/100\n",
            "70000/70000 [==============================] - 2s 24us/step - loss: 3.6506 - acc: 0.2131 - val_loss: 5.1311 - val_acc: 0.1293\n",
            "Epoch 62/100\n",
            "70000/70000 [==============================] - 2s 24us/step - loss: 3.6391 - acc: 0.2130 - val_loss: 5.1440 - val_acc: 0.1306\n",
            "Epoch 63/100\n",
            "70000/70000 [==============================] - 2s 24us/step - loss: 3.6504 - acc: 0.2108 - val_loss: 5.1649 - val_acc: 0.1307\n",
            "Epoch 64/100\n",
            "70000/70000 [==============================] - 2s 24us/step - loss: 3.6334 - acc: 0.2159 - val_loss: 5.1872 - val_acc: 0.1293\n",
            "Epoch 65/100\n",
            "70000/70000 [==============================] - 2s 25us/step - loss: 3.6331 - acc: 0.2161 - val_loss: 5.1919 - val_acc: 0.1305\n",
            "Epoch 66/100\n",
            "70000/70000 [==============================] - 2s 24us/step - loss: 3.6293 - acc: 0.2152 - val_loss: 5.2224 - val_acc: 0.1298\n",
            "Epoch 67/100\n",
            "70000/70000 [==============================] - 2s 24us/step - loss: 3.6184 - acc: 0.2171 - val_loss: 5.2316 - val_acc: 0.1294\n",
            "Epoch 68/100\n",
            "70000/70000 [==============================] - 2s 24us/step - loss: 3.6223 - acc: 0.2165 - val_loss: 5.2382 - val_acc: 0.1298\n",
            "Epoch 69/100\n",
            "70000/70000 [==============================] - 2s 24us/step - loss: 3.6142 - acc: 0.2189 - val_loss: 5.2537 - val_acc: 0.1289\n",
            "Epoch 70/100\n",
            "70000/70000 [==============================] - 2s 25us/step - loss: 3.6057 - acc: 0.2179 - val_loss: 5.2490 - val_acc: 0.1302\n",
            "Epoch 71/100\n",
            "70000/70000 [==============================] - 2s 25us/step - loss: 3.6096 - acc: 0.2196 - val_loss: 5.2837 - val_acc: 0.1313\n",
            "Epoch 72/100\n",
            "70000/70000 [==============================] - 2s 25us/step - loss: 3.6073 - acc: 0.2194 - val_loss: 5.2862 - val_acc: 0.1295\n",
            "Epoch 73/100\n",
            "70000/70000 [==============================] - 2s 25us/step - loss: 3.6036 - acc: 0.2201 - val_loss: 5.3039 - val_acc: 0.1285\n",
            "Epoch 74/100\n",
            "70000/70000 [==============================] - 2s 24us/step - loss: 3.5955 - acc: 0.2218 - val_loss: 5.3121 - val_acc: 0.1289\n",
            "Epoch 75/100\n",
            "70000/70000 [==============================] - 2s 24us/step - loss: 3.5892 - acc: 0.2227 - val_loss: 5.3450 - val_acc: 0.1285\n",
            "Epoch 76/100\n",
            "70000/70000 [==============================] - 2s 25us/step - loss: 3.5947 - acc: 0.2213 - val_loss: 5.3426 - val_acc: 0.1275\n",
            "Epoch 77/100\n",
            "70000/70000 [==============================] - 2s 25us/step - loss: 3.5893 - acc: 0.2216 - val_loss: 5.3577 - val_acc: 0.1268\n",
            "Epoch 78/100\n",
            "70000/70000 [==============================] - 2s 25us/step - loss: 3.5852 - acc: 0.2239 - val_loss: 5.3674 - val_acc: 0.1287\n",
            "Epoch 79/100\n",
            "70000/70000 [==============================] - 2s 25us/step - loss: 3.5770 - acc: 0.2254 - val_loss: 5.3947 - val_acc: 0.1287\n",
            "Epoch 80/100\n",
            "70000/70000 [==============================] - 2s 25us/step - loss: 3.5751 - acc: 0.2267 - val_loss: 5.4039 - val_acc: 0.1287\n",
            "Epoch 81/100\n",
            "70000/70000 [==============================] - 2s 24us/step - loss: 3.5661 - acc: 0.2270 - val_loss: 5.4186 - val_acc: 0.1300\n",
            "Epoch 82/100\n",
            "70000/70000 [==============================] - 2s 24us/step - loss: 3.5695 - acc: 0.2273 - val_loss: 5.4279 - val_acc: 0.1271\n",
            "Epoch 83/100\n",
            "70000/70000 [==============================] - 2s 25us/step - loss: 3.5699 - acc: 0.2288 - val_loss: 5.4486 - val_acc: 0.1278\n",
            "Epoch 84/100\n",
            "70000/70000 [==============================] - 2s 24us/step - loss: 3.5728 - acc: 0.2270 - val_loss: 5.4528 - val_acc: 0.1256\n",
            "Epoch 85/100\n",
            "70000/70000 [==============================] - 2s 25us/step - loss: 3.5716 - acc: 0.2266 - val_loss: 5.4572 - val_acc: 0.1256\n",
            "Epoch 86/100\n",
            "70000/70000 [==============================] - 2s 25us/step - loss: 3.5638 - acc: 0.2282 - val_loss: 5.4897 - val_acc: 0.1282\n",
            "Epoch 87/100\n",
            "70000/70000 [==============================] - 2s 24us/step - loss: 3.5604 - acc: 0.2283 - val_loss: 5.4903 - val_acc: 0.1270\n",
            "Epoch 88/100\n",
            "70000/70000 [==============================] - 2s 24us/step - loss: 3.5604 - acc: 0.2278 - val_loss: 5.5146 - val_acc: 0.1266\n",
            "Epoch 89/100\n",
            "70000/70000 [==============================] - 2s 24us/step - loss: 3.5599 - acc: 0.2294 - val_loss: 5.5343 - val_acc: 0.1289\n",
            "Epoch 90/100\n",
            "70000/70000 [==============================] - 2s 24us/step - loss: 3.5625 - acc: 0.2293 - val_loss: 5.5323 - val_acc: 0.1270\n",
            "Epoch 91/100\n",
            "70000/70000 [==============================] - 2s 25us/step - loss: 3.5557 - acc: 0.2306 - val_loss: 5.5498 - val_acc: 0.1268\n",
            "Epoch 92/100\n",
            "70000/70000 [==============================] - 2s 25us/step - loss: 3.5538 - acc: 0.2308 - val_loss: 5.5548 - val_acc: 0.1269\n",
            "Epoch 93/100\n",
            "70000/70000 [==============================] - 2s 24us/step - loss: 3.5481 - acc: 0.2314 - val_loss: 5.5654 - val_acc: 0.1251\n",
            "Epoch 94/100\n",
            "70000/70000 [==============================] - 2s 24us/step - loss: 3.5487 - acc: 0.2316 - val_loss: 5.5671 - val_acc: 0.1268\n",
            "Epoch 95/100\n",
            "70000/70000 [==============================] - 2s 25us/step - loss: 3.5518 - acc: 0.2317 - val_loss: 5.6038 - val_acc: 0.1251\n",
            "Epoch 96/100\n",
            "70000/70000 [==============================] - 2s 24us/step - loss: 3.5506 - acc: 0.2336 - val_loss: 5.6119 - val_acc: 0.1252\n",
            "Epoch 97/100\n",
            "70000/70000 [==============================] - 2s 25us/step - loss: 3.5525 - acc: 0.2339 - val_loss: 5.6107 - val_acc: 0.1254\n",
            "Epoch 98/100\n",
            "70000/70000 [==============================] - 2s 26us/step - loss: 3.5372 - acc: 0.2351 - val_loss: 5.6236 - val_acc: 0.1265\n",
            "Epoch 99/100\n",
            "70000/70000 [==============================] - 2s 26us/step - loss: 3.5494 - acc: 0.2315 - val_loss: 5.6345 - val_acc: 0.1271\n",
            "Epoch 100/100\n",
            "70000/70000 [==============================] - 2s 25us/step - loss: 3.5408 - acc: 0.2347 - val_loss: 5.6596 - val_acc: 0.1260\n"
          ],
          "name": "stdout"
        }
      ]
    },
    {
      "metadata": {
        "id": "CNIfgpXs1VlK",
        "colab_type": "code",
        "outputId": "bf30470c-f775-499a-f68e-c3f43a18444b",
        "colab": {
          "base_uri": "https://localhost:8080/",
          "height": 736
        }
      },
      "cell_type": "code",
      "source": [
        "plothistory(history2)"
      ],
      "execution_count": 0,
      "outputs": [
        {
          "output_type": "display_data",
          "data": {
            "image/png": "[encoded data removed]",
            "text/plain": [
              "<Figure size 576x396 with 1 Axes>"
            ]
          },
          "metadata": {
            "tags": []
          }
        },
        {
          "output_type": "display_data",
          "data": {
            "image/png": "[encoded data removed]",
            "text/plain": [
              "<Figure size 576x396 with 1 Axes>"
            ]
          },
          "metadata": {
            "tags": []
          }
        }
      ]
    },
    {
      "metadata": {
        "id": "jppwiddpK-x-",
        "colab_type": "code",
        "colab": {}
      },
      "cell_type": "code",
      "source": [
        "#y_test = pd.read_csv('tiny-imagenet-200/val/val_annotations.txt' , sep = '\\s+', header = None)"
      ],
      "execution_count": 0,
      "outputs": []
    },
    {
      "metadata": {
        "id": "gHjjtB0hQKab",
        "colab_type": "code",
        "colab": {}
      },
      "cell_type": "code",
      "source": [
        "'''\n",
        "y_test = y_test[:][1]\n",
        "y_test = np.array(y_test)\n",
        "print(y_test.shape)\n",
        "'''"
      ],
      "execution_count": 0,
      "outputs": []
    },
    {
      "metadata": {
        "id": "rlz2_W9ZTW1w",
        "colab_type": "code",
        "colab": {}
      },
      "cell_type": "code",
      "source": [
        "'''\n",
        "test_images = []\n",
        "\n",
        "for file in os.listdir('tiny-imagenet-200/val/images'):\n",
        "        if file.endswith('.JPEG'):\n",
        "            filedir = 'tiny-imagenet-200/val/images/' + file\n",
        "            test_images.append(read_img(filedir))\n",
        "'''"
      ],
      "execution_count": 0,
      "outputs": []
    },
    {
      "metadata": {
        "id": "jNn_cDB6vgxh",
        "colab_type": "code",
        "colab": {}
      },
      "cell_type": "code",
      "source": [
        "from PIL import Image\n",
        "from sklearn.model_selection import train_test_split\n",
        "import numpy as np\n",
        "import os\n",
        "import keras\n",
        "import pandas as pd\n",
        "\n",
        "seed = 10\n",
        "\n",
        "def read_img(img_name):\n",
        "    img64 = Image.open(img_name).convert('RGB')\n",
        "    img32 = img64.resize((32, 32),Image.ANTIALIAS)\n",
        "    data = np.array(img32)\n",
        "    return data\n",
        "\n",
        "images = []\n",
        "labels = []\n",
        "dir = 'tiny-imagenet-200/train/'\n",
        "i = 0\n",
        "for folder in os.listdir(dir):\n",
        "    folderpath = dir + folder +'/images/'\n",
        "    for file in os.listdir(folderpath):\n",
        "        if file.endswith('.JPEG'):\n",
        "            filedir = folderpath + file\n",
        "            images.append(read_img(filedir))\n",
        "            labels.append(i)\n",
        "    i = i+1\n",
        "\n",
        "np.random.seed(seed)\n",
        "num_classes = 200\n",
        "x = np.array(images)\n",
        "y = np.array(labels)\n",
        "y = keras.utils.to_categorical(y, num_classes)\n",
        "x_train, x_test, y_train, y_test = train_test_split(x, y, test_size=0.1, random_state=seed)"
      ],
      "execution_count": 0,
      "outputs": []
    },
    {
      "metadata": {
        "id": "36I_rdjMwQJP",
        "colab_type": "code",
        "colab": {}
      },
      "cell_type": "code",
      "source": [
        "extracted_features3 = loaded_model.predict(x_train)"
      ],
      "execution_count": 0,
      "outputs": []
    },
    {
      "metadata": {
        "id": "C03mQyhKwSfP",
        "colab_type": "code",
        "colab": {}
      },
      "cell_type": "code",
      "source": [
        "validation_features3 = loaded_model.predict(x_test)"
      ],
      "execution_count": 0,
      "outputs": []
    },
    {
      "metadata": {
        "id": "Fmf3nCArcuTC",
        "colab_type": "code",
        "colab": {
          "base_uri": "https://localhost:8080/",
          "height": 3709
        },
        "outputId": "4f489547-66b5-4da9-b61a-c08fcb040471"
      },
      "cell_type": "code",
      "source": [
        "from keras import models\n",
        "from keras import optimizers\n",
        "from keras.layers import Dense, Dropout,Conv2D, Activation, Flatten, BatchNormalization, MaxPooling2D\n",
        "\n",
        "model = models.Sequential()\n",
        "model.add(Flatten())\n",
        "model.add(Dense(512))\n",
        "model.add(Activation('relu'))\n",
        "model.add(Dropout(0.5))\n",
        "model.add(Dense(num_classes))\n",
        "model.add(Activation('softmax'))\n",
        "\n",
        "model.compile(optimizer=optimizers.RMSprop(lr=2e-4),\n",
        "              loss='categorical_crossentropy',\n",
        "              metrics=['acc'])\n",
        "\n",
        "history3 = model.fit(extracted_features3,\n",
        "                    y_train,\n",
        "                    epochs=100,\n",
        "                    batch_size=128,\n",
        "                    validation_data=(validation_features3, y_test))"
      ],
      "execution_count": 16,
      "outputs": [
        {
          "output_type": "stream",
          "text": [
            "WARNING:tensorflow:From /usr/local/lib/python3.6/dist-packages/tensorflow/python/ops/math_ops.py:3066: to_int32 (from tensorflow.python.ops.math_ops) is deprecated and will be removed in a future version.\n",
            "Instructions for updating:\n",
            "Use tf.cast instead.\n",
            "Train on 90000 samples, validate on 10000 samples\n",
            "Epoch 1/100\n",
            "90000/90000 [==============================] - 4s 40us/step - loss: 5.2339 - acc: 0.0264 - val_loss: 5.1121 - val_acc: 0.0470\n",
            "Epoch 2/100\n",
            "90000/90000 [==============================] - 3s 36us/step - loss: 4.9303 - acc: 0.0505 - val_loss: 4.7743 - val_acc: 0.0633\n",
            "Epoch 3/100\n",
            "90000/90000 [==============================] - 3s 36us/step - loss: 4.6530 - acc: 0.0654 - val_loss: 4.5643 - val_acc: 0.0787\n",
            "Epoch 4/100\n",
            "90000/90000 [==============================] - 3s 36us/step - loss: 4.5016 - acc: 0.0761 - val_loss: 4.4517 - val_acc: 0.0847\n",
            "Epoch 5/100\n",
            "90000/90000 [==============================] - 3s 35us/step - loss: 4.4138 - acc: 0.0828 - val_loss: 4.3787 - val_acc: 0.0894\n",
            "Epoch 6/100\n",
            "90000/90000 [==============================] - 3s 36us/step - loss: 4.3528 - acc: 0.0900 - val_loss: 4.3231 - val_acc: 0.0971\n",
            "Epoch 7/100\n",
            "90000/90000 [==============================] - 3s 35us/step - loss: 4.3010 - acc: 0.0975 - val_loss: 4.2753 - val_acc: 0.1049\n",
            "Epoch 8/100\n",
            "90000/90000 [==============================] - 3s 36us/step - loss: 4.2564 - acc: 0.1042 - val_loss: 4.2351 - val_acc: 0.1124\n",
            "Epoch 9/100\n",
            "90000/90000 [==============================] - 3s 35us/step - loss: 4.2183 - acc: 0.1091 - val_loss: 4.1989 - val_acc: 0.1174\n",
            "Epoch 10/100\n",
            "90000/90000 [==============================] - 3s 35us/step - loss: 4.1854 - acc: 0.1141 - val_loss: 4.1657 - val_acc: 0.1214\n",
            "Epoch 11/100\n",
            "90000/90000 [==============================] - 3s 35us/step - loss: 4.1545 - acc: 0.1191 - val_loss: 4.1364 - val_acc: 0.1255\n",
            "Epoch 12/100\n",
            "90000/90000 [==============================] - 3s 35us/step - loss: 4.1251 - acc: 0.1238 - val_loss: 4.1096 - val_acc: 0.1297\n",
            "Epoch 13/100\n",
            "90000/90000 [==============================] - 3s 35us/step - loss: 4.1030 - acc: 0.1265 - val_loss: 4.0876 - val_acc: 0.1325\n",
            "Epoch 14/100\n",
            "90000/90000 [==============================] - 3s 36us/step - loss: 4.0774 - acc: 0.1304 - val_loss: 4.0669 - val_acc: 0.1361\n",
            "Epoch 15/100\n",
            "90000/90000 [==============================] - 3s 35us/step - loss: 4.0555 - acc: 0.1355 - val_loss: 4.0470 - val_acc: 0.1393\n",
            "Epoch 16/100\n",
            "90000/90000 [==============================] - 3s 35us/step - loss: 4.0385 - acc: 0.1374 - val_loss: 4.0302 - val_acc: 0.1401\n",
            "Epoch 17/100\n",
            "90000/90000 [==============================] - 3s 35us/step - loss: 4.0211 - acc: 0.1400 - val_loss: 4.0148 - val_acc: 0.1460\n",
            "Epoch 18/100\n",
            "90000/90000 [==============================] - 3s 35us/step - loss: 4.0062 - acc: 0.1422 - val_loss: 4.0001 - val_acc: 0.1457\n",
            "Epoch 19/100\n",
            "90000/90000 [==============================] - 3s 35us/step - loss: 3.9884 - acc: 0.1448 - val_loss: 3.9868 - val_acc: 0.1493\n",
            "Epoch 20/100\n",
            "90000/90000 [==============================] - 3s 35us/step - loss: 3.9731 - acc: 0.1476 - val_loss: 3.9746 - val_acc: 0.1505\n",
            "Epoch 21/100\n",
            "90000/90000 [==============================] - 3s 35us/step - loss: 3.9626 - acc: 0.1495 - val_loss: 3.9628 - val_acc: 0.1520\n",
            "Epoch 22/100\n",
            "90000/90000 [==============================] - 3s 35us/step - loss: 3.9491 - acc: 0.1504 - val_loss: 3.9516 - val_acc: 0.1533\n",
            "Epoch 23/100\n",
            "90000/90000 [==============================] - 3s 35us/step - loss: 3.9353 - acc: 0.1530 - val_loss: 3.9429 - val_acc: 0.1556\n",
            "Epoch 24/100\n",
            "90000/90000 [==============================] - 3s 35us/step - loss: 3.9253 - acc: 0.1545 - val_loss: 3.9336 - val_acc: 0.1566\n",
            "Epoch 25/100\n",
            "90000/90000 [==============================] - 3s 35us/step - loss: 3.9144 - acc: 0.1565 - val_loss: 3.9235 - val_acc: 0.1575\n",
            "Epoch 26/100\n",
            "90000/90000 [==============================] - 3s 35us/step - loss: 3.9006 - acc: 0.1592 - val_loss: 3.9151 - val_acc: 0.1590\n",
            "Epoch 27/100\n",
            "90000/90000 [==============================] - 3s 34us/step - loss: 3.8905 - acc: 0.1614 - val_loss: 3.9075 - val_acc: 0.1588\n",
            "Epoch 28/100\n",
            "90000/90000 [==============================] - 3s 35us/step - loss: 3.8806 - acc: 0.1635 - val_loss: 3.8992 - val_acc: 0.1612\n",
            "Epoch 29/100\n",
            "90000/90000 [==============================] - 3s 35us/step - loss: 3.8743 - acc: 0.1635 - val_loss: 3.8917 - val_acc: 0.1645\n",
            "Epoch 30/100\n",
            "90000/90000 [==============================] - 3s 34us/step - loss: 3.8674 - acc: 0.1647 - val_loss: 3.8848 - val_acc: 0.1644\n",
            "Epoch 31/100\n",
            "90000/90000 [==============================] - 3s 34us/step - loss: 3.8562 - acc: 0.1678 - val_loss: 3.8801 - val_acc: 0.1648\n",
            "Epoch 32/100\n",
            "90000/90000 [==============================] - 3s 34us/step - loss: 3.8490 - acc: 0.1691 - val_loss: 3.8722 - val_acc: 0.1655\n",
            "Epoch 33/100\n",
            "90000/90000 [==============================] - 3s 34us/step - loss: 3.8407 - acc: 0.1697 - val_loss: 3.8669 - val_acc: 0.1666\n",
            "Epoch 34/100\n",
            "90000/90000 [==============================] - 3s 34us/step - loss: 3.8335 - acc: 0.1701 - val_loss: 3.8616 - val_acc: 0.1683\n",
            "Epoch 35/100\n",
            "90000/90000 [==============================] - 3s 35us/step - loss: 3.8256 - acc: 0.1718 - val_loss: 3.8563 - val_acc: 0.1701\n",
            "Epoch 36/100\n",
            "90000/90000 [==============================] - 3s 35us/step - loss: 3.8185 - acc: 0.1730 - val_loss: 3.8511 - val_acc: 0.1714\n",
            "Epoch 37/100\n",
            "90000/90000 [==============================] - 3s 34us/step - loss: 3.8076 - acc: 0.1755 - val_loss: 3.8452 - val_acc: 0.1713\n",
            "Epoch 38/100\n",
            "90000/90000 [==============================] - 3s 34us/step - loss: 3.8013 - acc: 0.1757 - val_loss: 3.8404 - val_acc: 0.1723\n",
            "Epoch 39/100\n",
            "90000/90000 [==============================] - 3s 34us/step - loss: 3.7952 - acc: 0.1767 - val_loss: 3.8358 - val_acc: 0.1720\n",
            "Epoch 40/100\n",
            "90000/90000 [==============================] - 3s 34us/step - loss: 3.7886 - acc: 0.1780 - val_loss: 3.8318 - val_acc: 0.1749\n",
            "Epoch 41/100\n",
            "90000/90000 [==============================] - 3s 34us/step - loss: 3.7851 - acc: 0.1801 - val_loss: 3.8285 - val_acc: 0.1744\n",
            "Epoch 42/100\n",
            "90000/90000 [==============================] - 3s 35us/step - loss: 3.7761 - acc: 0.1811 - val_loss: 3.8232 - val_acc: 0.1756\n",
            "Epoch 43/100\n",
            "90000/90000 [==============================] - 3s 34us/step - loss: 3.7681 - acc: 0.1824 - val_loss: 3.8192 - val_acc: 0.1744\n",
            "Epoch 44/100\n",
            "90000/90000 [==============================] - 3s 34us/step - loss: 3.7631 - acc: 0.1827 - val_loss: 3.8148 - val_acc: 0.1754\n",
            "Epoch 45/100\n",
            "90000/90000 [==============================] - 3s 34us/step - loss: 3.7542 - acc: 0.1838 - val_loss: 3.8101 - val_acc: 0.1764\n",
            "Epoch 46/100\n",
            "90000/90000 [==============================] - 3s 34us/step - loss: 3.7481 - acc: 0.1861 - val_loss: 3.8073 - val_acc: 0.1756\n",
            "Epoch 47/100\n",
            "90000/90000 [==============================] - 3s 34us/step - loss: 3.7435 - acc: 0.1864 - val_loss: 3.8041 - val_acc: 0.1763\n",
            "Epoch 48/100\n",
            "90000/90000 [==============================] - 3s 34us/step - loss: 3.7368 - acc: 0.1866 - val_loss: 3.7995 - val_acc: 0.1761\n",
            "Epoch 49/100\n",
            "90000/90000 [==============================] - 3s 34us/step - loss: 3.7354 - acc: 0.1882 - val_loss: 3.7974 - val_acc: 0.1772\n",
            "Epoch 50/100\n",
            "90000/90000 [==============================] - 3s 34us/step - loss: 3.7236 - acc: 0.1904 - val_loss: 3.7937 - val_acc: 0.1774\n",
            "Epoch 51/100\n",
            "90000/90000 [==============================] - 3s 34us/step - loss: 3.7186 - acc: 0.1912 - val_loss: 3.7895 - val_acc: 0.1787\n",
            "Epoch 52/100\n",
            "90000/90000 [==============================] - 3s 34us/step - loss: 3.7158 - acc: 0.1919 - val_loss: 3.7874 - val_acc: 0.1803\n",
            "Epoch 53/100\n",
            "90000/90000 [==============================] - 3s 35us/step - loss: 3.7086 - acc: 0.1923 - val_loss: 3.7843 - val_acc: 0.1791\n",
            "Epoch 54/100\n",
            "90000/90000 [==============================] - 3s 34us/step - loss: 3.7039 - acc: 0.1930 - val_loss: 3.7817 - val_acc: 0.1790\n",
            "Epoch 55/100\n",
            "90000/90000 [==============================] - 3s 34us/step - loss: 3.6976 - acc: 0.1943 - val_loss: 3.7786 - val_acc: 0.1803\n",
            "Epoch 56/100\n",
            "90000/90000 [==============================] - 3s 34us/step - loss: 3.6951 - acc: 0.1952 - val_loss: 3.7765 - val_acc: 0.1811\n",
            "Epoch 57/100\n",
            "90000/90000 [==============================] - 3s 34us/step - loss: 3.6872 - acc: 0.1970 - val_loss: 3.7733 - val_acc: 0.1816\n",
            "Epoch 58/100\n",
            "90000/90000 [==============================] - 3s 34us/step - loss: 3.6823 - acc: 0.1960 - val_loss: 3.7714 - val_acc: 0.1817\n",
            "Epoch 59/100\n",
            "90000/90000 [==============================] - 3s 35us/step - loss: 3.6784 - acc: 0.1979 - val_loss: 3.7680 - val_acc: 0.1819\n",
            "Epoch 60/100\n",
            "90000/90000 [==============================] - 3s 34us/step - loss: 3.6706 - acc: 0.1979 - val_loss: 3.7655 - val_acc: 0.1826\n",
            "Epoch 61/100\n",
            "90000/90000 [==============================] - 3s 34us/step - loss: 3.6663 - acc: 0.1994 - val_loss: 3.7630 - val_acc: 0.1842\n",
            "Epoch 62/100\n",
            "90000/90000 [==============================] - 3s 34us/step - loss: 3.6629 - acc: 0.2008 - val_loss: 3.7613 - val_acc: 0.1839\n",
            "Epoch 63/100\n",
            "90000/90000 [==============================] - 3s 34us/step - loss: 3.6586 - acc: 0.2007 - val_loss: 3.7598 - val_acc: 0.1838\n",
            "Epoch 64/100\n",
            "90000/90000 [==============================] - 3s 34us/step - loss: 3.6536 - acc: 0.2019 - val_loss: 3.7564 - val_acc: 0.1852\n",
            "Epoch 65/100\n",
            "90000/90000 [==============================] - 3s 34us/step - loss: 3.6492 - acc: 0.2027 - val_loss: 3.7542 - val_acc: 0.1835\n",
            "Epoch 66/100\n",
            "90000/90000 [==============================] - 3s 34us/step - loss: 3.6434 - acc: 0.2028 - val_loss: 3.7529 - val_acc: 0.1855\n",
            "Epoch 67/100\n",
            "90000/90000 [==============================] - 3s 34us/step - loss: 3.6373 - acc: 0.2050 - val_loss: 3.7505 - val_acc: 0.1868\n",
            "Epoch 68/100\n",
            "90000/90000 [==============================] - 3s 34us/step - loss: 3.6303 - acc: 0.2052 - val_loss: 3.7494 - val_acc: 0.1864\n",
            "Epoch 69/100\n",
            "90000/90000 [==============================] - 3s 34us/step - loss: 3.6284 - acc: 0.2063 - val_loss: 3.7473 - val_acc: 0.1868\n",
            "Epoch 70/100\n",
            "90000/90000 [==============================] - 3s 34us/step - loss: 3.6208 - acc: 0.2077 - val_loss: 3.7457 - val_acc: 0.1878\n",
            "Epoch 71/100\n",
            "90000/90000 [==============================] - 3s 34us/step - loss: 3.6214 - acc: 0.2063 - val_loss: 3.7432 - val_acc: 0.1888\n",
            "Epoch 72/100\n",
            "90000/90000 [==============================] - 3s 34us/step - loss: 3.6162 - acc: 0.2084 - val_loss: 3.7419 - val_acc: 0.1874\n",
            "Epoch 73/100\n",
            "90000/90000 [==============================] - 3s 34us/step - loss: 3.6097 - acc: 0.2099 - val_loss: 3.7404 - val_acc: 0.1867\n",
            "Epoch 74/100\n",
            "90000/90000 [==============================] - 3s 33us/step - loss: 3.6063 - acc: 0.2103 - val_loss: 3.7388 - val_acc: 0.1887\n",
            "Epoch 75/100\n",
            "90000/90000 [==============================] - 3s 33us/step - loss: 3.6017 - acc: 0.2102 - val_loss: 3.7369 - val_acc: 0.1889\n",
            "Epoch 76/100\n",
            "90000/90000 [==============================] - 3s 34us/step - loss: 3.5963 - acc: 0.2121 - val_loss: 3.7358 - val_acc: 0.1892\n",
            "Epoch 77/100\n",
            "90000/90000 [==============================] - 3s 34us/step - loss: 3.5962 - acc: 0.2115 - val_loss: 3.7350 - val_acc: 0.1894\n",
            "Epoch 78/100\n",
            "90000/90000 [==============================] - 3s 34us/step - loss: 3.5889 - acc: 0.2127 - val_loss: 3.7337 - val_acc: 0.1897\n",
            "Epoch 79/100\n",
            "90000/90000 [==============================] - 3s 34us/step - loss: 3.5850 - acc: 0.2139 - val_loss: 3.7327 - val_acc: 0.1910\n",
            "Epoch 80/100\n",
            "90000/90000 [==============================] - 3s 34us/step - loss: 3.5800 - acc: 0.2143 - val_loss: 3.7314 - val_acc: 0.1898\n",
            "Epoch 81/100\n",
            "90000/90000 [==============================] - 3s 34us/step - loss: 3.5752 - acc: 0.2161 - val_loss: 3.7300 - val_acc: 0.1904\n",
            "Epoch 82/100\n",
            "90000/90000 [==============================] - 3s 34us/step - loss: 3.5724 - acc: 0.2157 - val_loss: 3.7283 - val_acc: 0.1903\n",
            "Epoch 83/100\n",
            "90000/90000 [==============================] - 3s 34us/step - loss: 3.5696 - acc: 0.2156 - val_loss: 3.7272 - val_acc: 0.1915\n",
            "Epoch 84/100\n",
            "90000/90000 [==============================] - 3s 34us/step - loss: 3.5635 - acc: 0.2171 - val_loss: 3.7259 - val_acc: 0.1921\n",
            "Epoch 85/100\n",
            "90000/90000 [==============================] - 3s 33us/step - loss: 3.5621 - acc: 0.2173 - val_loss: 3.7253 - val_acc: 0.1920\n",
            "Epoch 86/100\n",
            "90000/90000 [==============================] - 3s 34us/step - loss: 3.5533 - acc: 0.2185 - val_loss: 3.7250 - val_acc: 0.1906\n",
            "Epoch 87/100\n",
            "90000/90000 [==============================] - 3s 33us/step - loss: 3.5516 - acc: 0.2194 - val_loss: 3.7238 - val_acc: 0.1918\n",
            "Epoch 88/100\n",
            "90000/90000 [==============================] - 3s 34us/step - loss: 3.5486 - acc: 0.2186 - val_loss: 3.7226 - val_acc: 0.1909\n",
            "Epoch 89/100\n",
            "90000/90000 [==============================] - 3s 34us/step - loss: 3.5411 - acc: 0.2208 - val_loss: 3.7207 - val_acc: 0.1920\n",
            "Epoch 90/100\n",
            "90000/90000 [==============================] - 3s 37us/step - loss: 3.5411 - acc: 0.2196 - val_loss: 3.7206 - val_acc: 0.1919\n",
            "Epoch 91/100\n",
            "90000/90000 [==============================] - 3s 38us/step - loss: 3.5363 - acc: 0.2225 - val_loss: 3.7203 - val_acc: 0.1923\n",
            "Epoch 92/100\n",
            "90000/90000 [==============================] - 3s 34us/step - loss: 3.5305 - acc: 0.2219 - val_loss: 3.7196 - val_acc: 0.1926\n",
            "Epoch 93/100\n",
            "90000/90000 [==============================] - 3s 34us/step - loss: 3.5292 - acc: 0.2226 - val_loss: 3.7186 - val_acc: 0.1937\n",
            "Epoch 94/100\n",
            "90000/90000 [==============================] - 3s 34us/step - loss: 3.5225 - acc: 0.2242 - val_loss: 3.7170 - val_acc: 0.1918\n",
            "Epoch 95/100\n",
            "90000/90000 [==============================] - 3s 35us/step - loss: 3.5196 - acc: 0.2242 - val_loss: 3.7177 - val_acc: 0.1928\n",
            "Epoch 96/100\n",
            "90000/90000 [==============================] - 3s 39us/step - loss: 3.5124 - acc: 0.2254 - val_loss: 3.7160 - val_acc: 0.1932\n",
            "Epoch 97/100\n",
            "90000/90000 [==============================] - 3s 39us/step - loss: 3.5147 - acc: 0.2236 - val_loss: 3.7153 - val_acc: 0.1932\n",
            "Epoch 98/100\n",
            "90000/90000 [==============================] - 3s 37us/step - loss: 3.5114 - acc: 0.2254 - val_loss: 3.7149 - val_acc: 0.1937\n",
            "Epoch 99/100\n",
            "90000/90000 [==============================] - 3s 33us/step - loss: 3.5042 - acc: 0.2264 - val_loss: 3.7135 - val_acc: 0.1940\n",
            "Epoch 100/100\n",
            "90000/90000 [==============================] - 3s 33us/step - loss: 3.5007 - acc: 0.2275 - val_loss: 3.7130 - val_acc: 0.1950\n"
          ],
          "name": "stdout"
        }
      ]
    },
    {
      "metadata": {
        "id": "4DTCMOY7xXZ5",
        "colab_type": "code",
        "colab": {
          "base_uri": "https://localhost:8080/",
          "height": 736
        },
        "outputId": "84067a9b-8706-4e2d-c726-8187cef0af19"
      },
      "cell_type": "code",
      "source": [
        "plothistory(history3)"
      ],
      "execution_count": 20,
      "outputs": [
        {
          "output_type": "display_data",
          "data": {
            "image/png": "[encoded data removed]",
            "text/plain": [
              "<Figure size 576x396 with 1 Axes>"
            ]
          },
          "metadata": {
            "tags": []
          }
        },
        {
          "output_type": "display_data",
          "data": {
            "image/png": "[encoded data removed]",
            "text/plain": [
              "<Figure size 576x396 with 1 Axes>"
            ]
          },
          "metadata": {
            "tags": []
          }
        }
      ]
    },
    {
      "metadata": {
        "id": "LAuewzY1PYFy",
        "colab_type": "code",
        "colab": {
          "base_uri": "https://localhost:8080/",
          "height": 3635
        },
        "outputId": "ab214477-6697-43e7-ab52-d098cc4c8926"
      },
      "cell_type": "code",
      "source": [
        "model = models.Sequential()\n",
        "model.add(Flatten())\n",
        "model.add(Dense(512))\n",
        "model.add(Activation('relu'))\n",
        "model.add(Dropout(0.5))\n",
        "model.add(Dense(num_classes))\n",
        "model.add(Activation('softmax'))\n",
        "\n",
        "model.compile(optimizer=optimizers.RMSprop(lr=2e-4),\n",
        "              loss='categorical_crossentropy',\n",
        "              metrics=['acc'])\n",
        "\n",
        "history = model.fit(x_train,\n",
        "                    y_train,\n",
        "                    epochs=100,\n",
        "                    batch_size=32,\n",
        "                    validation_data=(x_test,y_test))"
      ],
      "execution_count": 24,
      "outputs": [
        {
          "output_type": "stream",
          "text": [
            "Train on 90000 samples, validate on 10000 samples\n",
            "Epoch 1/100\n",
            "90000/90000 [==============================] - 18s 196us/step - loss: 16.0362 - acc: 0.0051 - val_loss: 16.0488 - val_acc: 0.0043\n",
            "Epoch 2/100\n",
            "90000/90000 [==============================] - 17s 193us/step - loss: 16.0363 - acc: 0.0051 - val_loss: 16.0488 - val_acc: 0.0043\n",
            "Epoch 3/100\n",
            "90000/90000 [==============================] - 17s 192us/step - loss: 16.0350 - acc: 0.0051 - val_loss: 16.0488 - val_acc: 0.0043\n",
            "Epoch 4/100\n",
            "90000/90000 [==============================] - 17s 194us/step - loss: 16.0377 - acc: 0.0050 - val_loss: 16.0423 - val_acc: 0.0047\n",
            "Epoch 5/100\n",
            "90000/90000 [==============================] - 17s 192us/step - loss: 16.0362 - acc: 0.0051 - val_loss: 16.0423 - val_acc: 0.0047\n",
            "Epoch 6/100\n",
            "90000/90000 [==============================] - 17s 192us/step - loss: 16.0366 - acc: 0.0051 - val_loss: 16.0423 - val_acc: 0.0047\n",
            "Epoch 7/100\n",
            "90000/90000 [==============================] - 17s 192us/step - loss: 16.0368 - acc: 0.0050 - val_loss: 16.0423 - val_acc: 0.0047\n",
            "Epoch 8/100\n",
            "90000/90000 [==============================] - 17s 193us/step - loss: 16.0363 - acc: 0.0051 - val_loss: 16.0305 - val_acc: 0.0053\n",
            "Epoch 9/100\n",
            "90000/90000 [==============================] - 17s 191us/step - loss: 16.0331 - acc: 0.0053 - val_loss: 16.0423 - val_acc: 0.0047\n",
            "Epoch 10/100\n",
            "90000/90000 [==============================] - 17s 191us/step - loss: 16.0370 - acc: 0.0050 - val_loss: 16.0423 - val_acc: 0.0047\n",
            "Epoch 11/100\n",
            "90000/90000 [==============================] - 17s 191us/step - loss: 16.0363 - acc: 0.0051 - val_loss: 16.0423 - val_acc: 0.0047\n",
            "Epoch 12/100\n",
            "90000/90000 [==============================] - 17s 191us/step - loss: 16.0367 - acc: 0.0050 - val_loss: 16.0423 - val_acc: 0.0047\n",
            "Epoch 13/100\n",
            "90000/90000 [==============================] - 17s 193us/step - loss: 16.0368 - acc: 0.0050 - val_loss: 16.0423 - val_acc: 0.0047\n",
            "Epoch 14/100\n",
            "90000/90000 [==============================] - 17s 191us/step - loss: 16.0370 - acc: 0.0050 - val_loss: 16.0423 - val_acc: 0.0047\n",
            "Epoch 15/100\n",
            "90000/90000 [==============================] - 17s 190us/step - loss: 16.0370 - acc: 0.0050 - val_loss: 16.0423 - val_acc: 0.0047\n",
            "Epoch 16/100\n",
            "90000/90000 [==============================] - 17s 190us/step - loss: 16.0368 - acc: 0.0050 - val_loss: 16.0423 - val_acc: 0.0047\n",
            "Epoch 17/100\n",
            "90000/90000 [==============================] - 17s 191us/step - loss: 16.0367 - acc: 0.0050 - val_loss: 16.0423 - val_acc: 0.0047\n",
            "Epoch 18/100\n",
            "90000/90000 [==============================] - 17s 191us/step - loss: 16.0364 - acc: 0.0051 - val_loss: 16.0423 - val_acc: 0.0047\n",
            "Epoch 19/100\n",
            "90000/90000 [==============================] - 17s 191us/step - loss: 16.0326 - acc: 0.0053 - val_loss: 16.0423 - val_acc: 0.0047\n",
            "Epoch 20/100\n",
            "90000/90000 [==============================] - 17s 192us/step - loss: 16.0333 - acc: 0.0052 - val_loss: 16.0391 - val_acc: 0.0049\n",
            "Epoch 21/100\n",
            "90000/90000 [==============================] - 17s 191us/step - loss: 16.0379 - acc: 0.0049 - val_loss: 16.0391 - val_acc: 0.0049\n",
            "Epoch 22/100\n",
            "90000/90000 [==============================] - 18s 194us/step - loss: 16.0369 - acc: 0.0050 - val_loss: 16.0391 - val_acc: 0.0049\n",
            "Epoch 23/100\n",
            "90000/90000 [==============================] - 17s 191us/step - loss: 16.0370 - acc: 0.0050 - val_loss: 16.0391 - val_acc: 0.0049\n",
            "Epoch 24/100\n",
            "90000/90000 [==============================] - 17s 192us/step - loss: 16.0379 - acc: 0.0050 - val_loss: 16.0391 - val_acc: 0.0049\n",
            "Epoch 25/100\n",
            "90000/90000 [==============================] - 17s 191us/step - loss: 16.0369 - acc: 0.0050 - val_loss: 16.0391 - val_acc: 0.0049\n",
            "Epoch 26/100\n",
            "90000/90000 [==============================] - 17s 191us/step - loss: 16.0373 - acc: 0.0050 - val_loss: 16.0391 - val_acc: 0.0049\n",
            "Epoch 27/100\n",
            "90000/90000 [==============================] - 17s 191us/step - loss: 16.0373 - acc: 0.0050 - val_loss: 16.0391 - val_acc: 0.0049\n",
            "Epoch 28/100\n",
            "90000/90000 [==============================] - 17s 193us/step - loss: 16.0370 - acc: 0.0050 - val_loss: 16.0391 - val_acc: 0.0049\n",
            "Epoch 29/100\n",
            "90000/90000 [==============================] - 17s 193us/step - loss: 16.0374 - acc: 0.0050 - val_loss: 16.0391 - val_acc: 0.0049\n",
            "Epoch 30/100\n",
            "90000/90000 [==============================] - 17s 192us/step - loss: 16.0373 - acc: 0.0050 - val_loss: 16.0391 - val_acc: 0.0049\n",
            "Epoch 31/100\n",
            "90000/90000 [==============================] - 18s 195us/step - loss: 16.0373 - acc: 0.0050 - val_loss: 16.0391 - val_acc: 0.0049\n",
            "Epoch 32/100\n",
            "90000/90000 [==============================] - 17s 192us/step - loss: 16.0372 - acc: 0.0050 - val_loss: 16.0391 - val_acc: 0.0049\n",
            "Epoch 33/100\n",
            "90000/90000 [==============================] - 17s 193us/step - loss: 16.0367 - acc: 0.0050 - val_loss: 16.0391 - val_acc: 0.0049\n",
            "Epoch 34/100\n",
            "90000/90000 [==============================] - 17s 192us/step - loss: 16.0370 - acc: 0.0050 - val_loss: 16.0407 - val_acc: 0.0048\n",
            "Epoch 35/100\n",
            "90000/90000 [==============================] - 17s 193us/step - loss: 16.0365 - acc: 0.0050 - val_loss: 16.0456 - val_acc: 0.0045\n",
            "Epoch 36/100\n",
            "90000/90000 [==============================] - 17s 192us/step - loss: 16.0370 - acc: 0.0050 - val_loss: 16.0456 - val_acc: 0.0045\n",
            "Epoch 37/100\n",
            "90000/90000 [==============================] - 17s 192us/step - loss: 16.0370 - acc: 0.0050 - val_loss: 16.0456 - val_acc: 0.0045\n",
            "Epoch 38/100\n",
            "90000/90000 [==============================] - 17s 191us/step - loss: 16.0367 - acc: 0.0050 - val_loss: 16.0456 - val_acc: 0.0045\n",
            "Epoch 39/100\n",
            "90000/90000 [==============================] - 17s 191us/step - loss: 16.0368 - acc: 0.0050 - val_loss: 16.0456 - val_acc: 0.0045\n",
            "Epoch 40/100\n",
            "90000/90000 [==============================] - 17s 194us/step - loss: 16.0366 - acc: 0.0050 - val_loss: 16.0456 - val_acc: 0.0045\n",
            "Epoch 41/100\n",
            "90000/90000 [==============================] - 17s 190us/step - loss: 16.0366 - acc: 0.0051 - val_loss: 16.0456 - val_acc: 0.0045\n",
            "Epoch 42/100\n",
            "90000/90000 [==============================] - 17s 191us/step - loss: 16.0366 - acc: 0.0050 - val_loss: 16.0456 - val_acc: 0.0045\n",
            "Epoch 43/100\n",
            "90000/90000 [==============================] - 17s 191us/step - loss: 16.0377 - acc: 0.0050 - val_loss: 16.0456 - val_acc: 0.0045\n",
            "Epoch 44/100\n",
            "90000/90000 [==============================] - 17s 192us/step - loss: 16.0373 - acc: 0.0050 - val_loss: 16.0456 - val_acc: 0.0045\n",
            "Epoch 45/100\n",
            "90000/90000 [==============================] - 17s 190us/step - loss: 16.0370 - acc: 0.0050 - val_loss: 16.0456 - val_acc: 0.0045\n",
            "Epoch 46/100\n",
            "90000/90000 [==============================] - 17s 191us/step - loss: 16.0364 - acc: 0.0051 - val_loss: 16.0456 - val_acc: 0.0045\n",
            "Epoch 47/100\n",
            "90000/90000 [==============================] - 21s 239us/step - loss: 16.0370 - acc: 0.0050 - val_loss: 16.0456 - val_acc: 0.0045\n",
            "Epoch 48/100\n",
            "90000/90000 [==============================] - 24s 262us/step - loss: 16.0364 - acc: 0.0051 - val_loss: 16.0456 - val_acc: 0.0045\n",
            "Epoch 49/100\n",
            "90000/90000 [==============================] - 23s 260us/step - loss: 16.0363 - acc: 0.0051 - val_loss: 16.0456 - val_acc: 0.0045\n",
            "Epoch 50/100\n",
            "90000/90000 [==============================] - 24s 264us/step - loss: 16.0366 - acc: 0.0051 - val_loss: 16.0456 - val_acc: 0.0045\n",
            "Epoch 51/100\n",
            "90000/90000 [==============================] - 28s 312us/step - loss: 16.0368 - acc: 0.0050 - val_loss: 16.0456 - val_acc: 0.0045\n",
            "Epoch 52/100\n",
            "90000/90000 [==============================] - 40s 440us/step - loss: 16.0368 - acc: 0.0050 - val_loss: 16.0456 - val_acc: 0.0045\n",
            "Epoch 53/100\n",
            "90000/90000 [==============================] - 40s 442us/step - loss: 16.0370 - acc: 0.0050 - val_loss: 16.0456 - val_acc: 0.0045\n",
            "Epoch 54/100\n",
            "90000/90000 [==============================] - 40s 440us/step - loss: 16.0366 - acc: 0.0051 - val_loss: 16.0456 - val_acc: 0.0045\n",
            "Epoch 55/100\n",
            "90000/90000 [==============================] - 39s 433us/step - loss: 16.0366 - acc: 0.0051 - val_loss: 16.0456 - val_acc: 0.0045\n",
            "Epoch 56/100\n",
            "90000/90000 [==============================] - 40s 442us/step - loss: 16.0365 - acc: 0.0051 - val_loss: 16.0456 - val_acc: 0.0045\n",
            "Epoch 57/100\n",
            "90000/90000 [==============================] - 39s 437us/step - loss: 16.0363 - acc: 0.0051 - val_loss: 16.0456 - val_acc: 0.0045\n",
            "Epoch 58/100\n",
            "90000/90000 [==============================] - 40s 442us/step - loss: 16.0372 - acc: 0.0050 - val_loss: 16.0456 - val_acc: 0.0045\n",
            "Epoch 59/100\n",
            "90000/90000 [==============================] - 40s 443us/step - loss: 16.0368 - acc: 0.0050 - val_loss: 16.0456 - val_acc: 0.0045\n",
            "Epoch 60/100\n",
            "90000/90000 [==============================] - 40s 439us/step - loss: 16.0368 - acc: 0.0050 - val_loss: 16.0456 - val_acc: 0.0045\n",
            "Epoch 61/100\n",
            "90000/90000 [==============================] - 40s 441us/step - loss: 16.0364 - acc: 0.0051 - val_loss: 16.0456 - val_acc: 0.0045\n",
            "Epoch 62/100\n",
            "90000/90000 [==============================] - 40s 442us/step - loss: 16.0366 - acc: 0.0051 - val_loss: 16.0456 - val_acc: 0.0045\n",
            "Epoch 63/100\n",
            "90000/90000 [==============================] - 40s 440us/step - loss: 16.0368 - acc: 0.0050 - val_loss: 16.0456 - val_acc: 0.0045\n",
            "Epoch 64/100\n",
            "90000/90000 [==============================] - 40s 442us/step - loss: 16.0366 - acc: 0.0051 - val_loss: 16.0456 - val_acc: 0.0045\n",
            "Epoch 65/100\n",
            "90000/90000 [==============================] - 40s 441us/step - loss: 16.0368 - acc: 0.0050 - val_loss: 16.0456 - val_acc: 0.0045\n",
            "Epoch 66/100\n",
            "90000/90000 [==============================] - 40s 440us/step - loss: 16.0368 - acc: 0.0050 - val_loss: 16.0456 - val_acc: 0.0045\n",
            "Epoch 67/100\n",
            "90000/90000 [==============================] - 39s 436us/step - loss: 16.0366 - acc: 0.0051 - val_loss: 16.0456 - val_acc: 0.0045\n",
            "Epoch 68/100\n",
            "90000/90000 [==============================] - 40s 442us/step - loss: 16.0366 - acc: 0.0051 - val_loss: 16.0456 - val_acc: 0.0045\n",
            "Epoch 69/100\n",
            "90000/90000 [==============================] - 40s 440us/step - loss: 16.0366 - acc: 0.0051 - val_loss: 16.0456 - val_acc: 0.0045\n",
            "Epoch 70/100\n",
            "90000/90000 [==============================] - 40s 444us/step - loss: 16.0368 - acc: 0.0050 - val_loss: 16.0456 - val_acc: 0.0045\n",
            "Epoch 71/100\n",
            "90000/90000 [==============================] - 40s 441us/step - loss: 16.0366 - acc: 0.0051 - val_loss: 16.0456 - val_acc: 0.0045\n",
            "Epoch 72/100\n",
            "90000/90000 [==============================] - 40s 442us/step - loss: 16.0368 - acc: 0.0050 - val_loss: 16.0456 - val_acc: 0.0045\n",
            "Epoch 73/100\n",
            "90000/90000 [==============================] - 40s 439us/step - loss: 16.0363 - acc: 0.0051 - val_loss: 16.0456 - val_acc: 0.0045\n",
            "Epoch 74/100\n",
            "90000/90000 [==============================] - 40s 443us/step - loss: 16.0366 - acc: 0.0051 - val_loss: 16.0456 - val_acc: 0.0045\n",
            "Epoch 75/100\n",
            "90000/90000 [==============================] - 40s 443us/step - loss: 16.0366 - acc: 0.0051 - val_loss: 16.0456 - val_acc: 0.0045\n",
            "Epoch 76/100\n",
            "90000/90000 [==============================] - 39s 438us/step - loss: 16.0366 - acc: 0.0051 - val_loss: 16.0456 - val_acc: 0.0045\n",
            "Epoch 77/100\n",
            "90000/90000 [==============================] - 40s 443us/step - loss: 16.0368 - acc: 0.0050 - val_loss: 16.0456 - val_acc: 0.0045\n",
            "Epoch 78/100\n",
            "90000/90000 [==============================] - 40s 445us/step - loss: 16.0364 - acc: 0.0051 - val_loss: 16.0456 - val_acc: 0.0045\n",
            "Epoch 79/100\n",
            "90000/90000 [==============================] - 40s 444us/step - loss: 16.0366 - acc: 0.0051 - val_loss: 16.0456 - val_acc: 0.0045\n",
            "Epoch 80/100\n",
            "90000/90000 [==============================] - 40s 444us/step - loss: 16.0366 - acc: 0.0051 - val_loss: 16.0456 - val_acc: 0.0045\n",
            "Epoch 81/100\n",
            "90000/90000 [==============================] - 40s 444us/step - loss: 16.0366 - acc: 0.0051 - val_loss: 16.0456 - val_acc: 0.0045\n",
            "Epoch 82/100\n",
            "90000/90000 [==============================] - 40s 441us/step - loss: 16.0364 - acc: 0.0051 - val_loss: 16.0456 - val_acc: 0.0045\n",
            "Epoch 83/100\n",
            "90000/90000 [==============================] - 39s 438us/step - loss: 16.0368 - acc: 0.0050 - val_loss: 16.0456 - val_acc: 0.0045\n",
            "Epoch 84/100\n",
            "90000/90000 [==============================] - 39s 434us/step - loss: 16.0366 - acc: 0.0051 - val_loss: 16.0456 - val_acc: 0.0045\n",
            "Epoch 85/100\n",
            "90000/90000 [==============================] - 39s 437us/step - loss: 16.0366 - acc: 0.0051 - val_loss: 16.0456 - val_acc: 0.0045\n",
            "Epoch 86/100\n",
            "90000/90000 [==============================] - 40s 448us/step - loss: 16.0366 - acc: 0.0051 - val_loss: 16.0456 - val_acc: 0.0045\n",
            "Epoch 87/100\n",
            "90000/90000 [==============================] - 40s 445us/step - loss: 16.0366 - acc: 0.0051 - val_loss: 16.0456 - val_acc: 0.0045\n",
            "Epoch 88/100\n",
            "90000/90000 [==============================] - 39s 435us/step - loss: 16.0368 - acc: 0.0050 - val_loss: 16.0456 - val_acc: 0.0045\n",
            "Epoch 89/100\n",
            "90000/90000 [==============================] - 39s 437us/step - loss: 16.0366 - acc: 0.0051 - val_loss: 16.0456 - val_acc: 0.0045\n",
            "Epoch 90/100\n",
            "90000/90000 [==============================] - 39s 434us/step - loss: 16.0366 - acc: 0.0051 - val_loss: 16.0456 - val_acc: 0.0045\n",
            "Epoch 91/100\n",
            "90000/90000 [==============================] - 39s 437us/step - loss: 16.0366 - acc: 0.0051 - val_loss: 16.0456 - val_acc: 0.0045\n",
            "Epoch 92/100\n",
            "90000/90000 [==============================] - 39s 430us/step - loss: 16.0366 - acc: 0.0051 - val_loss: 16.0456 - val_acc: 0.0045\n",
            "Epoch 93/100\n",
            "90000/90000 [==============================] - 40s 441us/step - loss: 16.0366 - acc: 0.0051 - val_loss: 16.0456 - val_acc: 0.0045\n",
            "Epoch 94/100\n",
            "90000/90000 [==============================] - 40s 439us/step - loss: 16.0366 - acc: 0.0051 - val_loss: 16.0456 - val_acc: 0.0045\n",
            "Epoch 95/100\n",
            "90000/90000 [==============================] - 39s 436us/step - loss: 16.0366 - acc: 0.0051 - val_loss: 16.0456 - val_acc: 0.0045\n",
            "Epoch 96/100\n",
            "90000/90000 [==============================] - 40s 439us/step - loss: 16.0365 - acc: 0.0051 - val_loss: 16.0456 - val_acc: 0.0045\n",
            "Epoch 97/100\n",
            "90000/90000 [==============================] - 39s 431us/step - loss: 16.0364 - acc: 0.0051 - val_loss: 16.0456 - val_acc: 0.0045\n",
            "Epoch 98/100\n",
            "90000/90000 [==============================] - 39s 435us/step - loss: 16.0368 - acc: 0.0050 - val_loss: 16.0456 - val_acc: 0.0045\n",
            "Epoch 99/100\n",
            "90000/90000 [==============================] - 39s 435us/step - loss: 16.0368 - acc: 0.0050 - val_loss: 16.0456 - val_acc: 0.0045\n",
            "Epoch 100/100\n",
            "90000/90000 [==============================] - 39s 431us/step - loss: 16.0368 - acc: 0.0050 - val_loss: 16.0456 - val_acc: 0.0045\n"
          ],
          "name": "stdout"
        }
      ]
    },
    {
      "metadata": {
        "id": "7Qnn6QajbePr",
        "colab_type": "code",
        "colab": {
          "base_uri": "https://localhost:8080/",
          "height": 736
        },
        "outputId": "c0ed0907-1864-407a-b003-2e9c9b98aae9"
      },
      "cell_type": "code",
      "source": [
        "plothistory(history)"
      ],
      "execution_count": 25,
      "outputs": [
        {
          "output_type": "display_data",
          "data": {
            "image/png": "[encoded data removed]",
            "text/plain": [
              "<Figure size 576x396 with 1 Axes>"
            ]
          },
          "metadata": {
            "tags": []
          }
        },
        {
          "output_type": "display_data",
          "data": {
            "image/png": "[encoded data removed]",
            "text/plain": [
              "<Figure size 576x396 with 1 Axes>"
            ]
          },
          "metadata": {
            "tags": []
          }
        }
      ]
    }
  ]
}
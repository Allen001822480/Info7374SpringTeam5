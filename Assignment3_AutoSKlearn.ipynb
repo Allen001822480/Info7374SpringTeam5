{
 "cells": [
  {
   "cell_type": "code",
   "execution_count": 3,
   "metadata": {},
   "outputs": [
    {
     "name": "stdout",
     "output_type": "stream",
     "text": [
      "[[ 0.2         0.1649905   0.98556757  0.877939  ]\n",
      " [ 0.30000001  0.85399306  0.86355823  0.828761  ]\n",
      " [ 0.30000001  0.99476975  0.5         0.675472  ]\n",
      " [ 0.          0.94807804  0.5         0.761142  ]\n",
      " [ 0.2         0.99743611  0.76881218  0.366428  ]\n",
      " [ 0.          0.9989506   0.86195618  0.543569  ]\n",
      " [ 0.          0.97733784  0.5        -0.516176  ]\n",
      " [-0.1         0.98780417  0.5        -0.490383  ]\n",
      " [ 0.5         0.91680908  0.93290031  0.971096  ]\n",
      " [ 0.80000001  0.9969855   0.95537889  0.972526  ]\n",
      " [ 0.30000001  0.99078345  0.91674507  0.493107  ]\n",
      " [ 0.60000002  0.95547205  0.5         0.863715  ]\n",
      " [ 0.30000001  0.9593178   0.5         0.775077  ]\n",
      " [ 0.40000001  0.9722839   0.8877207   0.769903  ]\n",
      " [ 0.30000001  0.83534259  0.5         0.69456   ]\n",
      " [ 0.30000001  0.98777103  0.92822576  0.896242  ]\n",
      " [ 0.40000001  0.98190051  0.5         0.939245  ]\n",
      " [ 0.2         0.99663639  0.5         0.792804  ]\n",
      " [ 0.80000001  0.9843837   0.5         0.832673  ]\n",
      " [ 0.5         0.99091703  0.5         0.703591  ]\n",
      " [ 0.60000002  0.78843087  0.79901922  0.852675  ]\n",
      " [ 0.2         0.97760767  0.74214298  0.953697  ]\n",
      " [ 0.80000001  0.99232626  0.90121162  0.932287  ]\n",
      " [ 0.40000001  0.98577684  0.5         0.857271  ]\n",
      " [ 0.69999999  0.98669493  0.81372344  0.875679  ]\n",
      " [ 0.5         0.97692311  0.5         0.668776  ]\n",
      " [ 0.60000002  0.81031221  0.5         0.845262  ]\n",
      " [ 0.5         0.87649834  0.5         0.634712  ]\n",
      " [ 0.1         0.98665667  0.5         0.96706   ]\n",
      " [ 0.80000001  0.94194561  0.5         0.901168  ]\n",
      " [ 0.60000002  0.65863746  0.5         0.944358  ]\n",
      " [-0.30000001  0.7929365   0.5        -0.825902  ]\n",
      " [ 0.69999999  0.89212126  0.5         0.922634  ]\n",
      " [ 0.1         0.95605463  0.90807784  0.936524  ]\n",
      " [ 0.5         0.98414499  0.5         0.984519  ]\n",
      " [ 0.2         0.70007801  0.7052213   0.903479  ]\n",
      " [ 0.30000001  0.59893423  0.80422395  0.553988  ]\n",
      " [ 0.2         0.77229869  0.92047501  0.882205  ]\n",
      " [ 0.1         0.96104532  0.92698997  0.777124  ]\n",
      " [ 0.1         0.87465274  0.81613714  0.858093  ]\n",
      " [ 0.          0.97624207  0.79951632  0.723623  ]\n",
      " [ 0.30000001  0.9782275   0.25483769  0.846587  ]\n",
      " [ 0.1         0.99615186  0.87079185  0.99447   ]\n",
      " [ 0.2         0.98225409  0.5         0.884363  ]\n",
      " [ 0.5         0.98581821  0.5         0.867924  ]\n",
      " [ 0.1         0.99668664  0.5         0.799251  ]\n",
      " [ 0.          0.98563123  0.5         0.858541  ]\n",
      " [-0.1         0.99861348  0.5        -0.446756  ]\n",
      " [ 0.          0.59467024  0.5         0.764801  ]\n",
      " [ 0.2         0.99518859  0.5         0.915477  ]\n",
      " [-0.2         0.61075783  0.5         0.815174  ]\n",
      " [ 0.          0.98761892  0.5         0.979513  ]\n",
      " [-0.40000001  0.97540241  0.5         0.59227   ]\n",
      " [-0.5         0.99077249  0.08383706 -0.797905  ]\n",
      " [ 0.1         0.98798722  0.5         0.981325  ]\n",
      " [ 0.5         0.99710292  0.5         0.        ]\n",
      " [ 0.2         0.8804844   0.5         0.875263  ]\n",
      " [ 0.          0.99344385  0.5        -0.797015  ]\n",
      " [-0.60000002  0.99367011  0.5         0.890683  ]\n",
      " [ 0.2         0.76171935  0.5         0.748178  ]\n",
      " [ 0.          0.93677378  0.5         0.764109  ]\n",
      " [ 0.80000001  0.95906711  0.78377676  0.861993  ]\n",
      " [ 0.30000001  0.9417699   0.5         0.544197  ]\n",
      " [ 0.40000001  0.99851781  0.5         0.        ]\n",
      " [ 0.1         0.75916046  0.2084361   0.315046  ]\n",
      " [ 0.30000001  0.97870106  0.5         0.936501  ]\n",
      " [ 0.1         0.96107107  0.21002248  0.874736  ]\n",
      " [ 0.          0.99755621  0.5         0.537832  ]\n",
      " [ 0.1         0.99572361  0.70727491  0.846359  ]\n",
      " [ 0.30000001  0.99402195  0.13878343  0.993866  ]\n",
      " [ 0.30000001  0.99706155  0.5         0.624375  ]\n",
      " [ 0.2         0.9680807   0.29164311  0.705477  ]\n",
      " [ 0.1         0.95414835  0.5         0.808037  ]\n",
      " [ 0.30000001  0.98311031  0.5         0.988372  ]\n",
      " [ 0.1         0.9221853   0.5         0.550082  ]\n",
      " [ 0.1         0.98836493  0.5         0.735057  ]\n",
      " [ 0.          0.99502963  0.5         0.706991  ]\n",
      " [ 0.30000001  0.9402197   0.5         0.926988  ]\n",
      " [ 0.1         0.99268484  0.5         0.868932  ]\n",
      " [ 0.1         0.93257672  0.5         0.92647   ]\n",
      " [ 0.80000001  0.9150731   0.80456907  0.817268  ]\n",
      " [ 0.1         0.82699311  0.09661308  0.276185  ]\n",
      " [ 0.1         0.74541056  0.5         0.53654   ]\n",
      " [ 0.          0.94460934  0.84790218  0.878399  ]\n",
      " [ 0.          0.28478536  0.5        -0.542006  ]\n",
      " [ 0.2         0.87246901  0.91233945  0.79026   ]\n",
      " [ 0.1         0.95457655  0.5         0.397991  ]\n",
      " [ 0.1         0.89026052  0.5         0.547742  ]\n",
      " [ 0.1         0.93745095  0.5        -0.416124  ]\n",
      " [ 0.40000001  0.08538188  0.9013623   0.958201  ]\n",
      " [ 0.2         0.86112911  0.88906014  0.822974  ]\n",
      " [ 0.          0.3184664   0.3013283   0.745698  ]\n",
      " [ 0.          0.85357279  0.5         0.702985  ]\n",
      " [ 0.1         0.94754368  0.5         0.484802  ]\n",
      " [ 0.1         0.09554159  0.5         0.86626   ]\n",
      " [ 0.1         0.81972456  0.5         0.79469   ]\n",
      " [ 0.40000001  0.94086677  0.99644154  0.978509  ]\n",
      " [ 0.          0.96970719  0.80608141  0.943884  ]\n",
      " [ 0.          0.83729923  0.5         0.        ]\n",
      " [ 0.2         0.65792149  0.87556243  0.790779  ]\n",
      " [ 0.30000001  0.96275228  0.5         0.974164  ]\n",
      " [ 0.1         0.01984293  0.5         0.794002  ]\n",
      " [ 0.2         0.78444958  0.5         0.879248  ]\n",
      " [ 0.89999998  0.57437593  0.95203567  0.97107   ]\n",
      " [ 0.69999999  0.81885743  0.5         0.703124  ]\n",
      " [ 0.69999999  0.86703205  0.79169112  0.982205  ]\n",
      " [ 0.40000001  0.89911652  0.5         0.934712  ]\n",
      " [ 0.5         0.94723511  0.98189777  0.969054  ]\n",
      " [ 0.          0.62624609  0.94020659  0.95197   ]\n",
      " [ 0.          0.93278551  0.90531856  0.988573  ]\n",
      " [ 0.1         0.93172914  0.5         0.849736  ]\n",
      " [ 0.          0.56096089  0.81933522  0.7368    ]\n",
      " [ 0.2         0.58655387  0.92357957  0.927184  ]\n",
      " [ 0.          0.05490706  0.98687351  0.876973  ]\n",
      " [ 0.          0.58634543  0.91697216  0.96007   ]\n",
      " [ 0.          0.87062329  0.90531856  0.988573  ]\n",
      " [ 0.1         0.93378544  0.90171802  0.633428  ]\n",
      " [ 0.2         0.46173793  0.78462672  0.875901  ]\n",
      " [ 0.40000001  0.95553583  0.5         0.975529  ]\n",
      " [ 0.40000001  0.93774152  0.93615675  0.747368  ]\n",
      " [ 0.30000001  0.46756697  0.5         0.97164   ]\n",
      " [ 0.          0.73348188  0.78658998  0.827527  ]\n",
      " [ 0.1         0.13395409  0.5         0.612213  ]\n",
      " [ 0.2         0.5660333   0.5         0.680226  ]\n",
      " [ 0.2         0.42400923  0.5         0.782884  ]\n",
      " [ 0.          0.787117    0.99480045  0.991367  ]\n",
      " [ 0.          0.94930816  0.93894142  0.991367  ]\n",
      " [ 0.          0.94170719  0.90531856  0.994134  ]\n",
      " [ 0.5         0.99126667  0.94793618  0.988573  ]\n",
      " [ 0.5         0.63844222  0.5         0.968047  ]\n",
      " [ 0.          0.9823845   0.5         0.628452  ]\n",
      " [ 0.40000001  0.97220278  0.96361119  0.714027  ]\n",
      " [ 0.89999998  0.93209779  0.99045706  0.959768  ]\n",
      " [ 0.          0.97991818  0.94981831  0.99458   ]\n",
      " [ 0.          0.57628131  0.5         0.963146  ]\n",
      " [ 0.40000001  0.81997001  0.94894868  0.988573  ]\n",
      " [ 0.1         0.84311962  0.5         0.885402  ]\n",
      " [ 0.69999999  0.74068463  0.95643234  0.770978  ]\n",
      " [ 0.5         0.93200356  0.95623267  0.892969  ]\n",
      " [ 0.5         0.04859837  0.99512577  0.887522  ]\n",
      " [ 0.          0.4158521   0.95223075  0.983079  ]\n",
      " [ 0.          0.85078669  0.91250443  0.938169  ]\n",
      " [ 0.30000001  0.45498973  0.92235804  0.988573  ]\n",
      " [ 0.2         0.67650414  0.91762435  0.832285  ]\n",
      " [-0.2         0.18125941  0.19908768  0.644162  ]\n",
      " [ 0.89999998  0.96634078  0.5        -0.833923  ]\n",
      " [ 0.60000002  0.98065072  0.5         0.995956  ]\n",
      " [ 0.2         0.99108326  0.5         0.886648  ]\n",
      " [ 0.40000001  0.99205083  0.5         0.753319  ]\n",
      " [ 0.40000001  0.98294985  0.5         0.466814  ]\n",
      " [ 0.30000001  0.6157636   0.5         0.933397  ]\n",
      " [ 0.1         0.92682791  0.5         0.362142  ]\n",
      " [ 0.5         0.94344658  0.99596369  0.690704  ]\n",
      " [ 0.2         0.26919466  0.96332788  0.994648  ]\n",
      " [ 0.          0.57299674  0.94903147  0.96945   ]\n",
      " [ 0.          0.40431201  0.91563004  0.979046  ]\n",
      " [ 0.          0.85920006  0.80946809  0.988573  ]\n",
      " [ 0.1         0.78169656  0.5         0.651099  ]\n",
      " [ 0.30000001  0.38533691  0.86794239  0.935281  ]\n",
      " [ 0.          0.70767951  0.5         0.783423  ]\n",
      " [ 0.1         0.15181273  0.5         0.663949  ]\n",
      " [-0.2         0.75745004  0.5         0.659667  ]\n",
      " [ 0.5         0.90056944  0.81498235  0.832595  ]\n",
      " [ 0.30000001  0.90444976  0.5         0.551761  ]\n",
      " [ 0.2         0.52693594  0.75523657  0.861711  ]\n",
      " [ 0.30000001  0.55654484  0.96248579  0.432126  ]\n",
      " [ 0.          0.92160529  0.88576913  0.966286  ]\n",
      " [ 0.2         0.48806256  0.5         0.624312  ]\n",
      " [ 0.2         0.13133854  0.5         0.504739  ]\n",
      " [ 0.2         0.30721471  0.5         0.780763  ]\n",
      " [ 0.5         0.91200447  0.9826088   0.761516  ]\n",
      " [ 0.          0.43511522  0.89294922  0.895904  ]\n",
      " [ 0.          0.82404441  0.85606849  0.667749  ]\n",
      " [ 0.5         0.92785406  0.89738619  0.833766  ]\n",
      " [ 0.1         0.48478821  0.98911488  0.969957  ]\n",
      " [ 0.2         0.84683359  0.98312652  0.961035  ]\n",
      " [ 0.          0.93336922  0.98404825  0.979898  ]\n",
      " [ 0.1         0.39194432  0.88217831  0.984274  ]]\n"
     ]
    }
   ],
   "source": [
    "import pandas as pd\n",
    "data = pd.read_csv('API_score.csv')\n",
    "data = data.values\n",
    "print(data)"
   ]
  },
  {
   "cell_type": "code",
   "execution_count": 4,
   "metadata": {},
   "outputs": [
    {
     "name": "stderr",
     "output_type": "stream",
     "text": [
      "Using TensorFlow backend.\n"
     ]
    },
    {
     "name": "stdout",
     "output_type": "stream",
     "text": [
      "(142, 4) (36, 4)\n",
      "(142, 3) (36, 3)\n"
     ]
    }
   ],
   "source": [
    "import json\n",
    "import keras\n",
    "import numpy as np\n",
    "from sklearn.model_selection import train_test_split\n",
    "num_classes = 3\n",
    "jsonfile = open('Team5_Microsoft.json')\n",
    "jsondata = jsonfile.read()\n",
    "textdata = json.loads(jsondata)\n",
    "label = list(textdata['sentiment'].values())\n",
    "label = np.asarray(label)\n",
    "label = keras.utils.to_categorical(label, num_classes)\n",
    "x_train,x_test, y_train, y_test = train_test_split(data, label, test_size = 0.2)\n",
    "print(x_train.shape,x_test.shape)\n",
    "print(y_train.shape,y_test.shape)"
   ]
  },
  {
   "cell_type": "code",
   "execution_count": 5,
   "metadata": {},
   "outputs": [
    {
     "name": "stdout",
     "output_type": "stream",
     "text": [
      "[WARNING] [2019-03-21 19:27:10,122:EnsembleBuilder(1):3aaa4fbfe88351b04a0c21a86c798708] No models better than random - using Dummy Score!\n",
      "[WARNING] [2019-03-21 19:27:10,132:EnsembleBuilder(1):3aaa4fbfe88351b04a0c21a86c798708] No models better than random - using Dummy Score!\n",
      "[WARNING] [2019-03-21 19:27:40,574:smac.intensification.intensification.Intensifier] Challenger was the same as the current incumbent; Skipping challenger\n",
      "[WARNING] [2019-03-21 19:27:40,574:smac.intensification.intensification.Intensifier] Challenger was the same as the current incumbent; Skipping challenger\n",
      "[WARNING] [2019-03-21 19:35:53,646:smac.intensification.intensification.Intensifier] Challenger was the same as the current incumbent; Skipping challenger\n",
      "[WARNING] [2019-03-21 19:35:53,646:smac.intensification.intensification.Intensifier] Challenger was the same as the current incumbent; Skipping challenger\n"
     ]
    },
    {
     "ename": "AttributeError",
     "evalue": "'AutoSklearnClassifier' object has no attribute 'evaluate'",
     "output_type": "error",
     "traceback": [
      "\u001b[0;31m---------------------------------------------------------------------------\u001b[0m",
      "\u001b[0;31mAttributeError\u001b[0m                            Traceback (most recent call last)",
      "\u001b[0;32m<ipython-input-5-aaee69ff281f>\u001b[0m in \u001b[0;36m<module>\u001b[0;34m\u001b[0m\n\u001b[1;32m     10\u001b[0m \u001b[0;32mimport\u001b[0m \u001b[0mmatplotlib\u001b[0m\u001b[0;34m.\u001b[0m\u001b[0mpyplot\u001b[0m \u001b[0;32mas\u001b[0m \u001b[0mplt\u001b[0m\u001b[0;34m\u001b[0m\u001b[0;34m\u001b[0m\u001b[0m\n\u001b[1;32m     11\u001b[0m \u001b[0;34m\u001b[0m\u001b[0m\n\u001b[0;32m---> 12\u001b[0;31m \u001b[0mscores\u001b[0m \u001b[0;34m=\u001b[0m \u001b[0mautoml\u001b[0m\u001b[0;34m.\u001b[0m\u001b[0mevaluate\u001b[0m\u001b[0;34m(\u001b[0m\u001b[0mx_test\u001b[0m\u001b[0;34m,\u001b[0m \u001b[0my_test\u001b[0m\u001b[0;34m,\u001b[0m \u001b[0mverbose\u001b[0m\u001b[0;34m=\u001b[0m\u001b[0;36m1\u001b[0m\u001b[0;34m)\u001b[0m\u001b[0;34m\u001b[0m\u001b[0;34m\u001b[0m\u001b[0m\n\u001b[0m\u001b[1;32m     13\u001b[0m \u001b[0mprint\u001b[0m\u001b[0;34m(\u001b[0m\u001b[0;34m'Test loss:'\u001b[0m\u001b[0;34m,\u001b[0m \u001b[0mscores\u001b[0m\u001b[0;34m[\u001b[0m\u001b[0;36m0\u001b[0m\u001b[0;34m]\u001b[0m\u001b[0;34m)\u001b[0m\u001b[0;34m\u001b[0m\u001b[0;34m\u001b[0m\u001b[0m\n\u001b[1;32m     14\u001b[0m \u001b[0mprint\u001b[0m\u001b[0;34m(\u001b[0m\u001b[0;34m'Test accuracy:'\u001b[0m\u001b[0;34m,\u001b[0m \u001b[0mscores\u001b[0m\u001b[0;34m[\u001b[0m\u001b[0;36m1\u001b[0m\u001b[0;34m]\u001b[0m\u001b[0;34m)\u001b[0m\u001b[0;34m\u001b[0m\u001b[0;34m\u001b[0m\u001b[0m\n",
      "\u001b[0;31mAttributeError\u001b[0m: 'AutoSklearnClassifier' object has no attribute 'evaluate'"
     ]
    }
   ],
   "source": [
    "import autosklearn.classification\n",
    "import sklearn.model_selection\n",
    "import sklearn.datasets\n",
    "import sklearn.metrics\n",
    "import warnings\n",
    "warnings.filterwarnings('ignore')\n",
    "automl = autosklearn.classification.AutoSklearnClassifier()\n",
    "history = automl.fit(x_train, y_train)\n",
    "\n",
    "import matplotlib.pyplot as plt\n",
    "\n",
    "scores = automl.evaluate(x_test, y_test, verbose=1)\n",
    "print('Test loss:', scores[0])\n",
    "print('Test accuracy:', scores[1])\n",
    "\n",
    "plt.plot(history.history['acc'])\n",
    "plt.plot(history.history['val_acc'])\n",
    "plt.title('model accuracy')\n",
    "plt.ylabel('accuracy')\n",
    "plt.xlabel('epoch')\n",
    "plt.legend(['train', 'test'], loc='upper left')\n",
    "plt.show()\n",
    "\n",
    "plt.plot(history.history['loss'])\n",
    "plt.plot(history.history['val_loss'])\n",
    "plt.title('model loss')\n",
    "plt.ylabel('loss')\n",
    "plt.xlabel('epoch')\n",
    "plt.legend(['train', 'test'], loc='upper left')\n",
    "plt.show()\n"
   ]
  },
  {
   "cell_type": "code",
   "execution_count": 7,
   "metadata": {},
   "outputs": [
    {
     "name": "stdout",
     "output_type": "stream",
     "text": [
      "Accuracy score 0.75\n"
     ]
    }
   ],
   "source": [
    "pred = automl.predict(x_test)\n",
    "print(\"Accuracy score\", sklearn.metrics.accuracy_score(y_test, pred))"
   ]
  },
  {
   "cell_type": "code",
   "execution_count": 15,
   "metadata": {},
   "outputs": [
    {
     "data": {
      "text/plain": [
       "<Figure size 432x288 with 0 Axes>"
      ]
     },
     "metadata": {},
     "output_type": "display_data"
    },
    {
     "data": {
      "image/png": "[encoded data removed]",
      "text/plain": [
       "<Figure size 864x576 with 1 Axes>"
      ]
     },
     "metadata": {
      "needs_background": "light"
     },
     "output_type": "display_data"
    }
   ],
   "source": [
    "import matplotlib.pyplot as plt\n",
    "from sklearn.metrics import confusion_matrix\n",
    "from mlxtend.plotting import plot_confusion_matrix\n",
    "\n",
    "test_label = np.argmax(y_test, axis=1)\n",
    "pred = np.argmax(pred, axis=1)\n",
    "cm=confusion_matrix(test_label, pred)\n",
    "plt.figure()\n",
    "plot_confusion_matrix(cm,figsize=(12,8), hide_ticks=True,cmap=plt.cm.Blues)\n",
    "plt.xticks(range(3), ['negative','positive','neutral'], fontsize=16)\n",
    "plt.yticks(range(3), ['negative','positive','neutral'], fontsize=16)\n",
    "plt.show()\n"
   ]
  },
  {
   "cell_type": "code",
   "execution_count": 16,
   "metadata": {},
   "outputs": [
    {
     "data": {
      "text/plain": [
       "<Figure size 432x288 with 0 Axes>"
      ]
     },
     "metadata": {},
     "output_type": "display_data"
    },
    {
     "data": {
      "image/png": "[encoded data removed]",
      "text/plain": [
       "<Figure size 864x576 with 1 Axes>"
      ]
     },
     "metadata": {
      "needs_background": "light"
     },
     "output_type": "display_data"
    }
   ],
   "source": [
    "pred = automl.predict(data)\n",
    "total_label = np.argmax(label, axis=1)\n",
    "pred = np.argmax(pred, axis=1)\n",
    "cm=confusion_matrix(total_label, pred)\n",
    "plt.figure()\n",
    "plot_confusion_matrix(cm,figsize=(12,8), hide_ticks=True,cmap=plt.cm.Blues)\n",
    "plt.xticks(range(3), ['negative','positive','neutral'], fontsize=16)\n",
    "plt.yticks(range(3), ['negative','positive','neutral'], fontsize=16)\n",
    "plt.show()"
   ]
  },
  {
   "cell_type": "code",
   "execution_count": null,
   "metadata": {},
   "outputs": [],
   "source": []
  }
 ],
 "metadata": {
  "kernelspec": {
   "display_name": "Python 3",
   "language": "python",
   "name": "python3"
  },
  "language_info": {
   "codemirror_mode": {
    "name": "ipython",
    "version": 3
   },
   "file_extension": ".py",
   "mimetype": "text/x-python",
   "name": "python",
   "nbconvert_exporter": "python",
   "pygments_lexer": "ipython3",
   "version": "3.6.5"
  }
 },
 "nbformat": 4,
 "nbformat_minor": 2
}

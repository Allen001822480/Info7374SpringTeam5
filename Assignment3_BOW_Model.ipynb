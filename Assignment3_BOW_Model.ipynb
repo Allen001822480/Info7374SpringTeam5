{
  "nbformat": 4,
  "nbformat_minor": 0,
  "metadata": {
    "colab": {
      "name": "Assignment3_BOW_Model.ipynb",
      "version": "0.3.2",
      "provenance": [],
      "collapsed_sections": []
    },
    "kernelspec": {
      "name": "python3",
      "display_name": "Python 3"
    },
    "accelerator": "GPU"
  },
  "cells": [
    {
      "metadata": {
        "id": "xhLAIP9FUPDO",
        "colab_type": "code",
        "outputId": "d020cab9-114d-4d9f-b25c-c8b051d082ab",
        "colab": {
          "base_uri": "https://localhost:8080/",
          "height": 35
        }
      },
      "cell_type": "code",
      "source": [
        "import json\n",
        "import keras\n",
        "from sklearn.model_selection import train_test_split \n",
        "\n",
        "json_file = open('Team5_Microsoft.json')\n",
        "json_str = json_file.read()\n",
        "data = json.loads(json_str)\n",
        "\n",
        "X_raw = list(data['text'].values())\n",
        "y_raw = list(data['sentiment'].values())\n",
        "y = keras.utils.to_categorical(y_raw, 3)"
      ],
      "execution_count": 0,
      "outputs": [
        {
          "output_type": "stream",
          "text": [
            "Using TensorFlow backend.\n"
          ],
          "name": "stderr"
        }
      ]
    },
    {
      "metadata": {
        "id": "IdOIBUBDUrrL",
        "colab_type": "code",
        "outputId": "33d11f5c-e45e-4bca-f73e-ada58f72476b",
        "colab": {
          "base_uri": "https://localhost:8080/",
          "height": 143
        }
      },
      "cell_type": "code",
      "source": [
        "from sklearn.feature_extraction.text import CountVectorizer\n",
        "\n",
        "vectorizer = CountVectorizer()\n",
        "X = vectorizer.fit_transform(X_raw)\n",
        "\n",
        "print(X.toarray())"
      ],
      "execution_count": 0,
      "outputs": [
        {
          "output_type": "stream",
          "text": [
            "[[0 0 0 ... 2 1 0]\n",
            " [0 0 0 ... 1 0 0]\n",
            " [0 0 0 ... 1 0 0]\n",
            " ...\n",
            " [0 0 0 ... 0 0 0]\n",
            " [0 0 0 ... 1 0 0]\n",
            " [0 0 0 ... 2 2 0]]\n"
          ],
          "name": "stdout"
        }
      ]
    },
    {
      "metadata": {
        "id": "sCkIJM3LoxWj",
        "colab_type": "code",
        "colab": {}
      },
      "cell_type": "code",
      "source": [
        "X_train, X_test, y_train, y_test = train_test_split(X,y,test_size = 0.2)"
      ],
      "execution_count": 0,
      "outputs": []
    },
    {
      "metadata": {
        "id": "JEBv2WDbadPG",
        "colab_type": "code",
        "outputId": "adb13439-12de-465e-b0d4-02b189bcfcd9",
        "colab": {
          "base_uri": "https://localhost:8080/",
          "height": 289
        }
      },
      "cell_type": "code",
      "source": [
        "from keras.models import Sequential\n",
        "from keras.layers import  Flatten, Dense\n",
        "\n",
        "model = Sequential()\n",
        "model.add(Dense(256, activation='relu', input_dim = 1646))\n",
        "model.add(Dense(3, activation='softmax'))\n",
        "model.summary()"
      ],
      "execution_count": 0,
      "outputs": [
        {
          "output_type": "stream",
          "text": [
            "WARNING:tensorflow:From /usr/local/lib/python3.6/dist-packages/tensorflow/python/framework/op_def_library.py:263: colocate_with (from tensorflow.python.framework.ops) is deprecated and will be removed in a future version.\n",
            "Instructions for updating:\n",
            "Colocations handled automatically by placer.\n",
            "_________________________________________________________________\n",
            "Layer (type)                 Output Shape              Param #   \n",
            "=================================================================\n",
            "dense_1 (Dense)              (None, 256)               421632    \n",
            "_________________________________________________________________\n",
            "dense_2 (Dense)              (None, 3)                 771       \n",
            "=================================================================\n",
            "Total params: 422,403\n",
            "Trainable params: 422,403\n",
            "Non-trainable params: 0\n",
            "_________________________________________________________________\n"
          ],
          "name": "stdout"
        }
      ]
    },
    {
      "metadata": {
        "id": "ySSrnroJbrCy",
        "colab_type": "code",
        "outputId": "d39b4654-949e-438e-d260-21c2b4e6e09b",
        "colab": {
          "base_uri": "https://localhost:8080/",
          "height": 469
        }
      },
      "cell_type": "code",
      "source": [
        "from keras import optimizers\n",
        "model.compile(optimizer=optimizers.RMSprop(lr=2e-4),\n",
        "              loss='categorical_crossentropy',\n",
        "              metrics=['acc'])\n",
        "\n",
        "history = model.fit(X,\n",
        "                    y,\n",
        "                    epochs=10,\n",
        "                    batch_size=32,\n",
        "                    validation_split = 0.2)"
      ],
      "execution_count": 0,
      "outputs": [
        {
          "output_type": "stream",
          "text": [
            "WARNING:tensorflow:From /usr/local/lib/python3.6/dist-packages/tensorflow/python/ops/math_ops.py:3066: to_int32 (from tensorflow.python.ops.math_ops) is deprecated and will be removed in a future version.\n",
            "Instructions for updating:\n",
            "Use tf.cast instead.\n",
            "Train on 142 samples, validate on 36 samples\n",
            "Epoch 1/10\n",
            "142/142 [==============================] - 1s 6ms/step - loss: 0.9371 - acc: 0.6056 - val_loss: 1.2221 - val_acc: 0.3889\n",
            "Epoch 2/10\n",
            "142/142 [==============================] - 0s 311us/step - loss: 0.6883 - acc: 0.7817 - val_loss: 1.2323 - val_acc: 0.3889\n",
            "Epoch 3/10\n",
            "142/142 [==============================] - 0s 220us/step - loss: 0.5848 - acc: 0.8169 - val_loss: 1.2518 - val_acc: 0.4167\n",
            "Epoch 4/10\n",
            "142/142 [==============================] - 0s 229us/step - loss: 0.5135 - acc: 0.8380 - val_loss: 1.2334 - val_acc: 0.4167\n",
            "Epoch 5/10\n",
            "142/142 [==============================] - 0s 219us/step - loss: 0.4570 - acc: 0.8592 - val_loss: 1.2442 - val_acc: 0.4167\n",
            "Epoch 6/10\n",
            "142/142 [==============================] - 0s 242us/step - loss: 0.4107 - acc: 0.8803 - val_loss: 1.2335 - val_acc: 0.4167\n",
            "Epoch 7/10\n",
            "142/142 [==============================] - 0s 232us/step - loss: 0.3700 - acc: 0.9085 - val_loss: 1.2386 - val_acc: 0.4167\n",
            "Epoch 8/10\n",
            "142/142 [==============================] - 0s 247us/step - loss: 0.3339 - acc: 0.9366 - val_loss: 1.2421 - val_acc: 0.4167\n",
            "Epoch 9/10\n",
            "142/142 [==============================] - 0s 232us/step - loss: 0.3018 - acc: 0.9577 - val_loss: 1.2451 - val_acc: 0.4444\n",
            "Epoch 10/10\n",
            "142/142 [==============================] - 0s 246us/step - loss: 0.2745 - acc: 0.9577 - val_loss: 1.2703 - val_acc: 0.4444\n"
          ],
          "name": "stdout"
        }
      ]
    },
    {
      "metadata": {
        "id": "MxwKxqHOf9KF",
        "colab_type": "code",
        "outputId": "a80d30a8-01aa-445d-8850-a021a054fb2c",
        "colab": {
          "base_uri": "https://localhost:8080/",
          "height": 708
        }
      },
      "cell_type": "code",
      "source": [
        "import matplotlib.pyplot as plt\n",
        "\n",
        "acc = history.history['acc']\n",
        "val_acc = history.history['val_acc']\n",
        "loss = history.history['loss']\n",
        "val_loss = history.history['val_loss']\n",
        "\n",
        "epochs = range(1, len(acc) + 1)\n",
        "\n",
        "plt.plot(epochs, acc, 'bo', label='Training acc')\n",
        "plt.plot(epochs, val_acc, 'b', label='Validation acc')\n",
        "plt.title('Training and validation accuracy')\n",
        "plt.legend()\n",
        "\n",
        "plt.figure()\n",
        "\n",
        "plt.plot(epochs, loss, 'bo', label='Training loss')\n",
        "plt.plot(epochs, val_loss, 'b', label='Validation loss')\n",
        "plt.title('Training and validation loss')\n",
        "plt.legend()\n",
        "\n",
        "plt.show()"
      ],
      "execution_count": 0,
      "outputs": [
        {
          "output_type": "display_data",
          "data": {
            "image/png": "[encoded data removed]",
            "text/plain": [
              "<Figure size 576x396 with 1 Axes>"
            ]
          },
          "metadata": {
            "tags": []
          }
        },
        {
          "output_type": "display_data",
          "data": {
            "image/png": "[encoded data removed]",
            "text/plain": [
              "<Figure size 576x396 with 1 Axes>"
            ]
          },
          "metadata": {
            "tags": []
          }
        }
      ]
    },
    {
      "metadata": {
        "id": "wt6cAgBznifv",
        "colab_type": "code",
        "outputId": "13ed61c0-7232-47fc-f88e-ea9b070c6cf2",
        "colab": {
          "base_uri": "https://localhost:8080/",
          "height": 521
        }
      },
      "cell_type": "code",
      "source": [
        "import numpy as np\n",
        "preds = model.predict(X_test)\n",
        "preds = np.argmax(preds, axis = -1)\n",
        "\n",
        "y_test_cm = np.argmax(y_test, axis = -1)\n",
        "\n",
        "from sklearn.metrics import confusion_matrix\n",
        "from mlxtend.plotting import plot_confusion_matrix\n",
        "\n",
        "cm = confusion_matrix(y_test_cm, preds)\n",
        "plt.figure()\n",
        "plot_confusion_matrix(cm,figsize=(12,8), hide_ticks=True,cmap=plt.cm.Blues)\n",
        "plt.xticks(range(3), ['neutral', 'positive', 'negative'], fontsize=16)\n",
        "plt.yticks(range(3), ['neutral', 'positive', 'negative'], fontsize=16)\n",
        "plt.show()"
      ],
      "execution_count": 0,
      "outputs": [
        {
          "output_type": "display_data",
          "data": {
            "text/plain": [
              "<Figure size 576x396 with 0 Axes>"
            ]
          },
          "metadata": {
            "tags": []
          }
        },
        {
          "output_type": "display_data",
          "data": {
            "image/png": "[encoded data removed]",
            "text/plain": [
              "<Figure size 864x576 with 1 Axes>"
            ]
          },
          "metadata": {
            "tags": []
          }
        }
      ]
    },
    {
      "metadata": {
        "id": "qKkheQ31xo16",
        "colab_type": "code",
        "outputId": "835d2370-8948-412e-cf1f-d1f681fdf60e",
        "colab": {
          "base_uri": "https://localhost:8080/",
          "height": 719
        }
      },
      "cell_type": "code",
      "source": [
        "print(preds.shape)\n",
        "print(preds)\n",
        "print(y_test.shape)\n",
        "print(y_test)"
      ],
      "execution_count": 0,
      "outputs": [
        {
          "output_type": "stream",
          "text": [
            "(36,)\n",
            "[1 1 1 1 1 1 1 1 1 1 1 2 1 1 1 1 1 1 1 1 1 1 1 1 2 1 1 1 2 1 2 1 1 1 1 1]\n",
            "(36, 3)\n",
            "[[0. 1. 0.]\n",
            " [0. 1. 0.]\n",
            " [0. 0. 1.]\n",
            " [0. 1. 0.]\n",
            " [0. 1. 0.]\n",
            " [0. 1. 0.]\n",
            " [0. 1. 0.]\n",
            " [0. 0. 1.]\n",
            " [0. 1. 0.]\n",
            " [0. 1. 0.]\n",
            " [0. 1. 0.]\n",
            " [0. 0. 1.]\n",
            " [0. 1. 0.]\n",
            " [0. 1. 0.]\n",
            " [0. 1. 0.]\n",
            " [0. 1. 0.]\n",
            " [0. 1. 0.]\n",
            " [0. 1. 0.]\n",
            " [0. 1. 0.]\n",
            " [0. 1. 0.]\n",
            " [0. 1. 0.]\n",
            " [0. 1. 0.]\n",
            " [0. 1. 0.]\n",
            " [0. 1. 0.]\n",
            " [0. 0. 1.]\n",
            " [0. 1. 0.]\n",
            " [1. 0. 0.]\n",
            " [0. 1. 0.]\n",
            " [0. 0. 1.]\n",
            " [0. 1. 0.]\n",
            " [0. 0. 1.]\n",
            " [0. 1. 0.]\n",
            " [0. 1. 0.]\n",
            " [0. 1. 0.]\n",
            " [0. 1. 0.]\n",
            " [0. 1. 0.]]\n"
          ],
          "name": "stdout"
        }
      ]
    },
    {
      "metadata": {
        "id": "0_L5HdL8zS_R",
        "colab_type": "code",
        "colab": {}
      },
      "cell_type": "code",
      "source": [
        ""
      ],
      "execution_count": 0,
      "outputs": []
    }
  ]
}
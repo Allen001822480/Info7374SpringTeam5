{
 "cells": [
  {
   "cell_type": "code",
   "execution_count": 26,
   "metadata": {},
   "outputs": [
    {
     "name": "stdout",
     "output_type": "stream",
     "text": [
      "Checking whether there is an H2O instance running at http://localhost:54321. connected.\n"
     ]
    },
    {
     "data": {
      "text/html": [
       "<div style=\"overflow:auto\"><table style=\"width:50%\"><tr><td>H2O cluster uptime:</td>\n",
       "<td>2 hours 11 mins</td></tr>\n",
       "<tr><td>H2O cluster timezone:</td>\n",
       "<td>America/New_York</td></tr>\n",
       "<tr><td>H2O data parsing timezone:</td>\n",
       "<td>UTC</td></tr>\n",
       "<tr><td>H2O cluster version:</td>\n",
       "<td>3.22.1.6</td></tr>\n",
       "<tr><td>H2O cluster version age:</td>\n",
       "<td>8 days </td></tr>\n",
       "<tr><td>H2O cluster name:</td>\n",
       "<td>H2O_from_python_yiyi3_o74i7j</td></tr>\n",
       "<tr><td>H2O cluster total nodes:</td>\n",
       "<td>1</td></tr>\n",
       "<tr><td>H2O cluster free memory:</td>\n",
       "<td>1.573 Gb</td></tr>\n",
       "<tr><td>H2O cluster total cores:</td>\n",
       "<td>8</td></tr>\n",
       "<tr><td>H2O cluster allowed cores:</td>\n",
       "<td>8</td></tr>\n",
       "<tr><td>H2O cluster status:</td>\n",
       "<td>locked, healthy</td></tr>\n",
       "<tr><td>H2O connection url:</td>\n",
       "<td>http://localhost:54321</td></tr>\n",
       "<tr><td>H2O connection proxy:</td>\n",
       "<td>None</td></tr>\n",
       "<tr><td>H2O internal security:</td>\n",
       "<td>False</td></tr>\n",
       "<tr><td>H2O API Extensions:</td>\n",
       "<td>Amazon S3, Algos, AutoML, Core V3, Core V4</td></tr>\n",
       "<tr><td>Python version:</td>\n",
       "<td>3.6.5 final</td></tr></table></div>"
      ],
      "text/plain": [
       "--------------------------  ------------------------------------------\n",
       "H2O cluster uptime:         2 hours 11 mins\n",
       "H2O cluster timezone:       America/New_York\n",
       "H2O data parsing timezone:  UTC\n",
       "H2O cluster version:        3.22.1.6\n",
       "H2O cluster version age:    8 days\n",
       "H2O cluster name:           H2O_from_python_yiyi3_o74i7j\n",
       "H2O cluster total nodes:    1\n",
       "H2O cluster free memory:    1.573 Gb\n",
       "H2O cluster total cores:    8\n",
       "H2O cluster allowed cores:  8\n",
       "H2O cluster status:         locked, healthy\n",
       "H2O connection url:         http://localhost:54321\n",
       "H2O connection proxy:\n",
       "H2O internal security:      False\n",
       "H2O API Extensions:         Amazon S3, Algos, AutoML, Core V3, Core V4\n",
       "Python version:             3.6.5 final\n",
       "--------------------------  ------------------------------------------"
      ]
     },
     "metadata": {},
     "output_type": "display_data"
    },
    {
     "name": "stdout",
     "output_type": "stream",
     "text": [
      "Parse progress: |█████████████████████████████████████████████████████████| 100%\n",
      "AutoML progress: |████████████████████████████████████████████████████████| 100%\n"
     ]
    },
    {
     "data": {
      "text/html": [
       "<table>\n",
       "<thead>\n",
       "<tr><th>model_id                                           </th><th style=\"text-align: right;\">  mean_per_class_error</th><th style=\"text-align: right;\">  logloss</th><th style=\"text-align: right;\">    rmse</th><th style=\"text-align: right;\">     mse</th></tr>\n",
       "</thead>\n",
       "<tbody>\n",
       "<tr><td>GBM_grid_1_AutoML_20190322_143401_model_2          </td><td style=\"text-align: right;\">              0.517348</td><td style=\"text-align: right;\"> 0.633213</td><td style=\"text-align: right;\">0.460432</td><td style=\"text-align: right;\">0.211998</td></tr>\n",
       "<tr><td>GBM_grid_1_AutoML_20190322_143401_model_13         </td><td style=\"text-align: right;\">              0.521775</td><td style=\"text-align: right;\"> 0.646734</td><td style=\"text-align: right;\">0.448842</td><td style=\"text-align: right;\">0.20146 </td></tr>\n",
       "<tr><td>StackedEnsemble_BestOfFamily_AutoML_20190322_143401</td><td style=\"text-align: right;\">              0.532102</td><td style=\"text-align: right;\"> 0.636645</td><td style=\"text-align: right;\">0.441232</td><td style=\"text-align: right;\">0.194685</td></tr>\n",
       "<tr><td>GBM_grid_1_AutoML_20190322_143401_model_26         </td><td style=\"text-align: right;\">              0.533679</td><td style=\"text-align: right;\"> 0.621452</td><td style=\"text-align: right;\">0.438389</td><td style=\"text-align: right;\">0.192185</td></tr>\n",
       "<tr><td>GBM_3_AutoML_20190322_143401                       </td><td style=\"text-align: right;\">              0.533934</td><td style=\"text-align: right;\"> 0.63786 </td><td style=\"text-align: right;\">0.455318</td><td style=\"text-align: right;\">0.207314</td></tr>\n",
       "<tr><td>GBM_grid_1_AutoML_20190322_143401_model_16         </td><td style=\"text-align: right;\">              0.535511</td><td style=\"text-align: right;\"> 0.752672</td><td style=\"text-align: right;\">0.469799</td><td style=\"text-align: right;\">0.220711</td></tr>\n",
       "<tr><td>GBM_grid_1_AutoML_20190322_143401_model_20         </td><td style=\"text-align: right;\">              0.537291</td><td style=\"text-align: right;\"> 0.603439</td><td style=\"text-align: right;\">0.444596</td><td style=\"text-align: right;\">0.197666</td></tr>\n",
       "<tr><td>GBM_grid_1_AutoML_20190322_143401_model_27         </td><td style=\"text-align: right;\">              0.537546</td><td style=\"text-align: right;\"> 0.616314</td><td style=\"text-align: right;\">0.449239</td><td style=\"text-align: right;\">0.201816</td></tr>\n",
       "<tr><td>DeepLearning_grid_1_AutoML_20190322_143401_model_2 </td><td style=\"text-align: right;\">              0.539886</td><td style=\"text-align: right;\"> 1.14747 </td><td style=\"text-align: right;\">0.466202</td><td style=\"text-align: right;\">0.217345</td></tr>\n",
       "<tr><td>DeepLearning_grid_1_AutoML_20190322_143401_model_1 </td><td style=\"text-align: right;\">              0.541972</td><td style=\"text-align: right;\"> 0.873071</td><td style=\"text-align: right;\">0.483193</td><td style=\"text-align: right;\">0.233476</td></tr>\n",
       "</tbody>\n",
       "</table>"
      ]
     },
     "metadata": {},
     "output_type": "display_data"
    },
    {
     "data": {
      "text/plain": []
     },
     "execution_count": 26,
     "metadata": {},
     "output_type": "execute_result"
    }
   ],
   "source": [
    "import h2o\n",
    "from h2o.automl import H2OAutoML\n",
    "from sklearn.model_selection import train_test_split\n",
    "\n",
    "h2o.init()\n",
    "data = h2o.import_file('API_score.csv')\n",
    "x = data.columns\n",
    "y = \"sentiment\"\n",
    "x.remove(y)\n",
    "data[y] = data[y].asfactor()\n",
    "\n",
    "aml = H2OAutoML(max_runtime_secs = 60*10)\n",
    "aml.train(x = x, y = y,\n",
    "          training_frame = data)\n",
    "\n",
    "model = aml.leaderboard\n",
    "model"
   ]
  },
  {
   "cell_type": "code",
   "execution_count": 31,
   "metadata": {},
   "outputs": [
    {
     "name": "stdout",
     "output_type": "stream",
     "text": [
      "Model Details\n",
      "=============\n",
      "H2OGradientBoostingEstimator :  Gradient Boosting Machine\n",
      "Model Key:  GBM_grid_1_AutoML_20190322_143401_model_2\n",
      "\n",
      "\n",
      "ModelMetricsMultinomial: gbm\n",
      "** Reported on train data. **\n",
      "\n",
      "MSE: 0.15407468398223947\n",
      "RMSE: 0.3925234820774924\n",
      "LogLoss: 0.4767330480748992\n",
      "Mean Per-Class Error: 0.4818884818884819\n",
      "Confusion Matrix: Row labels: Actual class; Column labels: Predicted class\n",
      "\n"
     ]
    },
    {
     "data": {
      "text/html": [
       "<div style=\"overflow:auto\"><table style=\"width:50%\"><tr><td><b>0</b></td>\n",
       "<td><b>1</b></td>\n",
       "<td><b>2</b></td>\n",
       "<td><b>Error</b></td>\n",
       "<td><b>Rate</b></td></tr>\n",
       "<tr><td>0.0</td>\n",
       "<td>5.0</td>\n",
       "<td>0.0</td>\n",
       "<td>1.0</td>\n",
       "<td>5 / 5</td></tr>\n",
       "<tr><td>0.0</td>\n",
       "<td>115.0</td>\n",
       "<td>2.0</td>\n",
       "<td>0.0170940</td>\n",
       "<td>2 / 117</td></tr>\n",
       "<tr><td>0.0</td>\n",
       "<td>24.0</td>\n",
       "<td>32.0</td>\n",
       "<td>0.4285714</td>\n",
       "<td>24 / 56</td></tr>\n",
       "<tr><td>0.0</td>\n",
       "<td>144.0</td>\n",
       "<td>34.0</td>\n",
       "<td>0.1741573</td>\n",
       "<td>31 / 178</td></tr></table></div>"
      ],
      "text/plain": [
       "0    1    2    Error     Rate\n",
       "---  ---  ---  --------  --------\n",
       "0    5    0    1         5 / 5\n",
       "0    115  2    0.017094  2 / 117\n",
       "0    24   32   0.428571  24 / 56\n",
       "0    144  34   0.174157  31 / 178"
      ]
     },
     "metadata": {},
     "output_type": "display_data"
    },
    {
     "name": "stdout",
     "output_type": "stream",
     "text": [
      "Top-3 Hit Ratios: \n"
     ]
    },
    {
     "data": {
      "text/html": [
       "<div style=\"overflow:auto\"><table style=\"width:50%\"><tr><td><b>k</b></td>\n",
       "<td><b>hit_ratio</b></td></tr>\n",
       "<tr><td>1</td>\n",
       "<td>0.8258427</td></tr>\n",
       "<tr><td>2</td>\n",
       "<td>0.9719101</td></tr>\n",
       "<tr><td>3</td>\n",
       "<td>1.0</td></tr></table></div>"
      ],
      "text/plain": [
       "k    hit_ratio\n",
       "---  -----------\n",
       "1    0.825843\n",
       "2    0.97191\n",
       "3    1"
      ]
     },
     "metadata": {},
     "output_type": "display_data"
    },
    {
     "name": "stdout",
     "output_type": "stream",
     "text": [
      "\n",
      "ModelMetricsMultinomial: gbm\n",
      "** Reported on cross-validation data. **\n",
      "\n",
      "MSE: 0.21199769675014563\n",
      "RMSE: 0.46043207615254783\n",
      "LogLoss: 0.6332131131502787\n",
      "Mean Per-Class Error: 0.5173483923483925\n",
      "Confusion Matrix: Row labels: Actual class; Column labels: Predicted class\n",
      "\n"
     ]
    },
    {
     "data": {
      "text/html": [
       "<div style=\"overflow:auto\"><table style=\"width:50%\"><tr><td><b>0</b></td>\n",
       "<td><b>1</b></td>\n",
       "<td><b>2</b></td>\n",
       "<td><b>Error</b></td>\n",
       "<td><b>Rate</b></td></tr>\n",
       "<tr><td>0.0</td>\n",
       "<td>5.0</td>\n",
       "<td>0.0</td>\n",
       "<td>1.0</td>\n",
       "<td>5 / 5</td></tr>\n",
       "<tr><td>0.0</td>\n",
       "<td>113.0</td>\n",
       "<td>4.0</td>\n",
       "<td>0.0341880</td>\n",
       "<td>4 / 117</td></tr>\n",
       "<tr><td>0.0</td>\n",
       "<td>29.0</td>\n",
       "<td>27.0</td>\n",
       "<td>0.5178571</td>\n",
       "<td>29 / 56</td></tr>\n",
       "<tr><td>0.0</td>\n",
       "<td>147.0</td>\n",
       "<td>31.0</td>\n",
       "<td>0.2134831</td>\n",
       "<td>38 / 178</td></tr></table></div>"
      ],
      "text/plain": [
       "0    1    2    Error     Rate\n",
       "---  ---  ---  --------  --------\n",
       "0    5    0    1         5 / 5\n",
       "0    113  4    0.034188  4 / 117\n",
       "0    29   27   0.517857  29 / 56\n",
       "0    147  31   0.213483  38 / 178"
      ]
     },
     "metadata": {},
     "output_type": "display_data"
    },
    {
     "name": "stdout",
     "output_type": "stream",
     "text": [
      "Top-3 Hit Ratios: \n"
     ]
    },
    {
     "data": {
      "text/html": [
       "<div style=\"overflow:auto\"><table style=\"width:50%\"><tr><td><b>k</b></td>\n",
       "<td><b>hit_ratio</b></td></tr>\n",
       "<tr><td>1</td>\n",
       "<td>0.7865169</td></tr>\n",
       "<tr><td>2</td>\n",
       "<td>0.9662921</td></tr>\n",
       "<tr><td>3</td>\n",
       "<td>1.0</td></tr></table></div>"
      ],
      "text/plain": [
       "k    hit_ratio\n",
       "---  -----------\n",
       "1    0.786517\n",
       "2    0.966292\n",
       "3    1"
      ]
     },
     "metadata": {},
     "output_type": "display_data"
    },
    {
     "name": "stdout",
     "output_type": "stream",
     "text": [
      "Cross-Validation Metrics Summary: \n"
     ]
    },
    {
     "data": {
      "text/html": [
       "<div style=\"overflow:auto\"><table style=\"width:50%\"><tr><td><b></b></td>\n",
       "<td><b>mean</b></td>\n",
       "<td><b>sd</b></td>\n",
       "<td><b>cv_1_valid</b></td>\n",
       "<td><b>cv_2_valid</b></td>\n",
       "<td><b>cv_3_valid</b></td>\n",
       "<td><b>cv_4_valid</b></td>\n",
       "<td><b>cv_5_valid</b></td></tr>\n",
       "<tr><td>accuracy</td>\n",
       "<td>0.7866667</td>\n",
       "<td>0.0146144</td>\n",
       "<td>0.7777778</td>\n",
       "<td>0.8055556</td>\n",
       "<td>0.75</td>\n",
       "<td>0.8</td>\n",
       "<td>0.8</td></tr>\n",
       "<tr><td>err</td>\n",
       "<td>0.2133333</td>\n",
       "<td>0.0146144</td>\n",
       "<td>0.2222222</td>\n",
       "<td>0.1944444</td>\n",
       "<td>0.25</td>\n",
       "<td>0.2</td>\n",
       "<td>0.2</td></tr>\n",
       "<tr><td>err_count</td>\n",
       "<td>7.6</td>\n",
       "<td>0.5656855</td>\n",
       "<td>8.0</td>\n",
       "<td>7.0</td>\n",
       "<td>9.0</td>\n",
       "<td>7.0</td>\n",
       "<td>7.0</td></tr>\n",
       "<tr><td>logloss</td>\n",
       "<td>0.6329293</td>\n",
       "<td>0.0369553</td>\n",
       "<td>0.6195024</td>\n",
       "<td>0.5995686</td>\n",
       "<td>0.7302462</td>\n",
       "<td>0.6360946</td>\n",
       "<td>0.5792344</td></tr>\n",
       "<tr><td>max_per_class_error</td>\n",
       "<td>0.8</td>\n",
       "<td>0.1743939</td>\n",
       "<td>1.0</td>\n",
       "<td>1.0</td>\n",
       "<td>1.0</td>\n",
       "<td>0.4545455</td>\n",
       "<td>0.5454546</td></tr>\n",
       "<tr><td>mean_per_class_accuracy</td>\n",
       "<td>0.6141919</td>\n",
       "<td>0.1170883</td>\n",
       "<td>0.4722222</td>\n",
       "<td>0.540404</td>\n",
       "<td>0.4333333</td>\n",
       "<td>0.8207071</td>\n",
       "<td>0.8042929</td></tr>\n",
       "<tr><td>mean_per_class_error</td>\n",
       "<td>0.3858081</td>\n",
       "<td>0.1170883</td>\n",
       "<td>0.5277778</td>\n",
       "<td>0.4595959</td>\n",
       "<td>0.5666667</td>\n",
       "<td>0.1792929</td>\n",
       "<td>0.1957071</td></tr>\n",
       "<tr><td>mse</td>\n",
       "<td>0.2118568</td>\n",
       "<td>0.0174259</td>\n",
       "<td>0.2088474</td>\n",
       "<td>0.1942207</td>\n",
       "<td>0.2575866</td>\n",
       "<td>0.2117789</td>\n",
       "<td>0.1868504</td></tr>\n",
       "<tr><td>r2</td>\n",
       "<td>0.1680170</td>\n",
       "<td>0.0871463</td>\n",
       "<td>0.2199822</td>\n",
       "<td>0.3769555</td>\n",
       "<td>0.0928472</td>\n",
       "<td>0.0173139</td>\n",
       "<td>0.1329860</td></tr>\n",
       "<tr><td>rmse</td>\n",
       "<td>0.4595378</td>\n",
       "<td>0.0184629</td>\n",
       "<td>0.4569982</td>\n",
       "<td>0.4407047</td>\n",
       "<td>0.5075299</td>\n",
       "<td>0.4601944</td>\n",
       "<td>0.4322619</td></tr></table></div>"
      ],
      "text/plain": [
       "                         mean      sd         cv_1_valid    cv_2_valid    cv_3_valid    cv_4_valid    cv_5_valid\n",
       "-----------------------  --------  ---------  ------------  ------------  ------------  ------------  ------------\n",
       "accuracy                 0.786667  0.0146144  0.777778      0.805556      0.75          0.8           0.8\n",
       "err                      0.213333  0.0146144  0.222222      0.194444      0.25          0.2           0.2\n",
       "err_count                7.6       0.565685   8             7             9             7             7\n",
       "logloss                  0.632929  0.0369553  0.619502      0.599569      0.730246      0.636095      0.579234\n",
       "max_per_class_error      0.8       0.174394   1             1             1             0.454545      0.545455\n",
       "mean_per_class_accuracy  0.614192  0.117088   0.472222      0.540404      0.433333      0.820707      0.804293\n",
       "mean_per_class_error     0.385808  0.117088   0.527778      0.459596      0.566667      0.179293      0.195707\n",
       "mse                      0.211857  0.0174259  0.208847      0.194221      0.257587      0.211779      0.18685\n",
       "r2                       0.168017  0.0871463  0.219982      0.376955      0.0928472     0.0173139     0.132986\n",
       "rmse                     0.459538  0.0184629  0.456998      0.440705      0.50753       0.460194      0.432262"
      ]
     },
     "metadata": {},
     "output_type": "display_data"
    },
    {
     "name": "stdout",
     "output_type": "stream",
     "text": [
      "Scoring History: \n"
     ]
    },
    {
     "data": {
      "text/html": [
       "<div style=\"overflow:auto\"><table style=\"width:50%\"><tr><td><b></b></td>\n",
       "<td><b>timestamp</b></td>\n",
       "<td><b>duration</b></td>\n",
       "<td><b>number_of_trees</b></td>\n",
       "<td><b>training_rmse</b></td>\n",
       "<td><b>training_logloss</b></td>\n",
       "<td><b>training_classification_error</b></td></tr>\n",
       "<tr><td></td>\n",
       "<td>2019-03-22 14:34:12</td>\n",
       "<td> 0.639 sec</td>\n",
       "<td>0.0</td>\n",
       "<td>0.6666667</td>\n",
       "<td>1.0986123</td>\n",
       "<td>0.4325843</td></tr>\n",
       "<tr><td></td>\n",
       "<td>2019-03-22 14:34:12</td>\n",
       "<td> 0.664 sec</td>\n",
       "<td>5.0</td>\n",
       "<td>0.5933385</td>\n",
       "<td>0.9028197</td>\n",
       "<td>0.1966292</td></tr>\n",
       "<tr><td></td>\n",
       "<td>2019-03-22 14:34:12</td>\n",
       "<td> 0.671 sec</td>\n",
       "<td>10.0</td>\n",
       "<td>0.5372412</td>\n",
       "<td>0.7754436</td>\n",
       "<td>0.1966292</td></tr>\n",
       "<tr><td></td>\n",
       "<td>2019-03-22 14:34:12</td>\n",
       "<td> 0.677 sec</td>\n",
       "<td>15.0</td>\n",
       "<td>0.4966650</td>\n",
       "<td>0.6898811</td>\n",
       "<td>0.1853933</td></tr>\n",
       "<tr><td></td>\n",
       "<td>2019-03-22 14:34:12</td>\n",
       "<td> 0.684 sec</td>\n",
       "<td>20.0</td>\n",
       "<td>0.4631807</td>\n",
       "<td>0.6216112</td>\n",
       "<td>0.1910112</td></tr>\n",
       "<tr><td></td>\n",
       "<td>2019-03-22 14:34:12</td>\n",
       "<td> 0.689 sec</td>\n",
       "<td>25.0</td>\n",
       "<td>0.4373024</td>\n",
       "<td>0.5694153</td>\n",
       "<td>0.1853933</td></tr>\n",
       "<tr><td></td>\n",
       "<td>2019-03-22 14:34:12</td>\n",
       "<td> 0.694 sec</td>\n",
       "<td>30.0</td>\n",
       "<td>0.4175714</td>\n",
       "<td>0.5290856</td>\n",
       "<td>0.1741573</td></tr>\n",
       "<tr><td></td>\n",
       "<td>2019-03-22 14:34:12</td>\n",
       "<td> 0.703 sec</td>\n",
       "<td>35.0</td>\n",
       "<td>0.4022696</td>\n",
       "<td>0.4979259</td>\n",
       "<td>0.1685393</td></tr>\n",
       "<tr><td></td>\n",
       "<td>2019-03-22 14:34:12</td>\n",
       "<td> 0.708 sec</td>\n",
       "<td>39.0</td>\n",
       "<td>0.3925235</td>\n",
       "<td>0.4767330</td>\n",
       "<td>0.1741573</td></tr></table></div>"
      ],
      "text/plain": [
       "    timestamp            duration    number_of_trees    training_rmse    training_logloss    training_classification_error\n",
       "--  -------------------  ----------  -----------------  ---------------  ------------------  -------------------------------\n",
       "    2019-03-22 14:34:12  0.639 sec   0                  0.666667         1.09861             0.432584\n",
       "    2019-03-22 14:34:12  0.664 sec   5                  0.593338         0.90282             0.196629\n",
       "    2019-03-22 14:34:12  0.671 sec   10                 0.537241         0.775444            0.196629\n",
       "    2019-03-22 14:34:12  0.677 sec   15                 0.496665         0.689881            0.185393\n",
       "    2019-03-22 14:34:12  0.684 sec   20                 0.463181         0.621611            0.191011\n",
       "    2019-03-22 14:34:12  0.689 sec   25                 0.437302         0.569415            0.185393\n",
       "    2019-03-22 14:34:12  0.694 sec   30                 0.417571         0.529086            0.174157\n",
       "    2019-03-22 14:34:12  0.703 sec   35                 0.40227          0.497926            0.168539\n",
       "    2019-03-22 14:34:12  0.708 sec   39                 0.392523         0.476733            0.174157"
      ]
     },
     "metadata": {},
     "output_type": "display_data"
    },
    {
     "name": "stdout",
     "output_type": "stream",
     "text": [
      "Variable Importances: \n"
     ]
    },
    {
     "data": {
      "text/html": [
       "<div style=\"overflow:auto\"><table style=\"width:50%\"><tr><td><b>variable</b></td>\n",
       "<td><b>relative_importance</b></td>\n",
       "<td><b>scaled_importance</b></td>\n",
       "<td><b>percentage</b></td></tr>\n",
       "<tr><td>google</td>\n",
       "<td>104.9519196</td>\n",
       "<td>1.0</td>\n",
       "<td>0.3198447</td></tr>\n",
       "<tr><td>ibm</td>\n",
       "<td>90.4254150</td>\n",
       "<td>0.8615890</td>\n",
       "<td>0.2755746</td></tr>\n",
       "<tr><td>amazon</td>\n",
       "<td>71.4222641</td>\n",
       "<td>0.6805237</td>\n",
       "<td>0.2176619</td></tr>\n",
       "<tr><td>microsoft</td>\n",
       "<td>61.3344307</td>\n",
       "<td>0.5844050</td>\n",
       "<td>0.1869188</td></tr></table></div>"
      ],
      "text/plain": [
       "variable    relative_importance    scaled_importance    percentage\n",
       "----------  ---------------------  -------------------  ------------\n",
       "google      104.952                1                    0.319845\n",
       "ibm         90.4254                0.861589             0.275575\n",
       "amazon      71.4223                0.680524             0.217662\n",
       "microsoft   61.3344                0.584405             0.186919"
      ]
     },
     "metadata": {},
     "output_type": "display_data"
    },
    {
     "data": {
      "text/plain": []
     },
     "execution_count": 31,
     "metadata": {},
     "output_type": "execute_result"
    }
   ],
   "source": [
    "aml.leader"
   ]
  },
  {
   "cell_type": "code",
   "execution_count": 49,
   "metadata": {},
   "outputs": [
    {
     "name": "stdout",
     "output_type": "stream",
     "text": [
      "gbm prediction progress: |████████████████████████████████████████████████| 100%\n"
     ]
    },
    {
     "data": {
      "text/plain": [
       "<Figure size 432x288 with 0 Axes>"
      ]
     },
     "metadata": {},
     "output_type": "display_data"
    },
    {
     "data": {
      "image/png": "[encoded data removed]",
      "text/plain": [
       "<Figure size 864x576 with 1 Axes>"
      ]
     },
     "metadata": {},
     "output_type": "display_data"
    }
   ],
   "source": [
    "import matplotlib.pyplot as plt\n",
    "from sklearn.metrics import confusion_matrix\n",
    "from mlxtend.plotting import plot_confusion_matrix\n",
    "\n",
    "pred = aml.predict(data[x])\n",
    "pd = pred.as_data_frame()\n",
    "pd = pd['predict'].tolist()\n",
    "label = data[y].as_data_frame()\n",
    "label = label.values.tolist()\n",
    "cm=confusion_matrix(label, pd)\n",
    "plt.figure()\n",
    "plot_confusion_matrix(cm,figsize=(12,8), hide_ticks=True,cmap=plt.cm.Blues)\n",
    "plt.xticks(range(3), ['negative','positive','neutral'], fontsize=16)\n",
    "plt.yticks(range(3), ['negative','positive','neutral'], fontsize=16)\n",
    "plt.show()\n"
   ]
  }
 ],
 "metadata": {
  "kernelspec": {
   "display_name": "Python 3",
   "language": "python",
   "name": "python3"
  },
  "language_info": {
   "codemirror_mode": {
    "name": "ipython",
    "version": 3
   },
   "file_extension": ".py",
   "mimetype": "text/x-python",
   "name": "python",
   "nbconvert_exporter": "python",
   "pygments_lexer": "ipython3",
   "version": "3.6.5"
  }
 },
 "nbformat": 4,
 "nbformat_minor": 2
}

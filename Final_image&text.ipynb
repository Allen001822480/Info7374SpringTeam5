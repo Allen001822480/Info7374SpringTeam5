{
  "nbformat": 4,
  "nbformat_minor": 0,
  "metadata": {
    "colab": {
      "name": "Final_image&text.ipynb",
      "version": "0.3.2",
      "provenance": [],
      "include_colab_link": true
    },
    "kernelspec": {
      "name": "python3",
      "display_name": "Python 3"
    },
    "accelerator": "GPU"
  },
  "cells": [
    {
      "cell_type": "markdown",
      "metadata": {
        "id": "view-in-github",
        "colab_type": "text"
      },
      "source": [
        "<a href=\"https://colab.research.google.com/github/Allen001822480/Info7374SpringTeam5/blob/Final_Project/Final_image%26text.ipynb\" target=\"_parent\"><img src=\"https://colab.research.google.com/assets/colab-badge.svg\" alt=\"Open In Colab\"/></a>"
      ]
    },
    {
      "metadata": {
        "id": "oN2YkoyIby6r",
        "colab_type": "text"
      },
      "cell_type": "markdown",
      "source": [
        "**Text**"
      ]
    },
    {
      "metadata": {
        "id": "Jwaa8sA_Wyiv",
        "colab_type": "code",
        "outputId": "be0de569-9781-4bdb-b3ab-c95d50f071d0",
        "colab": {
          "base_uri": "https://localhost:8080/",
          "height": 34
        }
      },
      "cell_type": "code",
      "source": [
        "!pip install googledrivedownloader"
      ],
      "execution_count": 0,
      "outputs": [
        {
          "output_type": "stream",
          "text": [
            "Requirement already satisfied: googledrivedownloader in /usr/local/lib/python3.6/dist-packages (0.3)\n"
          ],
          "name": "stdout"
        }
      ]
    },
    {
      "metadata": {
        "id": "VokiR5I3OZN0",
        "colab_type": "code",
        "outputId": "f67865ff-867d-4de7-bb7e-bd68b74ce788",
        "colab": {
          "base_uri": "https://localhost:8080/",
          "height": 34
        }
      },
      "cell_type": "code",
      "source": [
        "from google_drive_downloader import GoogleDriveDownloader as gdd\n",
        "\n",
        "gdd.download_file_from_google_drive(file_id='0B0ywwgffWnLLcms2WWJQRFNSWXM',\n",
        "                                    dest_path='./cvpr2016_flowers.tar.gz')"
      ],
      "execution_count": 0,
      "outputs": [
        {
          "output_type": "stream",
          "text": [
            "Downloading 0B0ywwgffWnLLcms2WWJQRFNSWXM into ./cvpr2016_flowers.tar.gz... Done.\n"
          ],
          "name": "stdout"
        }
      ]
    },
    {
      "metadata": {
        "id": "-iHwyxRFYMDH",
        "colab_type": "code",
        "colab": {}
      },
      "cell_type": "code",
      "source": [
        "import gzip\n",
        "import os\n",
        "def un_gz(file_name):\n",
        "    f_name = file_name.replace(\".gz\", \"\")\n",
        "    g_file = gzip.GzipFile(file_name)\n",
        "    open(f_name, \"wb+\").write(g_file.read())\n",
        "    g_file.close()\n",
        "    \n",
        "import tarfile\n",
        "def un_tar(file_name):\n",
        "    tar = tarfile.open(file_name)\n",
        "    names = tar.getnames()\n",
        "    if os.path.isdir(file_name + \"_files\"):\n",
        "        pass\n",
        "    else:\n",
        "        os.mkdir(file_name + \"_files\")\n",
        "    for name in names:\n",
        "        tar.extract(name, file_name + \"_files/\")\n",
        "    tar.close()\n"
      ],
      "execution_count": 0,
      "outputs": []
    },
    {
      "metadata": {
        "id": "lGjltDLBYp9b",
        "colab_type": "code",
        "colab": {}
      },
      "cell_type": "code",
      "source": [
        "un_gz('./cvpr2016_flowers.tar.gz')\n",
        "un_tar('./cvpr2016_flowers.tar')"
      ],
      "execution_count": 0,
      "outputs": []
    },
    {
      "metadata": {
        "id": "5bGTAAbFZA9E",
        "colab_type": "code",
        "colab": {}
      },
      "cell_type": "code",
      "source": [
        "text_dir = './cvpr2016_flowers.tar_files/text_c10/'\n",
        "text = []\n",
        "filename = []\n",
        "for folder in os.listdir(text_dir):\n",
        "  if len(folder) == 11:\n",
        "    folderpath = text_dir + folder\n",
        "  else:\n",
        "    continue\n",
        "  for file in os.listdir(folderpath):\n",
        "    if file.endswith('.txt'):\n",
        "      filename.append(file)\n",
        "      with open(folderpath+'/'+file,'r') as f:\n",
        "        data = f.read()\n",
        "        text.append(data)"
      ],
      "execution_count": 0,
      "outputs": []
    },
    {
      "metadata": {
        "id": "_uMcGGMjWv5O",
        "colab_type": "code",
        "colab": {}
      },
      "cell_type": "code",
      "source": [
        "filename = [f[6:11] for f in filename]\n",
        "filename = list(map(int,filename))\n",
        "index_file = zip(filename,text)\n",
        "index_file = sorted(index_file)\n",
        "filename, text = zip(*index_file)"
      ],
      "execution_count": 0,
      "outputs": []
    },
    {
      "metadata": {
        "id": "gPksnHtCajt0",
        "colab_type": "code",
        "outputId": "ec79cdaf-01c5-4859-cc25-bb30367032cd",
        "colab": {
          "base_uri": "https://localhost:8080/",
          "height": 54
        }
      },
      "cell_type": "code",
      "source": [
        "lines = [t.split('\\n')[0:10] for t in text]\n",
        "lines = eval('[%s]'%repr(lines).replace('[', '').replace(']', ''))\n",
        "print(lines[0:5])"
      ],
      "execution_count": 0,
      "outputs": [
        {
          "output_type": "stream",
          "text": [
            "['prominent purple stigma,petals are white inc olor', 'this flower has bright purple, spiky petals, and greenish sepals below them.', 'this flower has a row of white petals with the multi-colored stamens and a pistil at the centre', 'this flower is white and blue in color, with petals that are oval shaped.', 'this flower has petals that are green with stringy purple stamen']\n"
          ],
          "name": "stdout"
        }
      ]
    },
    {
      "metadata": {
        "id": "CQaWTWgrTPzo",
        "colab_type": "code",
        "outputId": "dfbfec3d-9c27-48ed-aee0-5e13fdbf8fc5",
        "colab": {
          "base_uri": "https://localhost:8080/",
          "height": 34
        }
      },
      "cell_type": "code",
      "source": [
        "import keras\n",
        "from keras.preprocessing.text import Tokenizer\n",
        "from keras.preprocessing.sequence import pad_sequences\n",
        "\n",
        "import numpy as np\n",
        "\n",
        "maxlen = 20\n",
        "max_words = 5000\n",
        "\n",
        "tokenizer = Tokenizer(num_words=max_words)\n",
        "tokenizer.fit_on_texts(lines)\n",
        "sequences = tokenizer.texts_to_sequences(lines)\n",
        "\n",
        "word_index = tokenizer.word_index\n",
        "print('Found %s unique tokens.' % len(word_index))\n",
        "\n",
        "text_data = pad_sequences(sequences, maxlen=maxlen)"
      ],
      "execution_count": 0,
      "outputs": [
        {
          "output_type": "stream",
          "text": [
            "Found 5450 unique tokens.\n"
          ],
          "name": "stdout"
        }
      ]
    },
    {
      "metadata": {
        "id": "hv0VFr1OTR1h",
        "colab_type": "code",
        "colab": {}
      },
      "cell_type": "code",
      "source": [
        "np.save('text.npy',text_data)"
      ],
      "execution_count": 0,
      "outputs": []
    },
    {
      "metadata": {
        "id": "r1tRBDuIWOh0",
        "colab_type": "code",
        "colab": {}
      },
      "cell_type": "code",
      "source": [
        "import pickle\n",
        "with open('word_index.pickle','wb') as v:\n",
        "  pickle.dump(word_index,v)"
      ],
      "execution_count": 0,
      "outputs": []
    },
    {
      "metadata": {
        "id": "qRoRDukjb8A4",
        "colab_type": "text"
      },
      "cell_type": "markdown",
      "source": [
        "**Image**"
      ]
    },
    {
      "metadata": {
        "id": "5A-k52FfbxTr",
        "colab_type": "code",
        "outputId": "fe25fa8d-4e20-48b9-bafd-507b8f0bd920",
        "colab": {
          "base_uri": "https://localhost:8080/",
          "height": 34
        }
      },
      "cell_type": "code",
      "source": [
        "gdd.download_file_from_google_drive(file_id='1EYJePu9b0LUVubRUEZLFOiS3zy0gfGLt',\n",
        "                                    dest_path='./102flowers.zip')"
      ],
      "execution_count": 0,
      "outputs": [
        {
          "output_type": "stream",
          "text": [
            "Downloading 1EYJePu9b0LUVubRUEZLFOiS3zy0gfGLt into ./102flowers.zip... Done.\n"
          ],
          "name": "stdout"
        }
      ]
    },
    {
      "metadata": {
        "id": "4tWnAJ8NgYUy",
        "colab_type": "code",
        "colab": {}
      },
      "cell_type": "code",
      "source": [
        "import zipfile\n",
        "import os\n",
        "def un_zip(file_name):\n",
        "    zip_file = zipfile.ZipFile(file_name)\n",
        "    if os.path.isdir(file_name + \"_files\"):\n",
        "        pass\n",
        "    else:\n",
        "        os.mkdir(file_name + \"_files\")\n",
        "    for names in zip_file.namelist():\n",
        "        zip_file.extract(names,file_name + \"_files/\")\n",
        "    zip_file.close()"
      ],
      "execution_count": 0,
      "outputs": []
    },
    {
      "metadata": {
        "id": "xZGxCT3MEN-u",
        "colab_type": "code",
        "colab": {}
      },
      "cell_type": "code",
      "source": [
        "un_zip('./102flowers.zip')"
      ],
      "execution_count": 0,
      "outputs": []
    },
    {
      "metadata": {
        "id": "7_6a1C-8Eq_q",
        "colab_type": "code",
        "colab": {}
      },
      "cell_type": "code",
      "source": [
        "from PIL import Image\n",
        "import numpy as np\n",
        "def read_img(img_name):\n",
        "    img = Image.open(img_name).convert('RGB')\n",
        "    img256 = img.resize((128, 128),Image.ANTIALIAS)\n",
        "    data = np.array(img256)\n",
        "    return data"
      ],
      "execution_count": 0,
      "outputs": []
    },
    {
      "metadata": {
        "id": "6gldZ9g2IVQj",
        "colab_type": "code",
        "colab": {}
      },
      "cell_type": "code",
      "source": [
        "import os\n",
        "image_dir = './102flowers.zip_files/102flowers/jpg/'\n",
        "image = []\n",
        "filename = []\n",
        "for file in os.listdir(image_dir):\n",
        "  filename.append(file)\n",
        "  filepath = image_dir + file\n",
        "  img = read_img(filepath)\n",
        "  img = img.astype(np.float32)\n",
        "  image.append(img)"
      ],
      "execution_count": 0,
      "outputs": []
    },
    {
      "metadata": {
        "id": "Ascpj64gJUdb",
        "colab_type": "code",
        "colab": {}
      },
      "cell_type": "code",
      "source": [
        "filename = [f[6:11] for f in filename]\n",
        "filename = list(map(int,filename))\n",
        "index_file = zip(filename,image)\n",
        "index_file = sorted(index_file)\n",
        "filename, image = zip(*index_file)"
      ],
      "execution_count": 0,
      "outputs": []
    },
    {
      "metadata": {
        "id": "mTNKbGu-JzwU",
        "colab_type": "code",
        "outputId": "93cee1ec-8b0e-46c5-a459-9b9249def75e",
        "colab": {
          "base_uri": "https://localhost:8080/",
          "height": 34
        }
      },
      "cell_type": "code",
      "source": [
        "print(image[0].shape)\n",
        "image = np.array(image)\n",
        "np.save('image128.npy',image)"
      ],
      "execution_count": 0,
      "outputs": [
        {
          "output_type": "stream",
          "text": [
            "(128, 128, 3)\n"
          ],
          "name": "stdout"
        }
      ]
    }
  ]
}
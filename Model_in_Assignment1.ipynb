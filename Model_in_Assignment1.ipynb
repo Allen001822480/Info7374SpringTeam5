{
  "nbformat": 4,
  "nbformat_minor": 0,
  "metadata": {
    "colab": {
      "name": "Model in Assignment1.ipynb",
      "version": "0.3.2",
      "provenance": [],
      "include_colab_link": true
    },
    "kernelspec": {
      "name": "python3",
      "display_name": "Python 3"
    },
    "accelerator": "GPU"
  },
  "cells": [
    {
      "cell_type": "markdown",
      "metadata": {
        "id": "view-in-github",
        "colab_type": "text"
      },
      "source": [
        "<a href=\"https://colab.research.google.com/github/Allen001822480/Info7374SpringTeam5/blob/Assignment2/Model_in_Assignment1.ipynb\" target=\"_parent\"><img src=\"https://colab.research.google.com/assets/colab-badge.svg\" alt=\"Open In Colab\"/></a>"
      ]
    },
    {
      "metadata": {
        "id": "KUr5vLNqICP2",
        "colab_type": "code",
        "colab": {}
      },
      "cell_type": "code",
      "source": [
        "#https://colab.research.google.com/drive/12b0DfvGAh8W5My7SdwF8hbd8sZpM7cFU"
      ],
      "execution_count": 0,
      "outputs": []
    },
    {
      "metadata": {
        "id": "JDzj8atXvmCf",
        "colab_type": "code",
        "outputId": "f51f5830-5df3-495e-e4e5-cdb2113d6c3b",
        "colab": {
          "base_uri": "https://localhost:8080/",
          "height": 35
        }
      },
      "cell_type": "code",
      "source": [
        "from __future__ import print_function\n",
        "import keras\n",
        "from keras.datasets import cifar10\n",
        "from keras.preprocessing.image import ImageDataGenerator\n",
        "from keras.models import Sequential\n",
        "from keras.layers import Dense, Dropout,SpatialDropout2D, Activation, Flatten, BatchNormalization\n",
        "from keras.layers import Conv2D, MaxPooling2D\n",
        "from keras.utils.vis_utils import plot_model\n",
        "\n",
        "import matplotlib.pyplot as plt\n",
        "\n",
        "import os"
      ],
      "execution_count": 0,
      "outputs": [
        {
          "output_type": "stream",
          "text": [
            "Using TensorFlow backend.\n"
          ],
          "name": "stderr"
        }
      ]
    },
    {
      "metadata": {
        "id": "64HRay-wyOv2",
        "colab_type": "code",
        "outputId": "ffc17d19-1b44-4e1f-e310-08c146da43c5",
        "colab": {
          "base_uri": "https://localhost:8080/",
          "height": 71
        }
      },
      "cell_type": "code",
      "source": [
        "batch_size = 32\n",
        "num_classes = 10\n",
        "epochs = 50\n",
        "num_predictions = 20\n",
        "\n",
        "# The data, split between train and test sets:\n",
        "(x_train, y_train), (x_test, y_test) = cifar10.load_data()\n",
        "print('x_train shape:', x_train.shape)\n",
        "print(x_train.shape[0], 'train samples')\n",
        "print(x_test.shape[0], 'test samples')"
      ],
      "execution_count": 0,
      "outputs": [
        {
          "output_type": "stream",
          "text": [
            "x_train shape: (50000, 32, 32, 3)\n",
            "50000 train samples\n",
            "10000 test samples\n"
          ],
          "name": "stdout"
        }
      ]
    },
    {
      "metadata": {
        "id": "XRSsBppzpXYG",
        "colab_type": "code",
        "outputId": "abdb0617-c4a4-41d3-8639-0e50538ceeb3",
        "colab": {
          "base_uri": "https://localhost:8080/",
          "height": 145
        }
      },
      "cell_type": "code",
      "source": [
        "#Using spatial dropout instead.\n",
        "\n",
        "y_train = keras.utils.to_categorical(y_train, num_classes)\n",
        "y_test = keras.utils.to_categorical(y_test, num_classes)\n",
        "\n",
        "model = Sequential()\n",
        "model.add(Conv2D(32, (3, 3), padding='same',\n",
        "                 input_shape=x_train.shape[1:]))\n",
        "model.add(Activation('relu'))\n",
        "model.add(BatchNormalization())\n",
        "model.add(Conv2D(32, (3, 3)))\n",
        "model.add(Activation('relu'))\n",
        "model.add(BatchNormalization())\n",
        "model.add(MaxPooling2D(pool_size=(2, 2)))\n",
        "model.add(SpatialDropout2D(0.2))\n",
        "\n",
        "model.add(Conv2D(64, (3, 3), padding='same'))\n",
        "model.add(Activation('relu'))\n",
        "model.add(BatchNormalization())\n",
        "model.add(Conv2D(64, (3, 3)))\n",
        "model.add(Activation('relu'))\n",
        "model.add(BatchNormalization())\n",
        "model.add(MaxPooling2D(pool_size=(2, 2)))\n",
        "model.add(SpatialDropout2D(0.3))\n",
        "\n",
        "model.add(Conv2D(128, (3, 3), padding='same'))\n",
        "model.add(Activation('relu'))\n",
        "model.add(BatchNormalization())\n",
        "model.add(Conv2D(128, (3, 3)))\n",
        "model.add(Activation('relu'))\n",
        "model.add(BatchNormalization())\n",
        "model.add(MaxPooling2D(pool_size=(2, 2)))\n",
        "model.add(Dropout(0.4))\n",
        "\n",
        "model.add(Flatten())\n",
        "model.add(Dense(512))\n",
        "model.add(Activation('relu'))\n",
        "model.add(Dropout(0.5))\n",
        "model.add(Dense(num_classes))\n",
        "model.add(Activation('softmax'))\n",
        "\n",
        "opt = keras.optimizers.rmsprop(lr=0.001, decay=1e-4)"
      ],
      "execution_count": 0,
      "outputs": [
        {
          "output_type": "stream",
          "text": [
            "WARNING:tensorflow:From /usr/local/lib/python3.6/dist-packages/tensorflow/python/framework/op_def_library.py:263: colocate_with (from tensorflow.python.framework.ops) is deprecated and will be removed in a future version.\n",
            "Instructions for updating:\n",
            "Colocations handled automatically by placer.\n",
            "WARNING:tensorflow:From /usr/local/lib/python3.6/dist-packages/keras/backend/tensorflow_backend.py:3445: calling dropout (from tensorflow.python.ops.nn_ops) with keep_prob is deprecated and will be removed in a future version.\n",
            "Instructions for updating:\n",
            "Please use `rate` instead of `keep_prob`. Rate should be set to `rate = 1 - keep_prob`.\n"
          ],
          "name": "stdout"
        }
      ]
    },
    {
      "metadata": {
        "id": "JFTdRbrkrEY3",
        "colab_type": "code",
        "outputId": "8c6bd46e-6e5e-4459-c7c3-ad0000da4f43",
        "colab": {
          "base_uri": "https://localhost:8080/",
          "height": 1891
        }
      },
      "cell_type": "code",
      "source": [
        "# Let's train the model using RMSprop\n",
        "model.compile(loss='categorical_crossentropy',\n",
        "              optimizer=opt,\n",
        "              metrics=['accuracy'])\n",
        "\n",
        "from keras.callbacks import ModelCheckpoint\n",
        "# checkpoint\n",
        "filepath=\"weights.best.hdf5\"\n",
        "checkpoint = ModelCheckpoint(filepath, monitor='val_acc', verbose=1, save_best_only=True, mode='max')\n",
        "callbacks_list = [checkpoint]\n",
        "\n",
        "hist2 = model.fit(x_train, y_train,\n",
        "          batch_size=batch_size,\n",
        "          epochs=epochs,\n",
        "          validation_data=(x_test, y_test),\n",
        "          shuffle=True,\n",
        "          callbacks=callbacks_list,\n",
        "          verbose=0)"
      ],
      "execution_count": 0,
      "outputs": [
        {
          "output_type": "stream",
          "text": [
            "WARNING:tensorflow:From /usr/local/lib/python3.6/dist-packages/tensorflow/python/ops/math_ops.py:3066: to_int32 (from tensorflow.python.ops.math_ops) is deprecated and will be removed in a future version.\n",
            "Instructions for updating:\n",
            "Use tf.cast instead.\n",
            "\n",
            "Epoch 00001: val_acc improved from -inf to 0.52040, saving model to weights.best.hdf5\n",
            "\n",
            "Epoch 00002: val_acc improved from 0.52040 to 0.53500, saving model to weights.best.hdf5\n",
            "\n",
            "Epoch 00003: val_acc improved from 0.53500 to 0.67200, saving model to weights.best.hdf5\n",
            "\n",
            "Epoch 00004: val_acc improved from 0.67200 to 0.68280, saving model to weights.best.hdf5\n",
            "\n",
            "Epoch 00005: val_acc improved from 0.68280 to 0.71980, saving model to weights.best.hdf5\n",
            "\n",
            "Epoch 00006: val_acc improved from 0.71980 to 0.73590, saving model to weights.best.hdf5\n",
            "\n",
            "Epoch 00007: val_acc improved from 0.73590 to 0.75340, saving model to weights.best.hdf5\n",
            "\n",
            "Epoch 00008: val_acc did not improve from 0.75340\n",
            "\n",
            "Epoch 00009: val_acc improved from 0.75340 to 0.77340, saving model to weights.best.hdf5\n",
            "\n",
            "Epoch 00010: val_acc improved from 0.77340 to 0.77920, saving model to weights.best.hdf5\n",
            "\n",
            "Epoch 00011: val_acc improved from 0.77920 to 0.78990, saving model to weights.best.hdf5\n",
            "\n",
            "Epoch 00012: val_acc improved from 0.78990 to 0.79090, saving model to weights.best.hdf5\n",
            "\n",
            "Epoch 00013: val_acc did not improve from 0.79090\n",
            "\n",
            "Epoch 00014: val_acc improved from 0.79090 to 0.79550, saving model to weights.best.hdf5\n",
            "\n",
            "Epoch 00015: val_acc improved from 0.79550 to 0.80860, saving model to weights.best.hdf5\n",
            "\n",
            "Epoch 00016: val_acc did not improve from 0.80860\n",
            "\n",
            "Epoch 00017: val_acc improved from 0.80860 to 0.81100, saving model to weights.best.hdf5\n",
            "\n",
            "Epoch 00018: val_acc improved from 0.81100 to 0.81310, saving model to weights.best.hdf5\n",
            "\n",
            "Epoch 00019: val_acc improved from 0.81310 to 0.81470, saving model to weights.best.hdf5\n",
            "\n",
            "Epoch 00020: val_acc did not improve from 0.81470\n",
            "\n",
            "Epoch 00021: val_acc did not improve from 0.81470\n",
            "\n",
            "Epoch 00022: val_acc improved from 0.81470 to 0.82770, saving model to weights.best.hdf5\n",
            "\n",
            "Epoch 00023: val_acc did not improve from 0.82770\n",
            "\n",
            "Epoch 00024: val_acc did not improve from 0.82770\n",
            "\n",
            "Epoch 00025: val_acc improved from 0.82770 to 0.82950, saving model to weights.best.hdf5\n",
            "\n",
            "Epoch 00026: val_acc improved from 0.82950 to 0.83100, saving model to weights.best.hdf5\n",
            "\n",
            "Epoch 00027: val_acc improved from 0.83100 to 0.83120, saving model to weights.best.hdf5\n",
            "\n",
            "Epoch 00028: val_acc did not improve from 0.83120\n",
            "\n",
            "Epoch 00029: val_acc did not improve from 0.83120\n",
            "\n",
            "Epoch 00030: val_acc did not improve from 0.83120\n",
            "\n",
            "Epoch 00031: val_acc improved from 0.83120 to 0.83140, saving model to weights.best.hdf5\n",
            "\n",
            "Epoch 00032: val_acc did not improve from 0.83140\n",
            "\n",
            "Epoch 00033: val_acc did not improve from 0.83140\n",
            "\n",
            "Epoch 00034: val_acc improved from 0.83140 to 0.83150, saving model to weights.best.hdf5\n",
            "\n",
            "Epoch 00035: val_acc did not improve from 0.83150\n",
            "\n",
            "Epoch 00036: val_acc improved from 0.83150 to 0.83350, saving model to weights.best.hdf5\n",
            "\n",
            "Epoch 00037: val_acc improved from 0.83350 to 0.83470, saving model to weights.best.hdf5\n",
            "\n",
            "Epoch 00038: val_acc improved from 0.83470 to 0.84020, saving model to weights.best.hdf5\n",
            "\n",
            "Epoch 00039: val_acc did not improve from 0.84020\n",
            "\n",
            "Epoch 00040: val_acc did not improve from 0.84020\n",
            "\n",
            "Epoch 00041: val_acc did not improve from 0.84020\n",
            "\n",
            "Epoch 00042: val_acc did not improve from 0.84020\n",
            "\n",
            "Epoch 00043: val_acc did not improve from 0.84020\n",
            "\n",
            "Epoch 00044: val_acc did not improve from 0.84020\n",
            "\n",
            "Epoch 00045: val_acc did not improve from 0.84020\n",
            "\n",
            "Epoch 00046: val_acc did not improve from 0.84020\n",
            "\n",
            "Epoch 00047: val_acc improved from 0.84020 to 0.84370, saving model to weights.best.hdf5\n",
            "\n",
            "Epoch 00048: val_acc did not improve from 0.84370\n",
            "\n",
            "Epoch 00049: val_acc did not improve from 0.84370\n",
            "\n",
            "Epoch 00050: val_acc did not improve from 0.84370\n"
          ],
          "name": "stdout"
        }
      ]
    },
    {
      "metadata": {
        "id": "b-8j86YQrLLF",
        "colab_type": "code",
        "outputId": "efdc7fc4-6a20-4b07-a54f-209f74c2a84f",
        "colab": {
          "base_uri": "https://localhost:8080/",
          "height": 377
        }
      },
      "cell_type": "code",
      "source": [
        "plt.plot(hist2.history['acc'])\n",
        "plt.plot(hist2.history['val_acc'])\n",
        "plt.title('model accuracy')\n",
        "plt.ylabel('accuracy')\n",
        "plt.xlabel('epoch')\n",
        "plt.legend(['train', 'test'], loc='upper left')\n",
        "plt.show()"
      ],
      "execution_count": 0,
      "outputs": [
        {
          "output_type": "display_data",
          "data": {
            "image/png": "[encoded data removed]",
            "text/plain": [
              "<Figure size 576x396 with 1 Axes>"
            ]
          },
          "metadata": {
            "tags": []
          }
        }
      ]
    },
    {
      "metadata": {
        "id": "iE1A39O_rOTv",
        "colab_type": "code",
        "outputId": "37e385e4-567a-4864-8cd7-f2037e6e8907",
        "colab": {
          "base_uri": "https://localhost:8080/",
          "height": 377
        }
      },
      "cell_type": "code",
      "source": [
        "plt.plot(hist2.history['loss'])\n",
        "plt.plot(hist2.history['val_loss'])\n",
        "plt.title('model loss')\n",
        "plt.ylabel('loss')\n",
        "plt.xlabel('epoch')\n",
        "plt.legend(['train', 'test'], loc='upper left')\n",
        "plt.show()"
      ],
      "execution_count": 0,
      "outputs": [
        {
          "output_type": "display_data",
          "data": {
            "image/png": "[encoded data removed]",
            "text/plain": [
              "<Figure size 576x396 with 1 Axes>"
            ]
          },
          "metadata": {
            "tags": []
          }
        }
      ]
    },
    {
      "metadata": {
        "id": "mos-G4XsJ2hF",
        "colab_type": "code",
        "outputId": "65845212-d03c-45c5-fcea-3a05e697b206",
        "colab": {
          "base_uri": "https://localhost:8080/",
          "height": 35
        }
      },
      "cell_type": "code",
      "source": [
        "# serialize model to JSON\n",
        "model_json = model.to_json()\n",
        "with open(\"model.json\", \"w\") as json_file:\n",
        "    json_file.write(model_json)\n",
        "# serialize weights to HDF5\n",
        "model.save_weights(\"model.h5\")\n",
        "print(\"Saved model to disk\")"
      ],
      "execution_count": 0,
      "outputs": [
        {
          "output_type": "stream",
          "text": [
            "Saved model to disk\n"
          ],
          "name": "stdout"
        }
      ]
    },
    {
      "metadata": {
        "id": "B4mg3fSdOGbr",
        "colab_type": "code",
        "outputId": "5de6ccb2-8f35-457a-c42a-10c8503c8d54",
        "colab": {
          "base_uri": "https://localhost:8080/",
          "height": 71
        }
      },
      "cell_type": "code",
      "source": [
        "scores = model.evaluate(x_test, y_test, verbose=1)\n",
        "print('Test loss:', scores[0])\n",
        "print('Test accuracy:', scores[1])"
      ],
      "execution_count": 0,
      "outputs": [
        {
          "output_type": "stream",
          "text": [
            "10000/10000 [==============================] - 2s 173us/step\n",
            "Test loss: 0.5143789597988129\n",
            "Test accuracy: 0.8423\n"
          ],
          "name": "stdout"
        }
      ]
    }
  ]
}